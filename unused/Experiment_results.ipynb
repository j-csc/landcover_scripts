{
 "cells": [
  {
   "cell_type": "markdown",
   "metadata": {},
   "source": [
    "## Experiments for segmentation model used to identify poultry houses\n",
    "\n",
    "### Terms/Vars\n",
    "\n",
    "tile_1 = m_3807537_ne\n",
    "\n",
    "Quadrangles / Regions / Set of tiles: \n",
    "\n",
    "poultry_region_1 = m_38075\n",
    "\n",
    "poultry_region_2 = m_38076\n",
    "\n",
    "poultry_region_3 = m_39075\n",
    "\n",
    "non_poultry_region_1 = m_38077\n",
    "\n",
    "non_poultry_region_2 = m_39077\n",
    "\n",
    "### Setups\n",
    "\n",
    "Model 1: Take 4000 random samples from tile_1, train on 2000 samples, test on 1000 samples and validate on 1000 samples.\n",
    "\n",
    "Model 2: Train on 50000 random samples from poultry_region_1, test on poultry_region_2 and validate on poultry_region_3\n",
    "\n",
    "##### Model_1 experiments\n",
    "\n",
    "1.1. Using model_1, Test on entire tile_1 \n",
    "    - Motivation: See how model performs, a starter\n",
    "\n",
    "1.2. Using model_1, test on other random tiles. (\"Other\" tiles have poultry houses)\n",
    "    - Motivation: See how model generalizes to tiles with poultry houses\n",
    "\n",
    "1.3. Using model_1, Test on another tile without poultry house\n",
    "    - Motivation: See how model generalizes to tiles without poultry houses\n",
    "\n",
    "##### Model_2 experiments\n",
    "\n",
    "- Motivation: See how model generalizes to tiles with/o poultry houses, and also to test experiment on larger scale\n",
    "\n",
    "2.1. Train on 50000 random samples from poultry_region_1, test on poultry_region_2 and validate on poultry_region_3\n",
    "\n",
    "2.2. Train on 50000 random samples from poultry_region_1,2,3, test on non_poultry_region_1,2.\n"
   ]
  },
  {
   "cell_type": "markdown",
   "metadata": {},
   "source": [
    "### Neccessary functions\n",
    "#### Get metrics"
   ]
  },
  {
   "cell_type": "code",
   "execution_count": 18,
   "metadata": {},
   "outputs": [],
   "source": [
    "import rasterio\n",
    "from rasterio.plot import show\n",
    "import matplotlib.pyplot as plt\n",
    "import numpy as np\n",
    "import fiona\n",
    "import matplotlib\n",
    "import glob\n",
    "import pandas as pd\n",
    "\n",
    "def get_metrics(pred_path):\n",
    "    src = rasterio.open(pred_path)\n",
    "    raw = np.array(src.read())\n",
    "    y_pred = (raw == 1) # chicken\n",
    "    y_pred = y_pred.astype(int)\n",
    "    y_pred = y_pred.squeeze()\n",
    "    \n",
    "    src_masked = rasterio.open(\"./m_3807537_ne_18_1_20170611_rasterized2.tif\")\n",
    "    y_true = np.array(src_masked.read())\n",
    "    y_true = y_true.squeeze()\n",
    "    tp = np.sum((y_true == 1) & (y_pred == 1))\n",
    "    tn = np.sum((y_true == 0) & (y_pred == 0))\n",
    "    fp = np.sum((y_true == 0) & (y_pred == 1))\n",
    "    fn = np.sum((y_true == 1) & (y_pred == 0))\n",
    "\n",
    "    assert tp + tn + fp + fn == y_true.size\n",
    "\n",
    "    n = tp + fp + tn + fn\n",
    "\n",
    "    acc = (tp+tn)/n\n",
    "    recall = (tp/(tp+fn))\n",
    "    precision = tp / (tp + fp)\n",
    "    iou = tp /(tp + fn + fp)\n",
    "\n",
    "#     print(\"IOU: {}\".format(iou))\n",
    "#     print(\"Accuracy: {}\".format(acc))\n",
    "#     print(\"Precision: {}\".format(precision))\n",
    "#     print(\"Recall: {}\".format(recall))\n",
    "    return iou, acc, precision, recall"
   ]
  },
  {
   "cell_type": "code",
   "execution_count": 29,
   "metadata": {},
   "outputs": [],
   "source": [
    "one_for_all = [\n",
    "    \"#FFFFFF\",\n",
    "    \"#FF0000\"\n",
    "]\n",
    "one_for_all_cmap = matplotlib.colors.ListedColormap(one_for_all)\n",
    "plt.rcParams[\"figure.figsize\"] = (20,10)\n",
    "def plot_tile(path):\n",
    "    src = rasterio.open(path)\n",
    "    plt.imshow(src.read(1),vmin=0, vmax=2, cmap=one_for_all_cmap)\n",
    "    plt.show()"
   ]
  },
  {
   "cell_type": "markdown",
   "metadata": {},
   "source": [
    "### Model 1\n",
    "\n",
    "#### Data description\n",
    "\n",
    "Here, samples = 150x150 patches\n",
    "\n",
    "Ratio of chicken house to non-chicken house: 0.27\n",
    "Number of chicken house patches: 1080\n",
    "Train on 2009 samples, validate on 991 samples\n",
    "\n",
    "Epoch 1: loss: 0.0624 - iou_coef: 0.9398 - val_loss: 0.0322 - val_iou_coef: 0.9667\n",
    "Epoch 2: loss: 0.0330 - iou_coef: 0.9656 - val_loss: 0.0317 - val_iou_coef: 0.9662\n",
    "Epoch 3: loss: 0.0297 - iou_coef: 0.9687 - val_loss: 0.0325 - val_iou_coef: 0.9651\n",
    "Epoch 4: loss: 0.0265 - iou_coef: 0.9717 - val_loss: 0.0257 - val_iou_coef: 0.9716\n",
    "\n",
    "Early stopped\n",
    "\n",
    "Test results on 1000 samples\n",
    "\n",
    "loss: 0.027708684034645558, iou_coef: 0.9688617587089539"
   ]
  },
  {
   "cell_type": "code",
   "execution_count": 24,
   "metadata": {},
   "outputs": [],
   "source": [
    "metrics = {}\n",
    "all_metrics = []"
   ]
  },
  {
   "cell_type": "code",
   "execution_count": 25,
   "metadata": {},
   "outputs": [],
   "source": [
    "exps = glob.glob('../landcover_scripts/test_run/single_tile_4000s_inf/*')\n",
    "for e in exps:\n",
    "    temp = {}\n",
    "    temp['model'] = e.split(\"/\")[-1]\n",
    "    temp_metrics = [*get_metrics(e)]\n",
    "    temp['iou'] = temp_metrics[0]\n",
    "    temp['acc'] = temp_metrics[1]\n",
    "    temp['precision'] = temp_metrics[2]\n",
    "    temp['recall'] = temp_metrics[3]\n",
    "    all_metrics.append(temp)"
   ]
  },
  {
   "cell_type": "code",
   "execution_count": 26,
   "metadata": {},
   "outputs": [
    {
     "data": {
      "text/html": [
       "<div>\n",
       "<style scoped>\n",
       "    .dataframe tbody tr th:only-of-type {\n",
       "        vertical-align: middle;\n",
       "    }\n",
       "\n",
       "    .dataframe tbody tr th {\n",
       "        vertical-align: top;\n",
       "    }\n",
       "\n",
       "    .dataframe thead th {\n",
       "        text-align: right;\n",
       "    }\n",
       "</style>\n",
       "<table border=\"1\" class=\"dataframe\">\n",
       "  <thead>\n",
       "    <tr style=\"text-align: right;\">\n",
       "      <th></th>\n",
       "      <th>model</th>\n",
       "      <th>iou</th>\n",
       "      <th>acc</th>\n",
       "      <th>precision</th>\n",
       "      <th>recall</th>\n",
       "    </tr>\n",
       "  </thead>\n",
       "  <tbody>\n",
       "    <tr>\n",
       "      <th>0</th>\n",
       "      <td>ae_tuned_model_02_single_inference.tif</td>\n",
       "      <td>0.704366</td>\n",
       "      <td>0.997044</td>\n",
       "      <td>0.733813</td>\n",
       "      <td>0.946100</td>\n",
       "    </tr>\n",
       "    <tr>\n",
       "      <th>1</th>\n",
       "      <td>ae_tuned_model_04_single_inference.tif</td>\n",
       "      <td>0.781518</td>\n",
       "      <td>0.998095</td>\n",
       "      <td>0.842289</td>\n",
       "      <td>0.915482</td>\n",
       "    </tr>\n",
       "    <tr>\n",
       "      <th>2</th>\n",
       "      <td>ae_tuned_model_03_single_inference.tif</td>\n",
       "      <td>0.747645</td>\n",
       "      <td>0.997860</td>\n",
       "      <td>0.859290</td>\n",
       "      <td>0.851947</td>\n",
       "    </tr>\n",
       "    <tr>\n",
       "      <th>3</th>\n",
       "      <td>ae_tuned_model_01_single_inference.tif</td>\n",
       "      <td>0.733203</td>\n",
       "      <td>0.997613</td>\n",
       "      <td>0.813599</td>\n",
       "      <td>0.881235</td>\n",
       "    </tr>\n",
       "  </tbody>\n",
       "</table>\n",
       "</div>"
      ],
      "text/plain": [
       "                                    model       iou       acc  precision  \\\n",
       "0  ae_tuned_model_02_single_inference.tif  0.704366  0.997044   0.733813   \n",
       "1  ae_tuned_model_04_single_inference.tif  0.781518  0.998095   0.842289   \n",
       "2  ae_tuned_model_03_single_inference.tif  0.747645  0.997860   0.859290   \n",
       "3  ae_tuned_model_01_single_inference.tif  0.733203  0.997613   0.813599   \n",
       "\n",
       "     recall  \n",
       "0  0.946100  \n",
       "1  0.915482  \n",
       "2  0.851947  \n",
       "3  0.881235  "
      ]
     },
     "execution_count": 26,
     "metadata": {},
     "output_type": "execute_result"
    }
   ],
   "source": [
    "pd.DataFrame(all_metrics)"
   ]
  },
  {
   "cell_type": "markdown",
   "metadata": {},
   "source": [
    "#### Visualization"
   ]
  },
  {
   "cell_type": "code",
   "execution_count": 65,
   "metadata": {},
   "outputs": [
    {
     "data": {
      "text/plain": [
       "<matplotlib.axes._subplots.AxesSubplot at 0x7fccd3fa39b0>"
      ]
     },
     "execution_count": 65,
     "metadata": {},
     "output_type": "execute_result"
    },
    {
     "data": {
      "image/png": "[encoded data removed]",
      "text/plain": [
       "<Figure size 1512x1512 with 4 Axes>"
      ]
     },
     "metadata": {
      "needs_background": "light"
     },
     "output_type": "display_data"
    }
   ],
   "source": [
    "src1 = rasterio.open(exps[0])\n",
    "src2 = rasterio.open(exps[1])\n",
    "src3 = rasterio.open(exps[2])\n",
    "src4 = rasterio.open(exps[3])\n",
    "fig, ([ax1, ax2], [ax3, ax4]) = plt.subplots(2,2, figsize=(21,21))\n",
    "show((src1, 1), ax=ax2, title=exps[0].split(\"/\")[-1])\n",
    "show((src2, 1), ax=ax4, title=exps[1].split(\"/\")[-1])\n",
    "show((src3, 1), ax=ax3, title=exps[2].split(\"/\")[-1])\n",
    "show((src4, 1), ax=ax1, title=exps[3].split(\"/\")[-1])"
   ]
  },
  {
   "cell_type": "code",
   "execution_count": null,
   "metadata": {},
   "outputs": [],
   "source": []
  }
 ],
 "metadata": {
  "kernelspec": {
   "display_name": "ai4e",
   "language": "python",
   "name": "ai4e"
  },
  "language_info": {
   "codemirror_mode": {
    "name": "ipython",
    "version": 3
   },
   "file_extension": ".py",
   "mimetype": "text/x-python",
   "name": "python",
   "nbconvert_exporter": "python",
   "pygments_lexer": "ipython3",
   "version": "3.6.10"
  }
 },
 "nbformat": 4,
 "nbformat_minor": 2
}
