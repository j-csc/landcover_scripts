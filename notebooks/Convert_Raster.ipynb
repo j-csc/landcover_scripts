{
 "cells": [
  {
   "cell_type": "code",
   "execution_count": 1,
   "metadata": {},
   "outputs": [],
   "source": [
    "import fiona"
   ]
  },
  {
   "cell_type": "code",
   "execution_count": 2,
   "metadata": {
    "scrolled": false
   },
   "outputs": [
    {
     "name": "stderr",
     "output_type": "stream",
     "text": [
      "\n",
      "Bad key \"text.kerning_factor\" on line 4 in\n",
      "/home/jason/anaconda3/envs/ai4e/lib/python3.6/site-packages/matplotlib/mpl-data/stylelib/_classic_test_patch.mplstyle.\n",
      "You probably need to get an updated matplotlibrc file from\n",
      "https://github.com/matplotlib/matplotlib/blob/v3.1.3/matplotlibrc.template\n",
      "or from the matplotlib source distribution\n"
     ]
    }
   ],
   "source": [
    "import sys, os, time\n",
    "import math\n",
    "\n",
    "import cv2\n",
    "import numpy as np\n",
    "import matplotlib\n",
    "import matplotlib.pyplot as plt\n",
    "\n",
    "import shapely.geometry\n",
    "import rasterio\n",
    "import rasterio.features\n",
    "import geopandas as gpd\n",
    "\n",
    "def distance(pt1, pt2):\n",
    "    return math.sqrt((pt1[0] - pt2[0])**2 + (pt1[1] - pt2[1])**2)\n",
    "\n",
    "def get_side_lengths(shape):\n",
    "    xs, ys = shape.boundary.xy\n",
    "    pts = list(zip(xs, ys))\n",
    "    lengths = []\n",
    "    for i in range(len(pts)-1):\n",
    "        lengths.append(distance(pts[i], pts[i+1]))\n",
    "    assert len(lengths) == 4\n",
    "    return sorted(lengths)\n",
    "\n",
    "cmap = matplotlib.colors.ListedColormap([\n",
    "    \"#000000\",\n",
    "    \"#FF0000\"\n",
    "])"
   ]
  },
  {
   "cell_type": "code",
   "execution_count": 10,
   "metadata": {},
   "outputs": [
    {
     "data": {
      "text/plain": [
       "(7622, 6116)"
      ]
     },
     "execution_count": 10,
     "metadata": {},
     "output_type": "execute_result"
    }
   ],
   "source": [
    "with rasterio.open(\"../landcover_scripts/all_test_inference_md/m_3807501_nw_18_1_20170609_inference.tif\") as f:\n",
    "    data = f.read().squeeze()\n",
    "    data_transform = f.transform\n",
    "    data_crs = f.crs\n",
    "data.shape"
   ]
  },
  {
   "cell_type": "code",
   "execution_count": 11,
   "metadata": {},
   "outputs": [
    {
     "data": {
      "text/plain": [
       "649"
      ]
     },
     "execution_count": 11,
     "metadata": {},
     "output_type": "execute_result"
    }
   ],
   "source": [
    "mask = data == 2\n",
    "polygons = list(\n",
    "    {'properties': {'raster_val': v}, 'geometry': s}\n",
    "    for i, (s, v) in enumerate(rasterio.features.shapes(data, mask=mask, transform=data_transform))\n",
    ")\n",
    "len(polygons)"
   ]
  },
  {
   "cell_type": "code",
   "execution_count": 12,
   "metadata": {},
   "outputs": [
    {
     "data": {
      "text/plain": [
       "162"
      ]
     },
     "execution_count": 12,
     "metadata": {},
     "output_type": "execute_result"
    }
   ],
   "source": [
    "shape_area_threshold = 10\n",
    "\n",
    "polygons_filtered_by_size = []\n",
    "for polygon in polygons:\n",
    "    shape = shapely.geometry.shape(polygon[\"geometry\"])\n",
    "        \n",
    "    if shape.area > shape_area_threshold:\n",
    "        polygons_filtered_by_size.append(polygon)\n",
    "len(polygons_filtered_by_size)"
   ]
  },
  {
   "cell_type": "code",
   "execution_count": 13,
   "metadata": {},
   "outputs": [
    {
     "data": {
      "text/plain": [
       "17"
      ]
     },
     "execution_count": 13,
     "metadata": {},
     "output_type": "execute_result"
    }
   ],
   "source": [
    "aspect_ratio_threshold = 4\n",
    "\n",
    "polygons_filtered_by_aspect_ratio = []\n",
    "for polygon in polygons_filtered_by_size:\n",
    "    shape = shapely.geometry.shape(polygon[\"geometry\"])\n",
    "    \n",
    "    side_lengths = get_side_lengths(shape.minimum_rotated_rectangle)    \n",
    "    short_length = min(side_lengths)\n",
    "    long_length = max(side_lengths)\n",
    "    \n",
    "    aspect_ratio = long_length / short_length\n",
    "    if aspect_ratio > aspect_ratio_threshold:\n",
    "        polygons_filtered_by_aspect_ratio.append(polygon)\n",
    "len(polygons_filtered_by_aspect_ratio)"
   ]
  },
  {
   "cell_type": "markdown",
   "metadata": {},
   "source": [
    "is their a way to plot all polygonns"
   ]
  },
  {
   "cell_type": "code",
   "execution_count": 14,
   "metadata": {},
   "outputs": [],
   "source": [
    "with fiona.open(\n",
    "    \"md_test.geojson\", 'w',\n",
    "    driver=\"GeoJSON\",\n",
    "    crs=f.crs,\n",
    "    schema={'properties': [('raster_val', 'int')], 'geometry': 'Polygon'}\n",
    ") as dst:\n",
    "    dst.writerecords(polygons_filtered_by_aspect_ratio)"
   ]
  },
  {
   "cell_type": "code",
   "execution_count": null,
   "metadata": {},
   "outputs": [],
   "source": []
  }
 ],
 "metadata": {
  "kernelspec": {
   "display_name": "ai4e",
   "language": "python",
   "name": "ai4e"
  },
  "language_info": {
   "codemirror_mode": {
    "name": "ipython",
    "version": 3
   },
   "file_extension": ".py",
   "mimetype": "text/x-python",
   "name": "python",
   "nbconvert_exporter": "python",
   "pygments_lexer": "ipython3",
   "version": "3.6.10"
  }
 },
 "nbformat": 4,
 "nbformat_minor": 4
}
