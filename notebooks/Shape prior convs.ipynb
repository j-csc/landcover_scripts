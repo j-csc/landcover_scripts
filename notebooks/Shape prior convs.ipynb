{
 "cells": [
  {
   "cell_type": "code",
   "execution_count": 2,
   "metadata": {},
   "outputs": [],
   "source": [
    "%matplotlib inline\n",
    "import sys, os, time\n",
    "os.environ['CUDA_VISIBLE_DEVICES'] = \"0\"\n",
    "import math\n",
    "\n",
    "# import cv2\n",
    "import scipy.signal\n",
    "from skimage.transform import rotate\n",
    "\n",
    "import numpy as np\n",
    "import matplotlib\n",
    "import matplotlib.pyplot as plt\n",
    "\n",
    "import fiona\n",
    "import shapely.geometry\n",
    "import rasterio\n",
    "import rasterio.features\n",
    "\n",
    "import torch\n",
    "import torch.nn"
   ]
  },
  {
   "cell_type": "code",
   "execution_count": 3,
   "metadata": {},
   "outputs": [
    {
     "name": "stdout",
     "output_type": "stream",
     "text": [
      "[0 1]\n",
      "[  0 255]\n"
     ]
    },
    {
     "data": {
      "text/plain": [
       "(7586, 6110)"
      ]
     },
     "execution_count": 3,
     "metadata": {},
     "output_type": "execute_result"
    }
   ],
   "source": [
    "with rasterio.open(\"../test_inference_50.tif\") as f:\n",
    "    data = f.read().squeeze()\n",
    "    data_transform = f.transform\n",
    "    data_crs = f.crs\n",
    "print(np.unique(data))\n",
    "data -= 1\n",
    "print(np.unique(data))\n",
    "data.shape"
   ]
  },
  {
   "cell_type": "code",
   "execution_count": 4,
   "metadata": {},
   "outputs": [
    {
     "data": {
      "text/plain": [
       "<matplotlib.image.AxesImage at 0x7ff24c2590f0>"
      ]
     },
     "execution_count": 4,
     "metadata": {},
     "output_type": "execute_result"
    },
    {
     "data": {
      "image/png": "[encoded data removed]",
      "text/plain": [
       "<Figure size 432x288 with 1 Axes>"
      ]
     },
     "metadata": {
      "needs_background": "light"
     },
     "output_type": "display_data"
    }
   ],
   "source": [
    "plt.imshow(data)"
   ]
  },
  {
   "cell_type": "code",
   "execution_count": 5,
   "metadata": {},
   "outputs": [],
   "source": [
    "def generate_rectangle(aspect_ratio, height, width, rotation, min_pixel=100):\n",
    "    redo = True\n",
    "    img = np.zeros((width, height), dtype=np.uint8)\n",
    "    while redo == True:\n",
    "        start_x = np.random.randint(width//2)\n",
    "        start_y = np.random.randint(height//2)\n",
    "\n",
    "        # Chooses from short side...\n",
    "        short_side = np.random.randint(height//3)\n",
    "        long_side  = short_side * aspect_ratio\n",
    "\n",
    "        end_y = int(start_y + short_side)\n",
    "        end_x = int(start_x + long_side)\n",
    "\n",
    "        # Get center\n",
    "        center_x = (max(start_x,end_x) - min(start_x, end_x)) / 2\n",
    "        center_y = (max(start_y,end_y) - min(start_y, end_y)) / 2\n",
    "\n",
    "        rec = cv2.rectangle(img, (start_x, start_y), (end_x, end_y), (10,10,10), -1)\n",
    "        img = rotate(image=img, angle=rotation)\n",
    "\n",
    "        area = short_side * long_side\n",
    "        percent_area = area / (height*width) \n",
    "        \n",
    "        # Make sure there's no empty images (at least 100 pixels are in img)\n",
    "        if np.count_nonzero(img) < (min_pixel) or percent_area < 0.1:\n",
    "            # reset\n",
    "            redo = True\n",
    "            img = np.zeros((width, height), dtype=np.uint8)\n",
    "        else:\n",
    "            redo = False\n",
    "                    \n",
    "    return img / img.sum()"
   ]
  },
  {
   "cell_type": "code",
   "execution_count": 6,
   "metadata": {},
   "outputs": [],
   "source": [
    "aspect_ratio = lambda: np.random.normal(loc=9.07, scale=1.71)"
   ]
  },
  {
   "cell_type": "code",
   "execution_count": 7,
   "metadata": {},
   "outputs": [
    {
     "ename": "NameError",
     "evalue": "name 'cv2' is not defined",
     "output_type": "error",
     "traceback": [
      "\u001b[0;31m---------------------------------------------------------------------------\u001b[0m",
      "\u001b[0;31mNameError\u001b[0m                                 Traceback (most recent call last)",
      "\u001b[0;32m<ipython-input-7-a4ed6dc9bda2>\u001b[0m in \u001b[0;36m<module>\u001b[0;34m\u001b[0m\n\u001b[1;32m      1\u001b[0m \u001b[0mpos_kernels\u001b[0m \u001b[0;34m=\u001b[0m \u001b[0;34m[\u001b[0m\u001b[0;34m]\u001b[0m\u001b[0;34m\u001b[0m\u001b[0;34m\u001b[0m\u001b[0m\n\u001b[1;32m      2\u001b[0m \u001b[0;32mfor\u001b[0m \u001b[0mi\u001b[0m \u001b[0;32min\u001b[0m \u001b[0mrange\u001b[0m\u001b[0;34m(\u001b[0m\u001b[0;36m36\u001b[0m\u001b[0;34m)\u001b[0m\u001b[0;34m:\u001b[0m\u001b[0;34m\u001b[0m\u001b[0;34m\u001b[0m\u001b[0m\n\u001b[0;32m----> 3\u001b[0;31m     \u001b[0mrect\u001b[0m \u001b[0;34m=\u001b[0m \u001b[0mgenerate_rectangle\u001b[0m\u001b[0;34m(\u001b[0m\u001b[0maspect_ratio\u001b[0m\u001b[0;34m(\u001b[0m\u001b[0;34m)\u001b[0m\u001b[0;34m,\u001b[0m \u001b[0;36m432\u001b[0m\u001b[0;34m,\u001b[0m \u001b[0;36m288\u001b[0m\u001b[0;34m,\u001b[0m \u001b[0mnp\u001b[0m\u001b[0;34m.\u001b[0m\u001b[0mrandom\u001b[0m\u001b[0;34m.\u001b[0m\u001b[0mrandint\u001b[0m\u001b[0;34m(\u001b[0m\u001b[0;36m360\u001b[0m\u001b[0;34m)\u001b[0m\u001b[0;34m,\u001b[0m \u001b[0;36m800\u001b[0m\u001b[0;34m)\u001b[0m\u001b[0;34m\u001b[0m\u001b[0;34m\u001b[0m\u001b[0m\n\u001b[0m\u001b[1;32m      4\u001b[0m     \u001b[0mpos_kernels\u001b[0m\u001b[0;34m.\u001b[0m\u001b[0mappend\u001b[0m\u001b[0;34m(\u001b[0m\u001b[0mrect\u001b[0m\u001b[0;34m)\u001b[0m\u001b[0;34m\u001b[0m\u001b[0;34m\u001b[0m\u001b[0m\n\u001b[1;32m      5\u001b[0m \u001b[0;34m\u001b[0m\u001b[0m\n",
      "\u001b[0;32m<ipython-input-5-3764e03976d8>\u001b[0m in \u001b[0;36mgenerate_rectangle\u001b[0;34m(aspect_ratio, height, width, rotation, min_pixel)\u001b[0m\n\u001b[1;32m     17\u001b[0m         \u001b[0mcenter_y\u001b[0m \u001b[0;34m=\u001b[0m \u001b[0;34m(\u001b[0m\u001b[0mmax\u001b[0m\u001b[0;34m(\u001b[0m\u001b[0mstart_y\u001b[0m\u001b[0;34m,\u001b[0m\u001b[0mend_y\u001b[0m\u001b[0;34m)\u001b[0m \u001b[0;34m-\u001b[0m \u001b[0mmin\u001b[0m\u001b[0;34m(\u001b[0m\u001b[0mstart_y\u001b[0m\u001b[0;34m,\u001b[0m \u001b[0mend_y\u001b[0m\u001b[0;34m)\u001b[0m\u001b[0;34m)\u001b[0m \u001b[0;34m/\u001b[0m \u001b[0;36m2\u001b[0m\u001b[0;34m\u001b[0m\u001b[0;34m\u001b[0m\u001b[0m\n\u001b[1;32m     18\u001b[0m \u001b[0;34m\u001b[0m\u001b[0m\n\u001b[0;32m---> 19\u001b[0;31m         \u001b[0mrec\u001b[0m \u001b[0;34m=\u001b[0m \u001b[0mcv2\u001b[0m\u001b[0;34m.\u001b[0m\u001b[0mrectangle\u001b[0m\u001b[0;34m(\u001b[0m\u001b[0mimg\u001b[0m\u001b[0;34m,\u001b[0m \u001b[0;34m(\u001b[0m\u001b[0mstart_x\u001b[0m\u001b[0;34m,\u001b[0m \u001b[0mstart_y\u001b[0m\u001b[0;34m)\u001b[0m\u001b[0;34m,\u001b[0m \u001b[0;34m(\u001b[0m\u001b[0mend_x\u001b[0m\u001b[0;34m,\u001b[0m \u001b[0mend_y\u001b[0m\u001b[0;34m)\u001b[0m\u001b[0;34m,\u001b[0m \u001b[0;34m(\u001b[0m\u001b[0;36m10\u001b[0m\u001b[0;34m,\u001b[0m\u001b[0;36m10\u001b[0m\u001b[0;34m,\u001b[0m\u001b[0;36m10\u001b[0m\u001b[0;34m)\u001b[0m\u001b[0;34m,\u001b[0m \u001b[0;34m-\u001b[0m\u001b[0;36m1\u001b[0m\u001b[0;34m)\u001b[0m\u001b[0;34m\u001b[0m\u001b[0;34m\u001b[0m\u001b[0m\n\u001b[0m\u001b[1;32m     20\u001b[0m         \u001b[0mimg\u001b[0m \u001b[0;34m=\u001b[0m \u001b[0mrotate\u001b[0m\u001b[0;34m(\u001b[0m\u001b[0mimage\u001b[0m\u001b[0;34m=\u001b[0m\u001b[0mimg\u001b[0m\u001b[0;34m,\u001b[0m \u001b[0mangle\u001b[0m\u001b[0;34m=\u001b[0m\u001b[0mrotation\u001b[0m\u001b[0;34m)\u001b[0m\u001b[0;34m\u001b[0m\u001b[0;34m\u001b[0m\u001b[0m\n\u001b[1;32m     21\u001b[0m \u001b[0;34m\u001b[0m\u001b[0m\n",
      "\u001b[0;31mNameError\u001b[0m: name 'cv2' is not defined"
     ]
    }
   ],
   "source": [
    "pos_kernels = []\n",
    "for i in range(36):\n",
    "    rect = generate_rectangle(aspect_ratio(), 432, 288, np.random.randint(360), 800)\n",
    "    pos_kernels.append(rect)\n",
    "    \n",
    "neg_kernels = []\n",
    "for pos_kernel in pos_kernels:\n",
    "    neg_kernel = 1 - pos_kernel.copy()\n",
    "    neg_kernel = neg_kernel / (neg_kernel.sum() + 0.00001)\n",
    "    neg_kernels.append(neg_kernel)"
   ]
  },
  {
   "cell_type": "code",
   "execution_count": null,
   "metadata": {},
   "outputs": [],
   "source": [
    "for pos_kernel in neg_kernels:\n",
    "    plt.figure(figsize=(4,4))\n",
    "    plt.imshow(pos_kernel)\n",
    "    plt.show()\n",
    "    plt.close()\n",
    "\n",
    "# plt.figure(figsize=(4,4))\n",
    "# plt.imshow(pos_kernels[1])\n",
    "# plt.show()\n",
    "# plt.close()"
   ]
  },
  {
   "cell_type": "code",
   "execution_count": null,
   "metadata": {},
   "outputs": [],
   "source": [
    "!pip install descartes"
   ]
  },
  {
   "cell_type": "code",
   "execution_count": null,
   "metadata": {},
   "outputs": [],
   "source": [
    "import shapely.geometry\n",
    "import rasterio\n",
    "import rasterio.features\n",
    "import geopandas as gpd\n",
    "\n",
    "def post_processing(input_fn, area_thresh, aspect_ratio_thresh):\n",
    "    def get_side_lengths(shape):\n",
    "        def distance(pt1, pt2):\n",
    "            return math.sqrt((pt1[0] - pt2[0])**2 + (pt1[1] - pt2[1])**2)\n",
    "        xs, ys = shape.boundary.xy\n",
    "        pts = list(zip(xs, ys))\n",
    "        lengths = []\n",
    "        for i in range(len(pts)-1):\n",
    "            lengths.append(distance(pts[i], pts[i+1]))\n",
    "        assert len(lengths) == 4\n",
    "        return sorted(lengths)\n",
    "\n",
    "    data = None\n",
    "    with rasterio.open(input_fn) as f:\n",
    "        data = f.read().squeeze()\n",
    "        data_transform = f.transform\n",
    "        data_crs = f.crs\n",
    "        \n",
    "    mask = data == 2\n",
    "    polygons = list(\n",
    "        {'properties': {'raster_val': v}, 'geometry': s}\n",
    "        for i, (s, v) in enumerate(rasterio.features.shapes(data, mask=mask, transform=data_transform))\n",
    "    )\n",
    "\n",
    "    print(len(polygons))\n",
    "    \n",
    "    # Filter by shape\n",
    "    shape_area_threshold = area_thresh\n",
    "\n",
    "    polygons_filtered_by_size = []\n",
    "    for polygon in polygons:\n",
    "        shape = shapely.geometry.shape(polygon[\"geometry\"])\n",
    "\n",
    "        if shape.area > shape_area_threshold:\n",
    "            polygons_filtered_by_size.append(polygon)\n",
    "    \n",
    "    print(len(polygons_filtered_by_size))\n",
    "            \n",
    "    # Filter by aspect ratio\n",
    "    aspect_ratio_threshold = aspect_ratio_thresh\n",
    "\n",
    "    polygons_filtered_by_aspect_ratio = []\n",
    "    poly_list = []\n",
    "    for polygon in polygons_filtered_by_size:\n",
    "        shape = shapely.geometry.shape(polygon[\"geometry\"])\n",
    "\n",
    "\n",
    "        side_lengths = get_side_lengths(shape.minimum_rotated_rectangle)    \n",
    "        short_length = min(side_lengths)\n",
    "        long_length = max(side_lengths)\n",
    "\n",
    "        aspect_ratio = long_length / short_length\n",
    "        if aspect_ratio > aspect_ratio_threshold:\n",
    "            polygons_filtered_by_aspect_ratio.append(polygon)\n",
    "            poly_list.append(shape)\n",
    "\n",
    "    print(len(polygons_filtered_by_aspect_ratio))\n",
    "            \n",
    "    polys_gdf = gpd.GeoDataFrame(geometry=poly_list)\n",
    "    list_of_polygons = []\n",
    "    polygons_filtered_by_aspect_ratio_and_size = []\n",
    "\n",
    "    for i in range(len(polys_gdf)):\n",
    "        plt.close('all')\n",
    "        fig, ax = plt.subplots()\n",
    "        ax.axis('off')\n",
    "        polys_gdf.loc[[i],'geometry'].plot(ax = ax)\n",
    "        fig.canvas.draw()\n",
    "        arr = np.array(fig.canvas.renderer.buffer_rgba())[:,:,0]\n",
    "        arr[arr == 255] = 0\n",
    "        arr[arr == 31] = 1\n",
    "        list_of_polygons.append(arr)\n",
    "        polygons_filtered_by_aspect_ratio_and_size.append(polygons_filtered_by_aspect_ratio[i])\n",
    "    \n",
    "    return list_of_polygons, polygons_filtered_by_aspect_ratio_and_size, data_crs"
   ]
  },
  {
   "cell_type": "code",
   "execution_count": null,
   "metadata": {},
   "outputs": [],
   "source": [
    "lop,polygons_filtered_by_aspect_ratio_and_size,crs = post_processing(\"../landcover_scripts/temp_123/test_inference_ae_even_3807537/ae_tuned_model_even_05_0.21.tif\", 525, 4)\n"
   ]
  },
  {
   "cell_type": "code",
   "execution_count": null,
   "metadata": {},
   "outputs": [],
   "source": [
    "lop[0].shape"
   ]
  },
  {
   "cell_type": "code",
   "execution_count": null,
   "metadata": {},
   "outputs": [],
   "source": [
    "plt.imshow(lop[0])"
   ]
  },
  {
   "cell_type": "code",
   "execution_count": null,
   "metadata": {},
   "outputs": [],
   "source": [
    "test = lop[0]\n",
    "test[np.newaxis, np.newaxis, :, :].shape"
   ]
  },
  {
   "cell_type": "code",
   "execution_count": null,
   "metadata": {},
   "outputs": [],
   "source": [
    "data_torch = torch.from_numpy(data[np.newaxis, np.newaxis, :, :].astype(np.float16)).to(\"cuda\")\n",
    "data_torch.require_grad = False\n",
    "data_torch.shape"
   ]
  },
  {
   "cell_type": "code",
   "execution_count": 8,
   "metadata": {},
   "outputs": [
    {
     "ename": "IndexError",
     "evalue": "too many indices for array",
     "output_type": "error",
     "traceback": [
      "\u001b[0;31m---------------------------------------------------------------------------\u001b[0m",
      "\u001b[0;31mIndexError\u001b[0m                                Traceback (most recent call last)",
      "\u001b[0;32m<ipython-input-8-4cf460dd4f3f>\u001b[0m in \u001b[0;36m<module>\u001b[0;34m\u001b[0m\n\u001b[1;32m      1\u001b[0m \u001b[0mpos_kernels\u001b[0m \u001b[0;34m=\u001b[0m \u001b[0mnp\u001b[0m\u001b[0;34m.\u001b[0m\u001b[0marray\u001b[0m\u001b[0;34m(\u001b[0m\u001b[0mpos_kernels\u001b[0m\u001b[0;34m)\u001b[0m\u001b[0;34m\u001b[0m\u001b[0;34m\u001b[0m\u001b[0m\n\u001b[0;32m----> 2\u001b[0;31m \u001b[0mpos_kernels\u001b[0m \u001b[0;34m=\u001b[0m \u001b[0mpos_kernels\u001b[0m\u001b[0;34m[\u001b[0m\u001b[0;34m:\u001b[0m\u001b[0;34m,\u001b[0m\u001b[0mnp\u001b[0m\u001b[0;34m.\u001b[0m\u001b[0mnewaxis\u001b[0m\u001b[0;34m,\u001b[0m\u001b[0;34m:\u001b[0m\u001b[0;34m,\u001b[0m\u001b[0;34m:\u001b[0m\u001b[0;34m]\u001b[0m\u001b[0;34m\u001b[0m\u001b[0;34m\u001b[0m\u001b[0m\n\u001b[0m\u001b[1;32m      3\u001b[0m \u001b[0mpos_kernels\u001b[0m \u001b[0;34m=\u001b[0m \u001b[0mtorch\u001b[0m\u001b[0;34m.\u001b[0m\u001b[0mfrom_numpy\u001b[0m\u001b[0;34m(\u001b[0m\u001b[0mpos_kernels\u001b[0m\u001b[0;34m.\u001b[0m\u001b[0mastype\u001b[0m\u001b[0;34m(\u001b[0m\u001b[0mnp\u001b[0m\u001b[0;34m.\u001b[0m\u001b[0mfloat16\u001b[0m\u001b[0;34m)\u001b[0m\u001b[0;34m)\u001b[0m\u001b[0;34m.\u001b[0m\u001b[0mto\u001b[0m\u001b[0;34m(\u001b[0m\u001b[0;34m\"cuda\"\u001b[0m\u001b[0;34m)\u001b[0m\u001b[0;34m\u001b[0m\u001b[0;34m\u001b[0m\u001b[0m\n\u001b[1;32m      4\u001b[0m \u001b[0mpos_kernels\u001b[0m\u001b[0;34m.\u001b[0m\u001b[0mrequire_grad\u001b[0m \u001b[0;34m=\u001b[0m \u001b[0;32mFalse\u001b[0m\u001b[0;34m\u001b[0m\u001b[0;34m\u001b[0m\u001b[0m\n\u001b[1;32m      5\u001b[0m \u001b[0mpos_kernels\u001b[0m\u001b[0;34m.\u001b[0m\u001b[0mshape\u001b[0m\u001b[0;34m\u001b[0m\u001b[0;34m\u001b[0m\u001b[0m\n",
      "\u001b[0;31mIndexError\u001b[0m: too many indices for array"
     ]
    }
   ],
   "source": [
    "pos_kernels = np.array(pos_kernels)\n",
    "pos_kernels = pos_kernels[:,np.newaxis,:,:]\n",
    "pos_kernels = torch.from_numpy(pos_kernels.astype(np.float16)).to(\"cuda\")\n",
    "pos_kernels.require_grad = False\n",
    "pos_kernels.shape"
   ]
  },
  {
   "cell_type": "code",
   "execution_count": 9,
   "metadata": {},
   "outputs": [
    {
     "ename": "NameError",
     "evalue": "name 'neg_kernels' is not defined",
     "output_type": "error",
     "traceback": [
      "\u001b[0;31m---------------------------------------------------------------------------\u001b[0m",
      "\u001b[0;31mNameError\u001b[0m                                 Traceback (most recent call last)",
      "\u001b[0;32m<ipython-input-9-8cc06b73d6fa>\u001b[0m in \u001b[0;36m<module>\u001b[0;34m\u001b[0m\n\u001b[0;32m----> 1\u001b[0;31m \u001b[0mneg_kernels\u001b[0m \u001b[0;34m=\u001b[0m \u001b[0mnp\u001b[0m\u001b[0;34m.\u001b[0m\u001b[0marray\u001b[0m\u001b[0;34m(\u001b[0m\u001b[0mneg_kernels\u001b[0m\u001b[0;34m)\u001b[0m\u001b[0;34m\u001b[0m\u001b[0;34m\u001b[0m\u001b[0m\n\u001b[0m\u001b[1;32m      2\u001b[0m \u001b[0mneg_kernels\u001b[0m \u001b[0;34m=\u001b[0m \u001b[0mneg_kernels\u001b[0m\u001b[0;34m[\u001b[0m\u001b[0;34m:\u001b[0m\u001b[0;34m,\u001b[0m\u001b[0mnp\u001b[0m\u001b[0;34m.\u001b[0m\u001b[0mnewaxis\u001b[0m\u001b[0;34m,\u001b[0m\u001b[0;34m:\u001b[0m\u001b[0;34m,\u001b[0m\u001b[0;34m:\u001b[0m\u001b[0;34m]\u001b[0m\u001b[0;34m\u001b[0m\u001b[0;34m\u001b[0m\u001b[0m\n\u001b[1;32m      3\u001b[0m \u001b[0mneg_kernels\u001b[0m \u001b[0;34m=\u001b[0m \u001b[0mtorch\u001b[0m\u001b[0;34m.\u001b[0m\u001b[0mfrom_numpy\u001b[0m\u001b[0;34m(\u001b[0m\u001b[0mneg_kernels\u001b[0m\u001b[0;34m.\u001b[0m\u001b[0mastype\u001b[0m\u001b[0;34m(\u001b[0m\u001b[0mnp\u001b[0m\u001b[0;34m.\u001b[0m\u001b[0mfloat16\u001b[0m\u001b[0;34m)\u001b[0m\u001b[0;34m)\u001b[0m\u001b[0;34m.\u001b[0m\u001b[0mto\u001b[0m\u001b[0;34m(\u001b[0m\u001b[0;34m\"cuda\"\u001b[0m\u001b[0;34m)\u001b[0m\u001b[0;34m\u001b[0m\u001b[0;34m\u001b[0m\u001b[0m\n\u001b[1;32m      4\u001b[0m \u001b[0mneg_kernels\u001b[0m\u001b[0;34m.\u001b[0m\u001b[0mrequire_grad\u001b[0m \u001b[0;34m=\u001b[0m \u001b[0;32mFalse\u001b[0m\u001b[0;34m\u001b[0m\u001b[0;34m\u001b[0m\u001b[0m\n\u001b[1;32m      5\u001b[0m \u001b[0mneg_kernels\u001b[0m\u001b[0;34m.\u001b[0m\u001b[0mshape\u001b[0m\u001b[0;34m\u001b[0m\u001b[0;34m\u001b[0m\u001b[0m\n",
      "\u001b[0;31mNameError\u001b[0m: name 'neg_kernels' is not defined"
     ]
    }
   ],
   "source": [
    "neg_kernels = np.array(neg_kernels)\n",
    "neg_kernels = neg_kernels[:,np.newaxis,:,:]\n",
    "neg_kernels = torch.from_numpy(neg_kernels.astype(np.float16)).to(\"cuda\")\n",
    "neg_kernels.require_grad = False\n",
    "neg_kernels.shape"
   ]
  },
  {
   "cell_type": "code",
   "execution_count": 15,
   "metadata": {},
   "outputs": [
    {
     "name": "stdout",
     "output_type": "stream",
     "text": [
      "CPU times: user 5.87 s, sys: 3.47 s, total: 9.34 s\n",
      "Wall time: 9.33 s\n"
     ]
    },
    {
     "data": {
      "text/plain": [
       "(7622, 6122, 36)"
      ]
     },
     "execution_count": 15,
     "metadata": {},
     "output_type": "execute_result"
    }
   ],
   "source": [
    "%%time\n",
    "outputs_pos = torch.nn.functional.conv2d(data_torch, pos_kernels, padding=25)\n",
    "\n",
    "with torch.no_grad():\n",
    "    outputs_pos = outputs_pos.cpu().numpy().astype(np.float32)\n",
    "outputs_pos = np.rollaxis(outputs_pos.squeeze(), 0, 3)\n",
    "torch.cuda.empty_cache()\n",
    "outputs_pos.shape"
   ]
  },
  {
   "cell_type": "code",
   "execution_count": 16,
   "metadata": {},
   "outputs": [
    {
     "name": "stdout",
     "output_type": "stream",
     "text": [
      "CPU times: user 5.11 s, sys: 6.47 s, total: 11.6 s\n",
      "Wall time: 11.6 s\n"
     ]
    },
    {
     "data": {
      "text/plain": [
       "(7622, 6122, 36)"
      ]
     },
     "execution_count": 16,
     "metadata": {},
     "output_type": "execute_result"
    }
   ],
   "source": [
    "%%time\n",
    "outputs_neg = torch.nn.functional.conv2d(1-data_torch, neg_kernels, padding=25)\n",
    "\n",
    "with torch.no_grad():\n",
    "    outputs_neg = outputs_neg.cpu().numpy().astype(np.float32)\n",
    "outputs_neg = np.rollaxis(outputs_neg.squeeze(), 0, 3)\n",
    "torch.cuda.empty_cache()\n",
    "outputs_neg.shape"
   ]
  },
  {
   "cell_type": "code",
   "execution_count": 17,
   "metadata": {},
   "outputs": [],
   "source": [
    "data_small = data[2000:3500,1000:2500]\n",
    "outputs_pos_small = outputs_pos[2000:3500,1000:2500]\n",
    "outputs_neg_small = outputs_neg[2000:3500,1000:2500]"
   ]
  },
  {
   "cell_type": "code",
   "execution_count": 35,
   "metadata": {},
   "outputs": [
    {
     "data": {
      "image/png": "[encoded data removed]",
      "text/plain": [
       "<Figure size 878.4x1108.8 with 1 Axes>"
      ]
     },
     "metadata": {
      "needs_background": "light"
     },
     "output_type": "display_data"
    }
   ],
   "source": [
    "plt.figure(figsize=(12.2, 15.4))\n",
    "plt.imshow((outputs_pos_small.sum(axis=2) + outputs_neg_small.sum(axis=2)) > 38, vmin=0)\n",
    "#plt.colorbar()\n",
    "plt.show()\n",
    "plt.close()"
   ]
  },
  {
   "cell_type": "code",
   "execution_count": 27,
   "metadata": {},
   "outputs": [
    {
     "data": {
      "image/png": "[encoded data removed]",
      "text/plain": [
       "<Figure size 878.4x1108.8 with 1 Axes>"
      ]
     },
     "metadata": {
      "needs_background": "light"
     },
     "output_type": "display_data"
    }
   ],
   "source": [
    "plt.figure(figsize=(1\n",
    "                    2.2, 15.4))\n",
    "plt.imshow(data_small)\n",
    "plt.show()\n",
    "plt.close()"
   ]
  },
  {
   "cell_type": "code",
   "execution_count": null,
   "metadata": {},
   "outputs": [],
   "source": []
  }
 ],
 "metadata": {
  "kernelspec": {
   "display_name": "Python 3",
   "language": "python",
   "name": "python3"
  },
  "language_info": {
   "codemirror_mode": {
    "name": "ipython",
    "version": 3
   },
   "file_extension": ".py",
   "mimetype": "text/x-python",
   "name": "python",
   "nbconvert_exporter": "python",
   "pygments_lexer": "ipython3",
   "version": "3.7.3"
  }
 },
 "nbformat": 4,
 "nbformat_minor": 2
}
