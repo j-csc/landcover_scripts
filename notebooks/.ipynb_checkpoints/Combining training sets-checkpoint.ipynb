{
 "cells": [
  {
   "cell_type": "code",
   "execution_count": 3,
   "metadata": {},
   "outputs": [],
   "source": [
    "import sys, os, time\n",
    "sys.path.append(\"../\")\n",
    "sys.path.append(\"../web_tool/\")\n",
    "\n",
    "os.environ[\"CUDA_DEVICE_ORDER\"] = \"PCI_BUS_ID\"\n",
    "os.environ[\"CUDA_VISIBLE_DEVICES\"] = \"2\"\n",
    "os.environ['TF_CPP_MIN_LOG_LEVEL'] = \"3\"\n",
    "\n",
    "import joblib\n",
    "\n",
    "import numpy as np\n",
    "import rasterio\n",
    "import numpy as np\n",
    "import pandas as pd\n",
    "import json\n",
    "import matplotlib.pyplot as plt\n",
    "import seaborn as sns\n",
    "import fiona\n",
    "import fiona.transform"
   ]
  },
  {
   "cell_type": "code",
   "execution_count": 82,
   "metadata": {},
   "outputs": [],
   "source": [
    "request_list_1 = joblib.load(\"../landcover-old/data/1to4repae/test_23_request_list.p\")\n",
    "request_list_2 = joblib.load(\"../landcover-old/data/1to4repsup/test_17_request_list.p\")\n",
    "request_list_3 = joblib.load(\"../landcover-old/data/eqrepae1256/test_10_request_list.p\")\n",
    "request_list_4 = joblib.load(\"../landcover-old/data/eqrepsup/test_13_request_list.p\")\n",
    "req_lists = [request_list_1,request_list_2,request_list_3,request_list_4]"
   ]
  },
  {
   "cell_type": "code",
   "execution_count": 3,
   "metadata": {},
   "outputs": [],
   "source": [
    "output = {\n",
    "    \"type\": \"FeatureCollection\",\n",
    "    \"name\": \"hcmc\",\n",
    "    \"crs\": { \"type\": \"name\", \"properties\": {\"name\":\"urn:ogc:def:crs:EPSG::3857\"}},\n",
    "    \"features\": []\n",
    "}\n",
    "for request_list in req_lists:\n",
    "    for request in request_list:\n",
    "        if request[\"type\"] == \"correction\":\n",
    "\n",
    "            feature = {\n",
    "                \"type\": \"Feature\",\n",
    "                \"geometry\": {\n",
    "                    #\"type\": \"Polygon\",\n",
    "                    \"type\": \"Point\",\n",
    "                    \"coordinates\": None\n",
    "                },\n",
    "                \"properties\": { \"user_label\": request[\"value\"]}\n",
    "            }\n",
    "            xmin = request[\"extent\"][\"xmin\"]\n",
    "            xmax = request[\"extent\"][\"xmax\"]\n",
    "            ymin = request[\"extent\"][\"ymin\"]\n",
    "            ymax = request[\"extent\"][\"ymax\"]\n",
    "            polygon = [[xmin,ymax],[xmax,ymax],[xmax,ymin],[xmin,ymin],[xmin,ymax]]\n",
    "            #feature[\"geometry\"][\"coordinates\"] = [polygon]\n",
    "\n",
    "            point = [\n",
    "                (xmin+xmax)/2,\n",
    "                (ymin+ymax)/2\n",
    "            ]\n",
    "\n",
    "            feature[\"geometry\"][\"coordinates\"] = point\n",
    "\n",
    "            output[\"features\"].append(feature)"
   ]
  },
  {
   "cell_type": "code",
   "execution_count": 4,
   "metadata": {},
   "outputs": [],
   "source": [
    "with open(\"all_corrections.json\", \"w\") as f:\n",
    "    f.write(json.dumps(output))"
   ]
  },
  {
   "cell_type": "markdown",
   "metadata": {},
   "source": [
    "## Stats for all correction points"
   ]
  },
  {
   "cell_type": "code",
   "execution_count": 5,
   "metadata": {},
   "outputs": [],
   "source": [
    "data = json.load(open(\"all_corrections.json\"))\n",
    "df = pd.DataFrame()"
   ]
  },
  {
   "cell_type": "code",
   "execution_count": 22,
   "metadata": {},
   "outputs": [],
   "source": [
    "df['geometry'] = [x['geometry']['coordinates'] for x in data['features']]\n",
    "df['geometry'] = df['geometry'].apply(lambda x: ','.join(map(str, x)))\n",
    "df['user_label'] = [x['properties']['user_label'] for x in data['features']]"
   ]
  },
  {
   "cell_type": "code",
   "execution_count": 29,
   "metadata": {},
   "outputs": [
    {
     "data": {
      "text/plain": [
       "(1922, 2)"
      ]
     },
     "execution_count": 29,
     "metadata": {},
     "output_type": "execute_result"
    }
   ],
   "source": [
    "df.shape"
   ]
  },
  {
   "cell_type": "code",
   "execution_count": 39,
   "metadata": {},
   "outputs": [],
   "source": [
    "df = df.drop_duplicates()"
   ]
  },
  {
   "cell_type": "code",
   "execution_count": 111,
   "metadata": {},
   "outputs": [
    {
     "data": {
      "text/plain": [
       "(1742, 2)"
      ]
     },
     "execution_count": 111,
     "metadata": {},
     "output_type": "execute_result"
    }
   ],
   "source": [
    "df.shape"
   ]
  },
  {
   "cell_type": "code",
   "execution_count": 125,
   "metadata": {},
   "outputs": [
    {
     "data": {
      "text/plain": [
       "<matplotlib.axes._subplots.AxesSubplot at 0x7efcee0ad6d8>"
      ]
     },
     "execution_count": 125,
     "metadata": {},
     "output_type": "execute_result"
    },
    {
     "data": {
      "image/png": "[encoded data removed]",
      "text/plain": [
       "<Figure size 432x288 with 1 Axes>"
      ]
     },
     "metadata": {
      "needs_background": "light"
     },
     "output_type": "display_data"
    }
   ],
   "source": [
    "df.user_label.value_counts().plot(kind='bar')"
   ]
  },
  {
   "cell_type": "code",
   "execution_count": 126,
   "metadata": {},
   "outputs": [
    {
     "data": {
      "text/plain": [
       "4    576\n",
       "3    387\n",
       "2    338\n",
       "1    275\n",
       "0    166\n",
       "Name: user_label, dtype: int64"
      ]
     },
     "execution_count": 126,
     "metadata": {},
     "output_type": "execute_result"
    }
   ],
   "source": [
    "label_count = df.user_label.value_counts()\n",
    "label_count"
   ]
  },
  {
   "cell_type": "code",
   "execution_count": 127,
   "metadata": {},
   "outputs": [
    {
     "data": {
      "text/plain": [
       "1742"
      ]
     },
     "execution_count": 127,
     "metadata": {},
     "output_type": "execute_result"
    }
   ],
   "source": [
    "sum(label_count)"
   ]
  },
  {
   "cell_type": "code",
   "execution_count": 133,
   "metadata": {},
   "outputs": [],
   "source": [
    "clrs = [\n",
    "    \"#FF0000\",\n",
    "    \"#806060\",\n",
    "    \"#80FF80\",\n",
    "    \"#008000\",\n",
    "    \"#0000FF\"\n",
    "    ]"
   ]
  },
  {
   "cell_type": "code",
   "execution_count": 134,
   "metadata": {},
   "outputs": [
    {
     "data": {
      "text/plain": [
       "Text(0.5, 0, 'Classes')"
      ]
     },
     "execution_count": 134,
     "metadata": {},
     "output_type": "execute_result"
    },
    {
     "data": {
      "image/png": "[encoded data removed]",
      "text/plain": [
       "<Figure size 432x288 with 1 Axes>"
      ]
     },
     "metadata": {
      "needs_background": "light"
     },
     "output_type": "display_data"
    }
   ],
   "source": [
    "sns.barplot(['Chicken', 'Built','Field', 'Tree Canopy',  'Water'], label_count, alpha=0.8, palette=clrs)\n",
    "plt.ylabel('Number of samples')\n",
    "plt.xlabel('Classes')"
   ]
  },
  {
   "cell_type": "markdown",
   "metadata": {},
   "source": [
    "## Generate geojson w/o duplicates"
   ]
  },
  {
   "cell_type": "code",
   "execution_count": 84,
   "metadata": {},
   "outputs": [],
   "source": [
    "from collections import OrderedDict\n",
    "\n",
    "seen = OrderedDict()\n",
    "for row in data['features']:\n",
    "    oid = str(row['geometry'])\n",
    "    if oid not in seen:\n",
    "        seen[oid] = row"
   ]
  },
  {
   "cell_type": "code",
   "execution_count": 85,
   "metadata": {},
   "outputs": [
    {
     "data": {
      "text/plain": [
       "1742"
      ]
     },
     "execution_count": 85,
     "metadata": {},
     "output_type": "execute_result"
    }
   ],
   "source": [
    "len(seen.values())"
   ]
  },
  {
   "cell_type": "code",
   "execution_count": 96,
   "metadata": {},
   "outputs": [],
   "source": [
    "output = {\n",
    "    \"type\": \"FeatureCollection\",\n",
    "    \"name\": \"hcmc\",\n",
    "    \"crs\": { \"type\": \"name\", \"properties\": {\"name\":\"urn:ogc:def:crs:EPSG::3857\"}},\n",
    "    \"features\": []\n",
    "}\n",
    "dups = set()\n",
    "for request_list in req_lists:\n",
    "    for request in request_list:\n",
    "        if request[\"type\"] == \"correction\":\n",
    "\n",
    "            feature = {\n",
    "                \"type\": \"Feature\",\n",
    "                \"geometry\": {\n",
    "                    #\"type\": \"Polygon\",\n",
    "                    \"type\": \"Point\",\n",
    "                    \"coordinates\": None\n",
    "                },\n",
    "                \"properties\": { \"user_label\": request[\"value\"]}\n",
    "            }\n",
    "            xmin = request[\"extent\"][\"xmin\"]\n",
    "            xmax = request[\"extent\"][\"xmax\"]\n",
    "            ymin = request[\"extent\"][\"ymin\"]\n",
    "            ymax = request[\"extent\"][\"ymax\"]\n",
    "            polygon = [[xmin,ymax],[xmax,ymax],[xmax,ymin],[xmin,ymin],[xmin,ymax]]\n",
    "            #feature[\"geometry\"][\"coordinates\"] = [polygon]\n",
    "\n",
    "            point = [\n",
    "                (xmin+xmax)/2,\n",
    "                (ymin+ymax)/2\n",
    "            ]\n",
    "\n",
    "            feature[\"geometry\"][\"coordinates\"] = point\n",
    "            if str(point) not in dups:\n",
    "                dups.add(str(point))\n",
    "                output[\"features\"].append(feature)\n",
    "            "
   ]
  },
  {
   "cell_type": "code",
   "execution_count": 101,
   "metadata": {},
   "outputs": [],
   "source": [
    "with open(\"all_corrections_no_dups.json\", \"w\") as f:\n",
    "    f.write(json.dumps(output))"
   ]
  },
  {
   "cell_type": "code",
   "execution_count": 107,
   "metadata": {},
   "outputs": [],
   "source": [
    "dat = json.load(open(\"all_corrections_no_dups.json\"))"
   ]
  },
  {
   "cell_type": "code",
   "execution_count": 110,
   "metadata": {},
   "outputs": [
    {
     "data": {
      "text/plain": [
       "1742"
      ]
     },
     "execution_count": 110,
     "metadata": {},
     "output_type": "execute_result"
    }
   ],
   "source": [
    "len(dat['features'])"
   ]
  },
  {
   "cell_type": "markdown",
   "metadata": {},
   "source": [
    "## Sampling"
   ]
  },
  {
   "cell_type": "code",
   "execution_count": 4,
   "metadata": {},
   "outputs": [
    {
     "name": "stdout",
     "output_type": "stream",
     "text": [
      "Loading tiles...\n"
     ]
    }
   ],
   "source": [
    "print(\"Loading tiles...\")\n",
    "f = rasterio.open(\"../landcover-old/web_tool/tiles/m_3807537_ne_18_1_20170611.mrf\")\n",
    "data = np.rollaxis(f.read(), 0, 3)\n",
    "profile = f.profile\n",
    "transform = f.profile[\"transform\"]\n",
    "src_crs = f.crs.to_string()\n",
    "f.close()\n",
    "f = fiona.open(\"all_corrections_no_dups.geojson\")\n",
    "coords = []\n",
    "labels = []\n",
    "for line in f:\n",
    "    label = line[\"properties\"][\"user_label\"]\n",
    "    geom = fiona.transform.transform_geom(f.crs[\"init\"], src_crs, line[\"geometry\"])\n",
    "    lon, lat = geom[\"coordinates\"]\n",
    "    y, x = ~transform * (lon, lat)\n",
    "    y = int(y)\n",
    "    x = int(x)\n",
    "    coords.append((x,y))\n",
    "    labels.append(label)\n",
    "f.close()\n",
    "\n",
    "coords = np.array(coords)\n",
    "labels = np.array(labels)"
   ]
  },
  {
   "cell_type": "markdown",
   "metadata": {},
   "source": [
    "Example distribution of uneven sampling:\n",
    "\n",
    "4.0    375\n",
    "3.0    129\n",
    "2.0    123\n",
    "1.0     73\n",
    "0.0     50\n",
    "\n",
    "Example distribution of even sampling:\n",
    "\n",
    "4.0    150\n",
    "3.0    150\n",
    "2.0    150\n",
    "1.0    150\n",
    "0.0    150\n"
   ]
  },
  {
   "cell_type": "code",
   "execution_count": 12,
   "metadata": {
    "scrolled": true
   },
   "outputs": [],
   "source": [
    "def build_train_set(coords, labels, samples, method='uneven', target_cls=4):\n",
    "    \n",
    "    unique_cls, count = np.unique(labels, return_counts=True)\n",
    "    \n",
    "    if (method == 'even' and ((samples // len(unique_cls)) > min(count))):\n",
    "        raise Exception('Too many samples requested')\n",
    "    elif (method == 'uneven' and ((samples // 2) > count[target_cls])\n",
    "             or ((samples // 2)> (sum(count) - count[target_cls]))):\n",
    "        raise Exception('Too many samples requested')\n",
    "    elif samples > coords.shape[0]:\n",
    "        raise Exception('Too many samples requested')\n",
    "    \n",
    "    coords_samples = np.zeros((samples,2), dtype=np.int32)\n",
    "    labels_samples = np.zeros(samples)\n",
    "    \n",
    "    # Sampling without replacement?\n",
    "    used_idx = set()\n",
    "    \n",
    "    # Uneven sampling\n",
    "    if method == 'uneven':\n",
    "        # Random subsampling chicken classes first\n",
    "        each_class_size = samples // 2\n",
    "        for i in range(each_class_size):\n",
    "            rand_idx = np.random.randint(coords.shape[0])\n",
    "            while(labels[rand_idx] != target_cls or (rand_idx in used_idx)):\n",
    "                rand_idx = np.random.randint(coords.shape[0])\n",
    "            coords_samples[i] = coords[rand_idx]\n",
    "            labels_samples[i] = labels[rand_idx]\n",
    "            used_idx.add(rand_idx) # sampling without replacement?\n",
    "\n",
    "        # Random subsampling from all non chicken classes\n",
    "        for i in range(each_class_size):\n",
    "            rand_idx = np.random.randint(coords.shape[0])\n",
    "            while (labels[rand_idx] != target_cls or (rand_idx in used_idx)):\n",
    "                rand_idx = np.random.randint(coords.shape[0])\n",
    "            coords_samples[i+each_class_size] = coords[rand_idx]\n",
    "            labels_samples[i+each_class_size] = labels[rand_idx]\n",
    "            used_idx.add(rand_idx)\n",
    "            \n",
    "    # Even sampling\n",
    "    elif method == 'even':\n",
    "        # Random subsampling of all classes\n",
    "        each_class_size = samples // len(unique_cls)\n",
    "        for c in (unique_cls):\n",
    "            for i in range(each_class_size):\n",
    "                rand_idx = np.random.randint(coords.shape[0])\n",
    "                while(labels[rand_idx] != c or (rand_idx in used_idx)):\n",
    "                    rand_idx = np.random.randint(coords.shape[0])\n",
    "                coords_samples[c*each_class_size + i] = coords[rand_idx]\n",
    "                labels_samples[c*each_class_size + i] = labels[rand_idx]\n",
    "                used_idx.add(rand_idx) # sampling without replacement?\n",
    "    else:\n",
    "        raise Exception('Sampling method not specified')\n",
    "        \n",
    "    \n",
    "    return coords_samples, labels_samples\n",
    "    \n",
    "cs, ls = build_train_set(coords, labels, 750, method='even')"
   ]
  },
  {
   "cell_type": "code",
   "execution_count": 165,
   "metadata": {},
   "outputs": [],
   "source": [
    "cls_0 = df[df.label == 0]\n",
    "cls_1 = df[df.label == 1]\n",
    "cls_2 = df[df.label == 2]\n",
    "cls_3 = df[df.label == 3]\n",
    "non_chicken_cls = pd.concat([cls_0, cls_1, cls_2, cls_3])"
   ]
  },
  {
   "cell_type": "code",
   "execution_count": 22,
   "metadata": {},
   "outputs": [
    {
     "data": {
      "text/plain": [
       "0    600\n",
       "1    150\n",
       "dtype: int64"
      ]
     },
     "execution_count": 22,
     "metadata": {},
     "output_type": "execute_result"
    }
   ],
   "source": [
    "pd.Series(ls).value_counts()"
   ]
  },
  {
   "cell_type": "code",
   "execution_count": 21,
   "metadata": {},
   "outputs": [],
   "source": [
    "ls = np.where(ls != 4, 0, 1)"
   ]
  },
  {
   "cell_type": "code",
   "execution_count": 24,
   "metadata": {},
   "outputs": [],
   "source": [
    "# x-dim, y-dim, # of bands\n",
    "x_train = np.zeros((coords.shape[0], 150, 150, 4), dtype=np.float32)\n",
    "# x_train = np.zeros((coords.shape[0], 240, 240, 4), dtype=np.float32)\n",
    "\n",
    "# x-dim, y-dim, # of classes + dummy index\n",
    "y_train = np.zeros((coords.shape[0], 150, 150, 2+1), dtype=np.uint8)\n",
    "# y_train = np.zeros((coords.shape[0], 240, 240, num_classes+1), dtype=np.uint8)"
   ]
  },
  {
   "cell_type": "code",
   "execution_count": 27,
   "metadata": {
    "scrolled": true
   },
   "outputs": [
    {
     "data": {
      "text/plain": [
       "(1742, 150, 150, 3)"
      ]
     },
     "execution_count": 27,
     "metadata": {},
     "output_type": "execute_result"
    }
   ],
   "source": [
    "y_train[:,:,:] = [1] + [0] * (y_train.shape[-1]-1)\n",
    "y_train.shape"
   ]
  },
  {
   "cell_type": "code",
   "execution_count": 28,
   "metadata": {},
   "outputs": [
    {
     "data": {
      "text/plain": [
       "array([[[[1, 0, 0],\n",
       "         [1, 0, 0],\n",
       "         [1, 0, 0],\n",
       "         ...,\n",
       "         [1, 0, 0],\n",
       "         [1, 0, 0],\n",
       "         [1, 0, 0]],\n",
       "\n",
       "        [[1, 0, 0],\n",
       "         [1, 0, 0],\n",
       "         [1, 0, 0],\n",
       "         ...,\n",
       "         [1, 0, 0],\n",
       "         [1, 0, 0],\n",
       "         [1, 0, 0]],\n",
       "\n",
       "        [[1, 0, 0],\n",
       "         [1, 0, 0],\n",
       "         [1, 0, 0],\n",
       "         ...,\n",
       "         [1, 0, 0],\n",
       "         [1, 0, 0],\n",
       "         [1, 0, 0]],\n",
       "\n",
       "        ...,\n",
       "\n",
       "        [[1, 0, 0],\n",
       "         [1, 0, 0],\n",
       "         [1, 0, 0],\n",
       "         ...,\n",
       "         [1, 0, 0],\n",
       "         [1, 0, 0],\n",
       "         [1, 0, 0]],\n",
       "\n",
       "        [[1, 0, 0],\n",
       "         [1, 0, 0],\n",
       "         [1, 0, 0],\n",
       "         ...,\n",
       "         [1, 0, 0],\n",
       "         [1, 0, 0],\n",
       "         [1, 0, 0]],\n",
       "\n",
       "        [[1, 0, 0],\n",
       "         [1, 0, 0],\n",
       "         [1, 0, 0],\n",
       "         ...,\n",
       "         [1, 0, 0],\n",
       "         [1, 0, 0],\n",
       "         [1, 0, 0]]],\n",
       "\n",
       "\n",
       "       [[[1, 0, 0],\n",
       "         [1, 0, 0],\n",
       "         [1, 0, 0],\n",
       "         ...,\n",
       "         [1, 0, 0],\n",
       "         [1, 0, 0],\n",
       "         [1, 0, 0]],\n",
       "\n",
       "        [[1, 0, 0],\n",
       "         [1, 0, 0],\n",
       "         [1, 0, 0],\n",
       "         ...,\n",
       "         [1, 0, 0],\n",
       "         [1, 0, 0],\n",
       "         [1, 0, 0]],\n",
       "\n",
       "        [[1, 0, 0],\n",
       "         [1, 0, 0],\n",
       "         [1, 0, 0],\n",
       "         ...,\n",
       "         [1, 0, 0],\n",
       "         [1, 0, 0],\n",
       "         [1, 0, 0]],\n",
       "\n",
       "        ...,\n",
       "\n",
       "        [[1, 0, 0],\n",
       "         [1, 0, 0],\n",
       "         [1, 0, 0],\n",
       "         ...,\n",
       "         [1, 0, 0],\n",
       "         [1, 0, 0],\n",
       "         [1, 0, 0]],\n",
       "\n",
       "        [[1, 0, 0],\n",
       "         [1, 0, 0],\n",
       "         [1, 0, 0],\n",
       "         ...,\n",
       "         [1, 0, 0],\n",
       "         [1, 0, 0],\n",
       "         [1, 0, 0]],\n",
       "\n",
       "        [[1, 0, 0],\n",
       "         [1, 0, 0],\n",
       "         [1, 0, 0],\n",
       "         ...,\n",
       "         [1, 0, 0],\n",
       "         [1, 0, 0],\n",
       "         [1, 0, 0]]],\n",
       "\n",
       "\n",
       "       [[[1, 0, 0],\n",
       "         [1, 0, 0],\n",
       "         [1, 0, 0],\n",
       "         ...,\n",
       "         [1, 0, 0],\n",
       "         [1, 0, 0],\n",
       "         [1, 0, 0]],\n",
       "\n",
       "        [[1, 0, 0],\n",
       "         [1, 0, 0],\n",
       "         [1, 0, 0],\n",
       "         ...,\n",
       "         [1, 0, 0],\n",
       "         [1, 0, 0],\n",
       "         [1, 0, 0]],\n",
       "\n",
       "        [[1, 0, 0],\n",
       "         [1, 0, 0],\n",
       "         [1, 0, 0],\n",
       "         ...,\n",
       "         [1, 0, 0],\n",
       "         [1, 0, 0],\n",
       "         [1, 0, 0]],\n",
       "\n",
       "        ...,\n",
       "\n",
       "        [[1, 0, 0],\n",
       "         [1, 0, 0],\n",
       "         [1, 0, 0],\n",
       "         ...,\n",
       "         [1, 0, 0],\n",
       "         [1, 0, 0],\n",
       "         [1, 0, 0]],\n",
       "\n",
       "        [[1, 0, 0],\n",
       "         [1, 0, 0],\n",
       "         [1, 0, 0],\n",
       "         ...,\n",
       "         [1, 0, 0],\n",
       "         [1, 0, 0],\n",
       "         [1, 0, 0]],\n",
       "\n",
       "        [[1, 0, 0],\n",
       "         [1, 0, 0],\n",
       "         [1, 0, 0],\n",
       "         ...,\n",
       "         [1, 0, 0],\n",
       "         [1, 0, 0],\n",
       "         [1, 0, 0]]],\n",
       "\n",
       "\n",
       "       ...,\n",
       "\n",
       "\n",
       "       [[[1, 0, 0],\n",
       "         [1, 0, 0],\n",
       "         [1, 0, 0],\n",
       "         ...,\n",
       "         [1, 0, 0],\n",
       "         [1, 0, 0],\n",
       "         [1, 0, 0]],\n",
       "\n",
       "        [[1, 0, 0],\n",
       "         [1, 0, 0],\n",
       "         [1, 0, 0],\n",
       "         ...,\n",
       "         [1, 0, 0],\n",
       "         [1, 0, 0],\n",
       "         [1, 0, 0]],\n",
       "\n",
       "        [[1, 0, 0],\n",
       "         [1, 0, 0],\n",
       "         [1, 0, 0],\n",
       "         ...,\n",
       "         [1, 0, 0],\n",
       "         [1, 0, 0],\n",
       "         [1, 0, 0]],\n",
       "\n",
       "        ...,\n",
       "\n",
       "        [[1, 0, 0],\n",
       "         [1, 0, 0],\n",
       "         [1, 0, 0],\n",
       "         ...,\n",
       "         [1, 0, 0],\n",
       "         [1, 0, 0],\n",
       "         [1, 0, 0]],\n",
       "\n",
       "        [[1, 0, 0],\n",
       "         [1, 0, 0],\n",
       "         [1, 0, 0],\n",
       "         ...,\n",
       "         [1, 0, 0],\n",
       "         [1, 0, 0],\n",
       "         [1, 0, 0]],\n",
       "\n",
       "        [[1, 0, 0],\n",
       "         [1, 0, 0],\n",
       "         [1, 0, 0],\n",
       "         ...,\n",
       "         [1, 0, 0],\n",
       "         [1, 0, 0],\n",
       "         [1, 0, 0]]],\n",
       "\n",
       "\n",
       "       [[[1, 0, 0],\n",
       "         [1, 0, 0],\n",
       "         [1, 0, 0],\n",
       "         ...,\n",
       "         [1, 0, 0],\n",
       "         [1, 0, 0],\n",
       "         [1, 0, 0]],\n",
       "\n",
       "        [[1, 0, 0],\n",
       "         [1, 0, 0],\n",
       "         [1, 0, 0],\n",
       "         ...,\n",
       "         [1, 0, 0],\n",
       "         [1, 0, 0],\n",
       "         [1, 0, 0]],\n",
       "\n",
       "        [[1, 0, 0],\n",
       "         [1, 0, 0],\n",
       "         [1, 0, 0],\n",
       "         ...,\n",
       "         [1, 0, 0],\n",
       "         [1, 0, 0],\n",
       "         [1, 0, 0]],\n",
       "\n",
       "        ...,\n",
       "\n",
       "        [[1, 0, 0],\n",
       "         [1, 0, 0],\n",
       "         [1, 0, 0],\n",
       "         ...,\n",
       "         [1, 0, 0],\n",
       "         [1, 0, 0],\n",
       "         [1, 0, 0]],\n",
       "\n",
       "        [[1, 0, 0],\n",
       "         [1, 0, 0],\n",
       "         [1, 0, 0],\n",
       "         ...,\n",
       "         [1, 0, 0],\n",
       "         [1, 0, 0],\n",
       "         [1, 0, 0]],\n",
       "\n",
       "        [[1, 0, 0],\n",
       "         [1, 0, 0],\n",
       "         [1, 0, 0],\n",
       "         ...,\n",
       "         [1, 0, 0],\n",
       "         [1, 0, 0],\n",
       "         [1, 0, 0]]],\n",
       "\n",
       "\n",
       "       [[[1, 0, 0],\n",
       "         [1, 0, 0],\n",
       "         [1, 0, 0],\n",
       "         ...,\n",
       "         [1, 0, 0],\n",
       "         [1, 0, 0],\n",
       "         [1, 0, 0]],\n",
       "\n",
       "        [[1, 0, 0],\n",
       "         [1, 0, 0],\n",
       "         [1, 0, 0],\n",
       "         ...,\n",
       "         [1, 0, 0],\n",
       "         [1, 0, 0],\n",
       "         [1, 0, 0]],\n",
       "\n",
       "        [[1, 0, 0],\n",
       "         [1, 0, 0],\n",
       "         [1, 0, 0],\n",
       "         ...,\n",
       "         [1, 0, 0],\n",
       "         [1, 0, 0],\n",
       "         [1, 0, 0]],\n",
       "\n",
       "        ...,\n",
       "\n",
       "        [[1, 0, 0],\n",
       "         [1, 0, 0],\n",
       "         [1, 0, 0],\n",
       "         ...,\n",
       "         [1, 0, 0],\n",
       "         [1, 0, 0],\n",
       "         [1, 0, 0]],\n",
       "\n",
       "        [[1, 0, 0],\n",
       "         [1, 0, 0],\n",
       "         [1, 0, 0],\n",
       "         ...,\n",
       "         [1, 0, 0],\n",
       "         [1, 0, 0],\n",
       "         [1, 0, 0]],\n",
       "\n",
       "        [[1, 0, 0],\n",
       "         [1, 0, 0],\n",
       "         [1, 0, 0],\n",
       "         ...,\n",
       "         [1, 0, 0],\n",
       "         [1, 0, 0],\n",
       "         [1, 0, 0]]]], dtype=uint8)"
      ]
     },
     "execution_count": 28,
     "metadata": {},
     "output_type": "execute_result"
    }
   ],
   "source": [
    "y_train"
   ]
  },
  {
   "cell_type": "code",
   "execution_count": 31,
   "metadata": {},
   "outputs": [
    {
     "name": "stdout",
     "output_type": "stream",
     "text": [
      "1409 4690 1\n"
     ]
    }
   ],
   "source": [
    "y,x = cs[0]\n",
    "label = ls[0]\n",
    "\n",
    "print(y,x, label)\n",
    "# x_train[i] = data[y-75:y+74+1, x-75:x+74+1, :].copy()\n",
    "\n",
    "# y_train[i,75,75,0] = 0\n",
    "# y_train[i,75,75,label+1] = 1"
   ]
  },
  {
   "cell_type": "code",
   "execution_count": null,
   "metadata": {},
   "outputs": [],
   "source": [
    "#     df = pd.DataFrame(coords, columns=['x','y'])\n",
    "#     df['label'] = labels\n",
    "    \n",
    "#     cls_0 = df[df.label == 0]\n",
    "#     cls_1 = df[df.label == 1]\n",
    "#     cls_2 = df[df.label == 2]\n",
    "#     cls_3 = df[df.label == 3]\n",
    "    \n",
    "#     non_chicken_cls = pd.concat([cls_0, cls_1, cls_2, cls_3])\n",
    "#     chicken_cls = df[df.label == 4]\n"
   ]
  }
 ],
 "metadata": {
  "kernelspec": {
   "display_name": "ai4e",
   "language": "python",
   "name": "ai4e"
  },
  "language_info": {
   "codemirror_mode": {
    "name": "ipython",
    "version": 3
   },
   "file_extension": ".py",
   "mimetype": "text/x-python",
   "name": "python",
   "nbconvert_exporter": "python",
   "pygments_lexer": "ipython3",
   "version": "3.6.7"
  }
 },
 "nbformat": 4,
 "nbformat_minor": 2
}
