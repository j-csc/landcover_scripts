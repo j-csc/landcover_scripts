{
 "cells": [
  {
   "cell_type": "code",
   "execution_count": 76,
   "metadata": {},
   "outputs": [],
   "source": [
    "from skimage.draw import circle\n",
    "from skimage.io import imsave\n",
    "import numpy as np\n",
    "import matplotlib.pyplot as plt\n",
    "import cv2"
   ]
  },
  {
   "cell_type": "code",
   "execution_count": 95,
   "metadata": {},
   "outputs": [
    {
     "data": {
      "image/png": "[encoded data removed]",
      "text/plain": [
       "<Figure size 432x288 with 1 Axes>"
      ]
     },
     "metadata": {
      "needs_background": "light"
     },
     "output_type": "display_data"
    }
   ],
   "source": [
    "def generate_circle(x,y,r,height,width):\n",
    "    img = np.zeros((150, 150), dtype=np.uint8)\n",
    "    circle = cv2.circle(img, (x,y), r, (255, 255, 255), -1) \n",
    "    plt.imshow(circle)\n",
    "    return img\n",
    "\n",
    "for i in range(10):\n",
    "    img = generate_circle(np.random.randint(150), np.random.randint(150), np.random.randint(150//2), 300, 300)\n",
    "    imsave('circle{}.png'.format(i), img)"
   ]
  },
  {
   "cell_type": "code",
   "execution_count": null,
   "metadata": {},
   "outputs": [],
   "source": [
    "# def generate_rectangle(aspect_ratio, height, width, rotation):\n"
   ]
  }
 ],
 "metadata": {
  "kernelspec": {
   "display_name": "ai4e",
   "language": "python",
   "name": "ai4e"
  },
  "language_info": {
   "codemirror_mode": {
    "name": "ipython",
    "version": 3
   },
   "file_extension": ".py",
   "mimetype": "text/x-python",
   "name": "python",
   "nbconvert_exporter": "python",
   "pygments_lexer": "ipython3",
   "version": "3.6.7"
  }
 },
 "nbformat": 4,
 "nbformat_minor": 4
}
