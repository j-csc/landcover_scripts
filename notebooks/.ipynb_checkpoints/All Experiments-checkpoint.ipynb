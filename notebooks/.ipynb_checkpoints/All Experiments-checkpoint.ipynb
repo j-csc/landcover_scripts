{
 "cells": [
  {
   "cell_type": "code",
   "execution_count": 330,
   "metadata": {},
   "outputs": [],
   "source": [
    "import rasterio\n",
    "from rasterio.plot import show\n",
    "import matplotlib.pyplot as plt\n",
    "import numpy as np\n",
    "import fiona\n",
    "import matplotlib\n",
    "import glob\n",
    "import pandas as pd"
   ]
  },
  {
   "cell_type": "markdown",
   "metadata": {},
   "source": [
    "## Predefined functions"
   ]
  },
  {
   "cell_type": "code",
   "execution_count": 356,
   "metadata": {},
   "outputs": [],
   "source": [
    "def get_metrics(pred_path):\n",
    "    src = rasterio.open(pred_path)\n",
    "    raw = np.array(src.read())\n",
    "    y_pred = (raw == 1) # chicken\n",
    "    y_pred = y_pred.astype(int)\n",
    "    y_pred = y_pred.squeeze()\n",
    "    \n",
    "    src_masked = rasterio.open(\"./m_3807537_ne_18_1_20170611_rasterized2.tif\")\n",
    "    y_true = np.array(src_masked.read())\n",
    "    y_true = y_true.squeeze()\n",
    "    tp = np.sum((y_true == 1) & (y_pred == 1))\n",
    "    tn = np.sum((y_true == 0) & (y_pred == 0))\n",
    "    fp = np.sum((y_true == 0) & (y_pred == 1))\n",
    "    fn = np.sum((y_true == 1) & (y_pred == 0))\n",
    "\n",
    "    assert tp + tn + fp + fn == y_true.size\n",
    "\n",
    "    n = tp + fp + tn + fn\n",
    "\n",
    "    acc = (tp+tn)/n\n",
    "    recall = (tp/(tp+fn))\n",
    "    precision = tp / (tp + fp)\n",
    "    iou = tp /(tp + fn + fp)\n",
    "\n",
    "    print(\"IOU: {}\".format(iou))\n",
    "    print(\"Accuracy: {}\".format(acc))\n",
    "    print(\"Precision: {}\".format(precision))\n",
    "    print(\"Recall: {}\".format(recall))\n",
    "    return iou, acc, precision, recall"
   ]
  },
  {
   "cell_type": "code",
   "execution_count": 348,
   "metadata": {},
   "outputs": [],
   "source": [
    "one_for_all = [\n",
    "    \"#FFFFFF\",\n",
    "    \"#FF0000\"\n",
    "]\n",
    "one_for_all_cmap = matplotlib.colors.ListedColormap(one_for_all)\n",
    "plt.rcParams[\"figure.figsize\"] = (20,10)\n",
    "def plot_tile(path):\n",
    "    src = rasterio.open(path)\n",
    "    plt.imshow(src.read(1),vmin=0, vmax=2, cmap=one_for_all_cmap)\n",
    "    plt.show()"
   ]
  },
  {
   "cell_type": "code",
   "execution_count": 333,
   "metadata": {},
   "outputs": [],
   "source": [
    "metrics = {}\n",
    "all_metrics = []"
   ]
  },
  {
   "cell_type": "markdown",
   "metadata": {},
   "source": [
    "# Iterations"
   ]
  },
  {
   "cell_type": "code",
   "execution_count": 5,
   "metadata": {},
   "outputs": [
    {
     "name": "stdout",
     "output_type": "stream",
     "text": [
      "3807537_1.tif\n",
      "3807537_2.tif\n",
      "3807537_3.tif\n",
      "3807537_4.tif\n",
      "3807537_5.tif\n",
      "3807537_6.tif\n",
      "3807537_7.tif\n",
      "3807537_8.tif\n",
      "3807537_9.tif\n",
      "3807537_10.tif\n"
     ]
    }
   ],
   "source": [
    "import re\n",
    "experiments = glob.glob(\"../landcover_scripts/new/experiment*\")\n",
    "experiments.sort(key=lambda f: int(re.sub('\\D', '', f)))\n",
    "\n",
    "for e in experiments:\n",
    "    ename = (e.split(\"/\")[-1])\n",
    "    mtypes = (glob.glob(e+ \"/test_inference*/\"))\n",
    "    print(ename)\n",
    "    for m in mtypes:\n",
    "        model_res_files = (glob.glob(m + \"/*\"))\n",
    "        model_res_files.sort(key=lambda f: int(re.sub('\\D', '', f)))\n",
    "        print(m)\n",
    "        for f in model_res_files:\n",
    "            print(f)\n",
    "            fname = (f.split('/')[-1].split(\"_\"))\n",
    "            temp = {}\n",
    "            temp['experiment'] = ename\n",
    "            temp['model'] = fname[0]\n",
    "            temp['sampling'] = fname[3]\n",
    "            temp['epoch'] = fname[4]\n",
    "            temp_metrics = [*get_metrics(f)]\n",
    "            temp['iou'] = temp_metrics[0]\n",
    "            temp['acc'] = temp_metrics[1]\n",
    "            temp['precision'] = temp_metrics[2]\n",
    "            temp['recall'] = temp_metrics[3]\n",
    "            all_metrics.append(temp)"
   ]
  },
  {
   "cell_type": "code",
   "execution_count": null,
   "metadata": {},
   "outputs": [],
   "source": [
    "import re\n",
    "experiments = glob.glob(\"../landcover_scripts/new/experiment*\")\n",
    "experiments.sort(key=lambda f: int(re.sub('\\D', '', f)))\n",
    "\n",
    "for e in experiments:\n",
    "    ename = (e.split(\"/\")[-1])\n",
    "    mtypes = (glob.glob(e+ \"/test_inference*/\"))\n",
    "    print(ename)\n",
    "    for m in mtypes:\n",
    "        model_res_files = (glob.glob(m + \"/*\"))\n",
    "        model_res_files.sort(key=lambda f: int(re.sub('\\D', '', f)))\n",
    "        print(m)\n",
    "        for f in model_res_files:\n",
    "            print(f)\n",
    "            fname = (f.split('/')[-1].split(\"_\"))\n",
    "            temp = {}\n",
    "            temp['experiment'] = ename\n",
    "            temp['model'] = fname[0]\n",
    "            temp['sampling'] = fname[3]\n",
    "            temp['epoch'] = fname[4]\n",
    "            temp_metrics = [*get_metrics(f)]\n",
    "            temp['iou'] = temp_metrics[0]\n",
    "            temp['acc'] = temp_metrics[1]\n",
    "            temp['precision'] = temp_metrics[2]\n",
    "            temp['recall'] = temp_metrics[3]\n",
    "            all_metrics.append(temp)"
   ]
  },
  {
   "cell_type": "markdown",
   "metadata": {},
   "source": [
    "## View Results"
   ]
  },
  {
   "cell_type": "code",
   "execution_count": 26,
   "metadata": {},
   "outputs": [],
   "source": [
    "!cd ../landcover_scripts/new/experiment1/test_inference_ae_uneven/; ls"
   ]
  },
  {
   "cell_type": "code",
   "execution_count": 250,
   "metadata": {},
   "outputs": [],
   "source": [
    "xtrain = np.load('../landcover_scripts/xtrain.npy')\n",
    "ytrain = np.load('../landcover_scripts/ytrain.npy')"
   ]
  },
  {
   "cell_type": "code",
   "execution_count": null,
   "metadata": {},
   "outputs": [],
   "source": [
    "cd ../landcover_scripts"
   ]
  },
  {
   "cell_type": "code",
   "execution_count": 251,
   "metadata": {},
   "outputs": [],
   "source": [
    "gd_xtrain = np.load('../landcover_scripts/gd_xtrain.npy')\n",
    "gd_ytrain = np.load('../landcover_scripts/gd_ytrain.npy')"
   ]
  },
  {
   "cell_type": "code",
   "execution_count": 357,
   "metadata": {},
   "outputs": [
    {
     "name": "stdout",
     "output_type": "stream",
     "text": [
      "m_3807537_1.tif\n",
      "m_3807537_2.tif\n",
      "m_3807537_3.tif\n",
      "m_3807537_4.tif\n",
      "m_3807537_5.tif\n",
      "m_3807537_6.tif\n",
      "m_3807537_7.tif\n",
      "m_3807537_8.tif\n",
      "m_3807537_9.tif\n",
      "m_3807537_10.tif\n"
     ]
    }
   ],
   "source": [
    "import re\n",
    "experiments = glob.glob(\"../landcover_scripts/m_3807537_*\")\n",
    "experiments.sort(key=lambda f: int(re.sub('\\D', '', f)))\n",
    "metrics = {}\n",
    "all_metrics = []\n",
    "\n",
    "for e in experiments:\n",
    "    ename = (e.split(\"/\")[-1])\n",
    "    mtypes = (glob.glob(e+ \"/test_inference*/\"))\n",
    "    print(ename)\n",
    "    for m in mtypes:\n",
    "        model_res_files = (glob.glob(m + \"/*\"))\n",
    "        model_res_files.sort(key=lambda f: int(re.sub('\\D', '', f)))\n",
    "        fname = (f.split('/')[-1].split(\"_\"))\n",
    "#         temp = {}\n",
    "#         temp['experiment'] = ename\n",
    "#         temp['model'] = fname[0]\n",
    "#         temp['sampling'] = fname[3]\n",
    "#         temp['epoch'] = fname[4]\n",
    "#         temp_metrics = [*get_metrics(f)]\n",
    "#         temp['iou'] = temp_metrics[0]\n",
    "#         temp['acc'] = temp_metrics[1]\n",
    "#         temp['precision'] = temp_metrics[2]\n",
    "#         temp['recall'] = temp_metrics[3]\n",
    "#         all_metrics.append(temp)"
   ]
  },
  {
   "cell_type": "code",
   "execution_count": 311,
   "metadata": {},
   "outputs": [
    {
     "data": {
      "text/plain": [
       "(array([100, 101, 102, 103, 104, 105, 106, 107, 108, 109, 110, 111, 112,\n",
       "        113, 114, 115, 116, 117, 118, 119, 120, 121, 122, 123, 124, 125,\n",
       "        126, 127, 128, 129, 130, 131, 132, 133, 134, 135, 136, 137, 138,\n",
       "        139, 140, 141, 142, 143, 144, 145, 146, 147, 148, 149, 151, 152,\n",
       "        153, 154, 155, 156, 157, 159, 160, 161, 162, 163, 165, 166, 167,\n",
       "        168, 169, 170, 171, 172, 173, 174, 175, 176, 177, 178, 179, 180,\n",
       "        181, 182, 183, 184, 186, 187, 188, 189, 190, 191, 192, 193, 194,\n",
       "        195, 196, 197, 198, 199, 300, 301, 302, 303, 304, 305, 306, 307,\n",
       "        308, 309, 310, 311, 312, 313, 314, 315, 316, 317, 318, 319, 320,\n",
       "        321, 322, 323, 324, 325, 326, 327, 328, 329, 330, 331, 332, 333,\n",
       "        334, 335, 336, 337, 338, 339, 340, 341, 342, 343, 344, 345, 346,\n",
       "        347, 348, 349, 350, 351, 352, 353, 354, 355, 356, 357, 358, 359,\n",
       "        360, 361, 362, 363, 364, 365, 366, 367, 368, 369, 370, 371, 372,\n",
       "        373, 374, 375, 376, 377, 378, 379, 380, 381, 382, 383, 384, 385,\n",
       "        386, 387, 388, 389, 390, 391, 392, 393, 394, 395, 396, 397, 398,\n",
       "        399]),)"
      ]
     },
     "execution_count": 311,
     "metadata": {},
     "output_type": "execute_result"
    }
   ],
   "source": [
    "np.where(ytrain[:,75,75,-1] == 1)"
   ]
  },
  {
   "cell_type": "code",
   "execution_count": 309,
   "metadata": {},
   "outputs": [
    {
     "data": {
      "text/plain": [
       "array([0., 1.])"
      ]
     },
     "execution_count": 309,
     "metadata": {},
     "output_type": "execute_result"
    }
   ],
   "source": [
    "ytrain[100,75,75,]"
   ]
  },
  {
   "cell_type": "code",
   "execution_count": 275,
   "metadata": {
    "scrolled": true
   },
   "outputs": [
    {
     "data": {
      "text/plain": [
       "array([0. , 0.8, 0.2])"
      ]
     },
     "execution_count": 275,
     "metadata": {},
     "output_type": "execute_result"
    }
   ],
   "source": [
    "gd_ytrain[:,75,75,:].mean(axis=0)"
   ]
  },
  {
   "cell_type": "code",
   "execution_count": 276,
   "metadata": {},
   "outputs": [
    {
     "data": {
      "text/plain": [
       "array([0.804, 0.196])"
      ]
     },
     "execution_count": 276,
     "metadata": {},
     "output_type": "execute_result"
    }
   ],
   "source": [
    "ytrain[:,75,75,:].mean(axis=0)"
   ]
  },
  {
   "cell_type": "code",
   "execution_count": 334,
   "metadata": {},
   "outputs": [
    {
     "data": {
      "text/plain": [
       "(array([0, 1], dtype=uint8), array([37295638,  9054822]))"
      ]
     },
     "execution_count": 334,
     "metadata": {},
     "output_type": "execute_result"
    }
   ],
   "source": [
    "raw = rasterio.open(\"../landcover_scripts/m_3807537_2.tif\").read()\n",
    "np.unique(raw, return_counts=True)"
   ]
  },
  {
   "cell_type": "code",
   "execution_count": 350,
   "metadata": {},
   "outputs": [
    {
     "data": {
      "text/plain": [
       "array([[[0, 0, 0, ..., 0, 0, 0],\n",
       "        [0, 0, 0, ..., 0, 0, 0],\n",
       "        [0, 0, 0, ..., 0, 0, 0],\n",
       "        ...,\n",
       "        [1, 1, 1, ..., 0, 0, 0],\n",
       "        [1, 1, 1, ..., 0, 0, 0],\n",
       "        [1, 1, 1, ..., 0, 0, 0]]], dtype=uint8)"
      ]
     },
     "execution_count": 350,
     "metadata": {},
     "output_type": "execute_result"
    }
   ],
   "source": [
    "raw"
   ]
  },
  {
   "cell_type": "code",
   "execution_count": 355,
   "metadata": {
    "scrolled": false
   },
   "outputs": [
    {
     "data": {
      "image/png": "[encoded data removed]",
      "text/plain": [
       "<Figure size 1440x720 with 1 Axes>"
      ]
     },
     "metadata": {
      "needs_background": "light"
     },
     "output_type": "display_data"
    }
   ],
   "source": [
    "plot_tile(\"../landcover_scripts/m_3807537_4.tif\")"
   ]
  },
  {
   "cell_type": "code",
   "execution_count": 316,
   "metadata": {},
   "outputs": [],
   "source": [
    "f = rasterio.open(\"../landcover_scripts/binary_raster_md_tif/m_3807539_nw_18_1_20170611_inference_rasterized.tif\", \"r\")\n",
    "target = f.read().squeeze()\n",
    "f.close()\n",
    "\n",
    "# Poultry pixels\n",
    "y_ind,x_ind = np.where(target==1)"
   ]
  },
  {
   "cell_type": "code",
   "execution_count": 325,
   "metadata": {},
   "outputs": [
    {
     "data": {
      "text/plain": [
       "0.0038387613699418606"
      ]
     },
     "execution_count": 325,
     "metadata": {},
     "output_type": "execute_result"
    }
   ],
   "source": [
    "(target == 1).mean()"
   ]
  },
  {
   "cell_type": "code",
   "execution_count": 321,
   "metadata": {},
   "outputs": [
    {
     "data": {
      "text/plain": [
       "(177298, 177298)"
      ]
     },
     "execution_count": 321,
     "metadata": {},
     "output_type": "execute_result"
    }
   ],
   "source": [
    "len(y_ind), len(x_ind)"
   ]
  },
  {
   "cell_type": "code",
   "execution_count": 223,
   "metadata": {},
   "outputs": [],
   "source": [
    "raw = raw.squeeze()"
   ]
  },
  {
   "cell_type": "code",
   "execution_count": 224,
   "metadata": {},
   "outputs": [
    {
     "data": {
      "text/plain": [
       "array([[0, 0, 0, ..., 0, 0, 0],\n",
       "       [0, 0, 0, ..., 0, 0, 0],\n",
       "       [0, 0, 0, ..., 0, 0, 0],\n",
       "       ...,\n",
       "       [0, 0, 0, ..., 0, 0, 0],\n",
       "       [0, 0, 0, ..., 0, 0, 0],\n",
       "       [0, 0, 0, ..., 0, 0, 0]], dtype=uint8)"
      ]
     },
     "execution_count": 224,
     "metadata": {},
     "output_type": "execute_result"
    }
   ],
   "source": [
    "raw"
   ]
  },
  {
   "cell_type": "code",
   "execution_count": 118,
   "metadata": {},
   "outputs": [],
   "source": [
    "x_ind,y_ind = np.where(raw==1)"
   ]
  },
  {
   "cell_type": "code",
   "execution_count": 119,
   "metadata": {},
   "outputs": [
    {
     "data": {
      "text/plain": [
       "(7586, 6110)"
      ]
     },
     "execution_count": 119,
     "metadata": {},
     "output_type": "execute_result"
    }
   ],
   "source": [
    "raw.shape"
   ]
  },
  {
   "cell_type": "code",
   "execution_count": 61,
   "metadata": {
    "scrolled": true
   },
   "outputs": [
    {
     "data": {
      "text/plain": [
       "13750"
      ]
     },
     "execution_count": 61,
     "metadata": {},
     "output_type": "execute_result"
    }
   ],
   "source": [
    "np.random.randint(0,len(x_ind))"
   ]
  },
  {
   "cell_type": "code",
   "execution_count": 63,
   "metadata": {
    "scrolled": true
   },
   "outputs": [
    {
     "data": {
      "text/plain": [
       "3220"
      ]
     },
     "execution_count": 63,
     "metadata": {},
     "output_type": "execute_result"
    }
   ],
   "source": [
    "x_ind[1]"
   ]
  },
  {
   "cell_type": "code",
   "execution_count": 47,
   "metadata": {},
   "outputs": [
    {
     "data": {
      "text/plain": [
       "2"
      ]
     },
     "execution_count": 47,
     "metadata": {},
     "output_type": "execute_result"
    }
   ],
   "source": [
    "len(np.unique(raw))"
   ]
  },
  {
   "cell_type": "code",
   "execution_count": 112,
   "metadata": {},
   "outputs": [
    {
     "data": {
      "text/plain": [
       "iou          0.580091\n",
       "acc          0.996123\n",
       "precision    0.755853\n",
       "recall       0.717647\n",
       "Name: (ae, even, 07), dtype: float64"
      ]
     },
     "execution_count": 112,
     "metadata": {},
     "output_type": "execute_result"
    }
   ],
   "source": [
    "temp.loc[temp['iou'].idxmax()]"
   ]
  },
  {
   "cell_type": "code",
   "execution_count": 6,
   "metadata": {},
   "outputs": [
    {
     "data": {
      "text/html": [
       "<div>\n",
       "<style scoped>\n",
       "    .dataframe tbody tr th:only-of-type {\n",
       "        vertical-align: middle;\n",
       "    }\n",
       "\n",
       "    .dataframe tbody tr th {\n",
       "        vertical-align: top;\n",
       "    }\n",
       "\n",
       "    .dataframe thead th {\n",
       "        text-align: right;\n",
       "    }\n",
       "</style>\n",
       "<table border=\"1\" class=\"dataframe\">\n",
       "  <thead>\n",
       "    <tr style=\"text-align: right;\">\n",
       "      <th></th>\n",
       "      <th></th>\n",
       "      <th>iou</th>\n",
       "      <th>acc</th>\n",
       "      <th>precision</th>\n",
       "      <th>recall</th>\n",
       "    </tr>\n",
       "    <tr>\n",
       "      <th>model</th>\n",
       "      <th>sampling</th>\n",
       "      <th></th>\n",
       "      <th></th>\n",
       "      <th></th>\n",
       "      <th></th>\n",
       "    </tr>\n",
       "  </thead>\n",
       "  <tbody>\n",
       "    <tr>\n",
       "      <th rowspan=\"2\" valign=\"top\">ae</th>\n",
       "      <th>even</th>\n",
       "      <td>0.512503</td>\n",
       "      <td>0.994013</td>\n",
       "      <td>0.645399</td>\n",
       "      <td>0.737562</td>\n",
       "    </tr>\n",
       "    <tr>\n",
       "      <th>uneven</th>\n",
       "      <td>0.513756</td>\n",
       "      <td>0.993378</td>\n",
       "      <td>0.577458</td>\n",
       "      <td>0.841697</td>\n",
       "    </tr>\n",
       "    <tr>\n",
       "      <th rowspan=\"2\" valign=\"top\">sup</th>\n",
       "      <th>even</th>\n",
       "      <td>0.382851</td>\n",
       "      <td>0.985267</td>\n",
       "      <td>0.543049</td>\n",
       "      <td>0.686421</td>\n",
       "    </tr>\n",
       "    <tr>\n",
       "      <th>uneven</th>\n",
       "      <td>0.341361</td>\n",
       "      <td>0.974602</td>\n",
       "      <td>0.412274</td>\n",
       "      <td>0.773958</td>\n",
       "    </tr>\n",
       "  </tbody>\n",
       "</table>\n",
       "</div>"
      ],
      "text/plain": [
       "                     iou       acc  precision    recall\n",
       "model sampling                                         \n",
       "ae    even      0.512503  0.994013   0.645399  0.737562\n",
       "      uneven    0.513756  0.993378   0.577458  0.841697\n",
       "sup   even      0.382851  0.985267   0.543049  0.686421\n",
       "      uneven    0.341361  0.974602   0.412274  0.773958"
      ]
     },
     "execution_count": 6,
     "metadata": {},
     "output_type": "execute_result"
    }
   ],
   "source": [
    "df = pd.DataFrame(all_metrics)\n",
    "temp = df.groupby(['model', 'sampling'])\n",
    "temp.mean()"
   ]
  },
  {
   "cell_type": "code",
   "execution_count": 106,
   "metadata": {},
   "outputs": [],
   "source": [
    "temp = df.groupby(['model', 'sampling', 'epoch'])\n",
    "temp = temp.std()\n",
    "temp.to_csv('redo_all_std.csv')"
   ]
  },
  {
   "cell_type": "code",
   "execution_count": 107,
   "metadata": {},
   "outputs": [],
   "source": [
    "temp = df.groupby(['model', 'sampling', 'epoch'])\n",
    "temp = temp.mean()\n",
    "temp.to_csv('redo_all_mean.csv')"
   ]
  },
  {
   "cell_type": "code",
   "execution_count": 18,
   "metadata": {},
   "outputs": [],
   "source": [
    "df = pd.read_csv('redo_all_mean.csv')"
   ]
  },
  {
   "cell_type": "code",
   "execution_count": 19,
   "metadata": {},
   "outputs": [],
   "source": [
    "df.loc[df.model == 'ae', 'model'] = 'Self-supervised'\n",
    "df.loc[df.model == 'sup', 'model'] = 'Supervised'\n",
    "df.loc[df.model == 'even', 'sampling'] = 'Balanced'\n",
    "df.loc[df.model == 'uneven', 'sampling'] = 'Imbalanced'\n"
   ]
  },
  {
   "cell_type": "code",
   "execution_count": 29,
   "metadata": {},
   "outputs": [
    {
     "data": {
      "text/plain": [
       "Text(0, 0.5, 'IOU')"
      ]
     },
     "execution_count": 29,
     "metadata": {},
     "output_type": "execute_result"
    },
    {
     "data": {
      "image/png": "[encoded data removed]",
      "text/plain": [
       "<Figure size 864x432 with 1 Axes>"
      ]
     },
     "metadata": {
      "needs_background": "light"
     },
     "output_type": "display_data"
    }
   ],
   "source": [
    "fig, ax = plt.subplots(figsize=(12,6))\n",
    "\n",
    "for key, grp in df.groupby(['model', 'sampling']):\n",
    "    ax.plot(grp['epoch'], grp['iou'], label=key)\n",
    "    \n",
    "ax.legend()\n",
    "plt.title(\"IOU per Epcoh\", fontsize=16)\n",
    "plt.legend(loc='upper right',prop={'size': 10})\n",
    "\n",
    "plt.xlabel(\"Epoch\")\n",
    "plt.ylabel(\"IOU\")"
   ]
  },
  {
   "cell_type": "code",
   "execution_count": 48,
   "metadata": {},
   "outputs": [
    {
     "data": {
      "text/html": [
       "<div>\n",
       "<style scoped>\n",
       "    .dataframe tbody tr th:only-of-type {\n",
       "        vertical-align: middle;\n",
       "    }\n",
       "\n",
       "    .dataframe tbody tr th {\n",
       "        vertical-align: top;\n",
       "    }\n",
       "\n",
       "    .dataframe thead th {\n",
       "        text-align: right;\n",
       "    }\n",
       "</style>\n",
       "<table border=\"1\" class=\"dataframe\">\n",
       "  <thead>\n",
       "    <tr style=\"text-align: right;\">\n",
       "      <th></th>\n",
       "      <th>experiment</th>\n",
       "      <th>model</th>\n",
       "      <th>sampling</th>\n",
       "      <th>epoch</th>\n",
       "      <th>iou</th>\n",
       "      <th>acc</th>\n",
       "      <th>precision</th>\n",
       "      <th>recall</th>\n",
       "    </tr>\n",
       "  </thead>\n",
       "  <tbody>\n",
       "    <tr>\n",
       "      <th>358</th>\n",
       "      <td>experiment9</td>\n",
       "      <td>sup</td>\n",
       "      <td>even</td>\n",
       "      <td>09</td>\n",
       "      <td>0.698617</td>\n",
       "      <td>0.997161</td>\n",
       "      <td>0.768999</td>\n",
       "      <td>0.884168</td>\n",
       "    </tr>\n",
       "    <tr>\n",
       "      <th>33</th>\n",
       "      <td>experiment1</td>\n",
       "      <td>sup</td>\n",
       "      <td>even</td>\n",
       "      <td>04</td>\n",
       "      <td>0.680374</td>\n",
       "      <td>0.997125</td>\n",
       "      <td>0.797776</td>\n",
       "      <td>0.822170</td>\n",
       "    </tr>\n",
       "    <tr>\n",
       "      <th>82</th>\n",
       "      <td>experiment3</td>\n",
       "      <td>ae</td>\n",
       "      <td>uneven</td>\n",
       "      <td>03</td>\n",
       "      <td>0.672924</td>\n",
       "      <td>0.996804</td>\n",
       "      <td>0.738464</td>\n",
       "      <td>0.883478</td>\n",
       "    </tr>\n",
       "    <tr>\n",
       "      <th>387</th>\n",
       "      <td>experiment10</td>\n",
       "      <td>ae</td>\n",
       "      <td>even</td>\n",
       "      <td>08</td>\n",
       "      <td>0.667525</td>\n",
       "      <td>0.996993</td>\n",
       "      <td>0.790408</td>\n",
       "      <td>0.811094</td>\n",
       "    </tr>\n",
       "    <tr>\n",
       "      <th>199</th>\n",
       "      <td>experiment5</td>\n",
       "      <td>sup</td>\n",
       "      <td>even</td>\n",
       "      <td>10</td>\n",
       "      <td>0.662410</td>\n",
       "      <td>0.996603</td>\n",
       "      <td>0.717955</td>\n",
       "      <td>0.895421</td>\n",
       "    </tr>\n",
       "    <tr>\n",
       "      <th>103</th>\n",
       "      <td>experiment3</td>\n",
       "      <td>ae</td>\n",
       "      <td>even</td>\n",
       "      <td>04</td>\n",
       "      <td>0.659546</td>\n",
       "      <td>0.997001</td>\n",
       "      <td>0.809738</td>\n",
       "      <td>0.780502</td>\n",
       "    </tr>\n",
       "    <tr>\n",
       "      <th>229</th>\n",
       "      <td>experiment6</td>\n",
       "      <td>ae</td>\n",
       "      <td>even</td>\n",
       "      <td>10</td>\n",
       "      <td>0.657830</td>\n",
       "      <td>0.997067</td>\n",
       "      <td>0.833095</td>\n",
       "      <td>0.757687</td>\n",
       "    </tr>\n",
       "    <tr>\n",
       "      <th>65</th>\n",
       "      <td>experiment2</td>\n",
       "      <td>ae</td>\n",
       "      <td>even</td>\n",
       "      <td>06</td>\n",
       "      <td>0.657163</td>\n",
       "      <td>0.996903</td>\n",
       "      <td>0.788594</td>\n",
       "      <td>0.797694</td>\n",
       "    </tr>\n",
       "    <tr>\n",
       "      <th>366</th>\n",
       "      <td>experiment10</td>\n",
       "      <td>ae</td>\n",
       "      <td>uneven</td>\n",
       "      <td>07</td>\n",
       "      <td>0.656317</td>\n",
       "      <td>0.996594</td>\n",
       "      <td>0.724936</td>\n",
       "      <td>0.873956</td>\n",
       "    </tr>\n",
       "    <tr>\n",
       "      <th>83</th>\n",
       "      <td>experiment3</td>\n",
       "      <td>ae</td>\n",
       "      <td>uneven</td>\n",
       "      <td>04</td>\n",
       "      <td>0.654142</td>\n",
       "      <td>0.996491</td>\n",
       "      <td>0.710656</td>\n",
       "      <td>0.891609</td>\n",
       "    </tr>\n",
       "    <tr>\n",
       "      <th>227</th>\n",
       "      <td>experiment6</td>\n",
       "      <td>ae</td>\n",
       "      <td>even</td>\n",
       "      <td>08</td>\n",
       "      <td>0.652818</td>\n",
       "      <td>0.996680</td>\n",
       "      <td>0.746524</td>\n",
       "      <td>0.838730</td>\n",
       "    </tr>\n",
       "    <tr>\n",
       "      <th>382</th>\n",
       "      <td>experiment10</td>\n",
       "      <td>ae</td>\n",
       "      <td>even</td>\n",
       "      <td>03</td>\n",
       "      <td>0.652526</td>\n",
       "      <td>0.996748</td>\n",
       "      <td>0.761305</td>\n",
       "      <td>0.820364</td>\n",
       "    </tr>\n",
       "    <tr>\n",
       "      <th>77</th>\n",
       "      <td>experiment2</td>\n",
       "      <td>sup</td>\n",
       "      <td>even</td>\n",
       "      <td>08</td>\n",
       "      <td>0.648954</td>\n",
       "      <td>0.996951</td>\n",
       "      <td>0.819442</td>\n",
       "      <td>0.757232</td>\n",
       "    </tr>\n",
       "    <tr>\n",
       "      <th>279</th>\n",
       "      <td>experiment7</td>\n",
       "      <td>sup</td>\n",
       "      <td>even</td>\n",
       "      <td>10</td>\n",
       "      <td>0.647090</td>\n",
       "      <td>0.996720</td>\n",
       "      <td>0.764638</td>\n",
       "      <td>0.808033</td>\n",
       "    </tr>\n",
       "    <tr>\n",
       "      <th>106</th>\n",
       "      <td>experiment3</td>\n",
       "      <td>ae</td>\n",
       "      <td>even</td>\n",
       "      <td>07</td>\n",
       "      <td>0.646285</td>\n",
       "      <td>0.996738</td>\n",
       "      <td>0.770033</td>\n",
       "      <td>0.800859</td>\n",
       "    </tr>\n",
       "    <tr>\n",
       "      <th>66</th>\n",
       "      <td>experiment2</td>\n",
       "      <td>ae</td>\n",
       "      <td>even</td>\n",
       "      <td>07</td>\n",
       "      <td>0.644830</td>\n",
       "      <td>0.996977</td>\n",
       "      <td>0.837220</td>\n",
       "      <td>0.737263</td>\n",
       "    </tr>\n",
       "    <tr>\n",
       "      <th>228</th>\n",
       "      <td>experiment6</td>\n",
       "      <td>ae</td>\n",
       "      <td>even</td>\n",
       "      <td>09</td>\n",
       "      <td>0.644165</td>\n",
       "      <td>0.997017</td>\n",
       "      <td>0.851816</td>\n",
       "      <td>0.725460</td>\n",
       "    </tr>\n",
       "    <tr>\n",
       "      <th>386</th>\n",
       "      <td>experiment10</td>\n",
       "      <td>ae</td>\n",
       "      <td>even</td>\n",
       "      <td>07</td>\n",
       "      <td>0.644110</td>\n",
       "      <td>0.996551</td>\n",
       "      <td>0.735132</td>\n",
       "      <td>0.838764</td>\n",
       "    </tr>\n",
       "    <tr>\n",
       "      <th>362</th>\n",
       "      <td>experiment10</td>\n",
       "      <td>ae</td>\n",
       "      <td>uneven</td>\n",
       "      <td>03</td>\n",
       "      <td>0.642978</td>\n",
       "      <td>0.996563</td>\n",
       "      <td>0.739156</td>\n",
       "      <td>0.831692</td>\n",
       "    </tr>\n",
       "    <tr>\n",
       "      <th>2</th>\n",
       "      <td>experiment1</td>\n",
       "      <td>ae</td>\n",
       "      <td>uneven</td>\n",
       "      <td>03</td>\n",
       "      <td>0.637958</td>\n",
       "      <td>0.996317</td>\n",
       "      <td>0.703926</td>\n",
       "      <td>0.871919</td>\n",
       "    </tr>\n",
       "    <tr>\n",
       "      <th>266</th>\n",
       "      <td>experiment7</td>\n",
       "      <td>ae</td>\n",
       "      <td>even</td>\n",
       "      <td>07</td>\n",
       "      <td>0.637645</td>\n",
       "      <td>0.996978</td>\n",
       "      <td>0.855554</td>\n",
       "      <td>0.714573</td>\n",
       "    </tr>\n",
       "    <tr>\n",
       "      <th>163</th>\n",
       "      <td>experiment5</td>\n",
       "      <td>ae</td>\n",
       "      <td>uneven</td>\n",
       "      <td>04</td>\n",
       "      <td>0.636825</td>\n",
       "      <td>0.996383</td>\n",
       "      <td>0.715955</td>\n",
       "      <td>0.852113</td>\n",
       "    </tr>\n",
       "    <tr>\n",
       "      <th>81</th>\n",
       "      <td>experiment3</td>\n",
       "      <td>ae</td>\n",
       "      <td>uneven</td>\n",
       "      <td>02</td>\n",
       "      <td>0.635900</td>\n",
       "      <td>0.996456</td>\n",
       "      <td>0.729942</td>\n",
       "      <td>0.831529</td>\n",
       "    </tr>\n",
       "    <tr>\n",
       "      <th>201</th>\n",
       "      <td>experiment6</td>\n",
       "      <td>ae</td>\n",
       "      <td>uneven</td>\n",
       "      <td>02</td>\n",
       "      <td>0.635374</td>\n",
       "      <td>0.996841</td>\n",
       "      <td>0.818618</td>\n",
       "      <td>0.739478</td>\n",
       "    </tr>\n",
       "    <tr>\n",
       "      <th>4</th>\n",
       "      <td>experiment1</td>\n",
       "      <td>ae</td>\n",
       "      <td>uneven</td>\n",
       "      <td>05</td>\n",
       "      <td>0.635069</td>\n",
       "      <td>0.996328</td>\n",
       "      <td>0.709333</td>\n",
       "      <td>0.858475</td>\n",
       "    </tr>\n",
       "    <tr>\n",
       "      <th>389</th>\n",
       "      <td>experiment10</td>\n",
       "      <td>ae</td>\n",
       "      <td>even</td>\n",
       "      <td>10</td>\n",
       "      <td>0.634121</td>\n",
       "      <td>0.996439</td>\n",
       "      <td>0.729451</td>\n",
       "      <td>0.829124</td>\n",
       "    </tr>\n",
       "    <tr>\n",
       "      <th>369</th>\n",
       "      <td>experiment10</td>\n",
       "      <td>ae</td>\n",
       "      <td>uneven</td>\n",
       "      <td>10</td>\n",
       "      <td>0.633289</td>\n",
       "      <td>0.996375</td>\n",
       "      <td>0.719396</td>\n",
       "      <td>0.841040</td>\n",
       "    </tr>\n",
       "    <tr>\n",
       "      <th>332</th>\n",
       "      <td>experiment9</td>\n",
       "      <td>sup</td>\n",
       "      <td>uneven</td>\n",
       "      <td>03</td>\n",
       "      <td>0.632667</td>\n",
       "      <td>0.996534</td>\n",
       "      <td>0.749736</td>\n",
       "      <td>0.802048</td>\n",
       "    </tr>\n",
       "    <tr>\n",
       "      <th>236</th>\n",
       "      <td>experiment6</td>\n",
       "      <td>sup</td>\n",
       "      <td>even</td>\n",
       "      <td>07</td>\n",
       "      <td>0.631672</td>\n",
       "      <td>0.996083</td>\n",
       "      <td>0.677895</td>\n",
       "      <td>0.902572</td>\n",
       "    </tr>\n",
       "    <tr>\n",
       "      <th>85</th>\n",
       "      <td>experiment3</td>\n",
       "      <td>ae</td>\n",
       "      <td>uneven</td>\n",
       "      <td>06</td>\n",
       "      <td>0.631591</td>\n",
       "      <td>0.996179</td>\n",
       "      <td>0.691003</td>\n",
       "      <td>0.880180</td>\n",
       "    </tr>\n",
       "  </tbody>\n",
       "</table>\n",
       "</div>"
      ],
      "text/plain": [
       "       experiment model sampling epoch       iou       acc  precision  \\\n",
       "358   experiment9   sup     even    09  0.698617  0.997161   0.768999   \n",
       "33    experiment1   sup     even    04  0.680374  0.997125   0.797776   \n",
       "82    experiment3    ae   uneven    03  0.672924  0.996804   0.738464   \n",
       "387  experiment10    ae     even    08  0.667525  0.996993   0.790408   \n",
       "199   experiment5   sup     even    10  0.662410  0.996603   0.717955   \n",
       "103   experiment3    ae     even    04  0.659546  0.997001   0.809738   \n",
       "229   experiment6    ae     even    10  0.657830  0.997067   0.833095   \n",
       "65    experiment2    ae     even    06  0.657163  0.996903   0.788594   \n",
       "366  experiment10    ae   uneven    07  0.656317  0.996594   0.724936   \n",
       "83    experiment3    ae   uneven    04  0.654142  0.996491   0.710656   \n",
       "227   experiment6    ae     even    08  0.652818  0.996680   0.746524   \n",
       "382  experiment10    ae     even    03  0.652526  0.996748   0.761305   \n",
       "77    experiment2   sup     even    08  0.648954  0.996951   0.819442   \n",
       "279   experiment7   sup     even    10  0.647090  0.996720   0.764638   \n",
       "106   experiment3    ae     even    07  0.646285  0.996738   0.770033   \n",
       "66    experiment2    ae     even    07  0.644830  0.996977   0.837220   \n",
       "228   experiment6    ae     even    09  0.644165  0.997017   0.851816   \n",
       "386  experiment10    ae     even    07  0.644110  0.996551   0.735132   \n",
       "362  experiment10    ae   uneven    03  0.642978  0.996563   0.739156   \n",
       "2     experiment1    ae   uneven    03  0.637958  0.996317   0.703926   \n",
       "266   experiment7    ae     even    07  0.637645  0.996978   0.855554   \n",
       "163   experiment5    ae   uneven    04  0.636825  0.996383   0.715955   \n",
       "81    experiment3    ae   uneven    02  0.635900  0.996456   0.729942   \n",
       "201   experiment6    ae   uneven    02  0.635374  0.996841   0.818618   \n",
       "4     experiment1    ae   uneven    05  0.635069  0.996328   0.709333   \n",
       "389  experiment10    ae     even    10  0.634121  0.996439   0.729451   \n",
       "369  experiment10    ae   uneven    10  0.633289  0.996375   0.719396   \n",
       "332   experiment9   sup   uneven    03  0.632667  0.996534   0.749736   \n",
       "236   experiment6   sup     even    07  0.631672  0.996083   0.677895   \n",
       "85    experiment3    ae   uneven    06  0.631591  0.996179   0.691003   \n",
       "\n",
       "       recall  \n",
       "358  0.884168  \n",
       "33   0.822170  \n",
       "82   0.883478  \n",
       "387  0.811094  \n",
       "199  0.895421  \n",
       "103  0.780502  \n",
       "229  0.757687  \n",
       "65   0.797694  \n",
       "366  0.873956  \n",
       "83   0.891609  \n",
       "227  0.838730  \n",
       "382  0.820364  \n",
       "77   0.757232  \n",
       "279  0.808033  \n",
       "106  0.800859  \n",
       "66   0.737263  \n",
       "228  0.725460  \n",
       "386  0.838764  \n",
       "362  0.831692  \n",
       "2    0.871919  \n",
       "266  0.714573  \n",
       "163  0.852113  \n",
       "81   0.831529  \n",
       "201  0.739478  \n",
       "4    0.858475  \n",
       "389  0.829124  \n",
       "369  0.841040  \n",
       "332  0.802048  \n",
       "236  0.902572  \n",
       "85   0.880180  "
      ]
     },
     "execution_count": 48,
     "metadata": {},
     "output_type": "execute_result"
    }
   ],
   "source": [
    "df.sort_values(by=[\"iou\"], ascending=False).head(30)"
   ]
  },
  {
   "cell_type": "code",
   "execution_count": 19,
   "metadata": {},
   "outputs": [
    {
     "data": {
      "text/plain": [
       "<matplotlib.collections.PathCollection at 0x7eff7b0a7048>"
      ]
     },
     "execution_count": 19,
     "metadata": {},
     "output_type": "execute_result"
    },
    {
     "data": {
      "image/png": "[encoded data removed]",
      "text/plain": [
       "<Figure size 1440x720 with 1 Axes>"
      ]
     },
     "metadata": {
      "needs_background": "light"
     },
     "output_type": "display_data"
    }
   ],
   "source": [
    "plt.scatter(df.model,df.iou)"
   ]
  },
  {
   "cell_type": "markdown",
   "metadata": {},
   "source": [
    "## Large experiment"
   ]
  },
  {
   "cell_type": "code",
   "execution_count": 2,
   "metadata": {},
   "outputs": [],
   "source": [
    "def get_metrics_large(pred_path, mask_path):\n",
    "    src = rasterio.open(pred_path)\n",
    "    raw = np.array(src.read())\n",
    "    y_pred = (raw == 2) # chicken\n",
    "    y_pred = y_pred.astype(int)\n",
    "    y_pred = y_pred.squeeze()\n",
    "    \n",
    "    src_masked = rasterio.open(mask_path)\n",
    "    y_true = np.array(src_masked.read())\n",
    "    y_true = y_true.squeeze()\n",
    "    tp = np.sum((y_true == 1) & (y_pred == 1))\n",
    "    tn = np.sum((y_true == 0) & (y_pred == 0))\n",
    "    fp = np.sum((y_true == 0) & (y_pred == 1))\n",
    "    fn = np.sum((y_true == 1) & (y_pred == 0))\n",
    "\n",
    "    assert tp + tn + fp + fn == y_true.size\n",
    "\n",
    "    n = tp + fp + tn + fn\n",
    "\n",
    "    acc = (tp+tn)/n\n",
    "    recall = (tp/(tp+fn))\n",
    "    precision = tp / (tp + fp)\n",
    "    iou = tp /(tp + fn + fp)\n",
    "    count = np.unique(y_true, return_counts=True)[1]\n",
    "    pos = 0\n",
    "    neg = 0\n",
    "    if (len(count) == 1):\n",
    "        neg = count[0]\n",
    "    else:\n",
    "        neg = count[0]\n",
    "        pos = count[1]\n",
    "\n",
    "#     print(\"IOU: {}\".format(iou))\n",
    "#     print(\"Accuracy: {}\".format(acc))\n",
    "#     print(\"Precision: {}\".format(precision))\n",
    "#     print(\"Recall: {}\".format(recall))\n",
    "    return iou, acc, precision, recall, pos, neg, tp, tn, fp, fn"
   ]
  },
  {
   "cell_type": "code",
   "execution_count": 44,
   "metadata": {},
   "outputs": [
    {
     "data": {
      "text/plain": [
       "(0.34868597912675375,\n",
       " 0.9958558880248607,\n",
       " 0.4678071028446989,\n",
       " 0.5779422215704633,\n",
       " 177298,\n",
       " 46008954,\n",
       " 102468,\n",
       " 45892383,\n",
       " 116571,\n",
       " 74830)"
      ]
     },
     "execution_count": 44,
     "metadata": {},
     "output_type": "execute_result"
    }
   ],
   "source": [
    "get_metrics_large(\"../landcover_scripts/all_test_inference_md/m_3807539_nw_18_1_20170611_inference.tif\", \"../landcover_scripts/binary_raster_md_tif/m_3807539_nw_18_1_20170611_inference_rasterized.tif\")"
   ]
  },
  {
   "cell_type": "code",
   "execution_count": 3,
   "metadata": {},
   "outputs": [],
   "source": [
    "all_fns = glob.glob(\"../landcover_scripts/binary_raster_md_tif/*\")"
   ]
  },
  {
   "cell_type": "code",
   "execution_count": 4,
   "metadata": {},
   "outputs": [
    {
     "name": "stdout",
     "output_type": "stream",
     "text": [
      "0\n"
     ]
    },
    {
     "name": "stderr",
     "output_type": "stream",
     "text": [
      "/home/jason/anaconda3/envs/ai4e/lib/python3.6/site-packages/ipykernel_launcher.py:21: RuntimeWarning: invalid value encountered in long_scalars\n"
     ]
    },
    {
     "name": "stdout",
     "output_type": "stream",
     "text": [
      "1\n",
      "2\n",
      "3\n",
      "4\n",
      "5\n",
      "6\n",
      "7\n",
      "8\n",
      "9\n",
      "10\n",
      "11\n",
      "12\n",
      "13\n",
      "14\n",
      "15\n",
      "16\n",
      "17\n",
      "18\n",
      "19\n",
      "20\n",
      "21\n",
      "22\n",
      "23\n",
      "24\n",
      "25\n",
      "26\n",
      "27\n",
      "28\n",
      "29\n",
      "30\n",
      "31\n",
      "32\n",
      "33\n",
      "34\n",
      "35\n",
      "36\n",
      "37\n",
      "38\n",
      "39\n",
      "40\n",
      "41\n",
      "42\n",
      "43\n",
      "44\n",
      "45\n",
      "46\n",
      "47\n",
      "48\n",
      "49\n",
      "50\n",
      "51\n",
      "52\n",
      "53\n",
      "54\n",
      "55\n",
      "56\n",
      "57\n",
      "58\n",
      "59\n",
      "60\n",
      "61\n",
      "62\n",
      "63\n",
      "64\n",
      "65\n",
      "66\n",
      "67\n",
      "68\n",
      "69\n",
      "70\n",
      "71\n",
      "72\n",
      "73\n",
      "74\n",
      "75\n",
      "76\n",
      "77\n",
      "78\n",
      "79\n",
      "80\n",
      "81\n",
      "82\n",
      "83\n",
      "84\n",
      "85\n",
      "86\n",
      "87\n",
      "88\n",
      "89\n",
      "90\n",
      "91\n",
      "92\n",
      "93\n",
      "94\n",
      "95\n",
      "96\n",
      "97\n",
      "98\n",
      "99\n",
      "100\n",
      "101\n",
      "102\n",
      "103\n",
      "104\n",
      "105\n",
      "106\n",
      "107\n",
      "108\n",
      "109\n",
      "110\n",
      "111\n",
      "112\n",
      "113\n",
      "114\n",
      "115\n",
      "116\n",
      "117\n",
      "118\n",
      "119\n",
      "120\n",
      "121\n",
      "122\n",
      "123\n",
      "124\n",
      "125\n",
      "126\n",
      "127\n",
      "128\n",
      "129\n",
      "130\n",
      "131\n",
      "132\n",
      "133\n",
      "134\n",
      "135\n",
      "136\n",
      "137\n",
      "138\n",
      "139\n",
      "140\n",
      "141\n",
      "142\n",
      "143\n",
      "144\n",
      "145\n",
      "146\n",
      "147\n",
      "148\n",
      "149\n",
      "150\n",
      "151\n",
      "152\n",
      "153\n",
      "154\n",
      "155\n",
      "156\n",
      "157\n",
      "158\n",
      "159\n",
      "160\n",
      "161\n",
      "162\n",
      "163\n",
      "164\n",
      "165\n",
      "166\n",
      "167\n",
      "168\n",
      "169\n",
      "170\n",
      "171\n",
      "172\n",
      "173\n",
      "174\n",
      "175\n",
      "176\n",
      "177\n",
      "178\n",
      "179\n",
      "180\n",
      "181\n",
      "182\n",
      "183\n",
      "184\n",
      "185\n",
      "186\n",
      "187\n",
      "188\n",
      "189\n",
      "190\n",
      "191\n",
      "192\n",
      "193\n",
      "194\n",
      "195\n",
      "196\n",
      "197\n",
      "198\n",
      "199\n",
      "200\n",
      "201\n",
      "202\n",
      "203\n",
      "204\n",
      "205\n",
      "206\n",
      "207\n",
      "208\n",
      "209\n",
      "210\n",
      "211\n",
      "212\n",
      "213\n",
      "214\n",
      "215\n",
      "216\n",
      "217\n",
      "218\n",
      "219\n",
      "220\n",
      "221\n",
      "222\n",
      "223\n",
      "224\n",
      "225\n",
      "226\n",
      "227\n",
      "228\n",
      "229\n",
      "230\n",
      "231\n",
      "232\n",
      "233\n",
      "234\n",
      "235\n",
      "236\n",
      "237\n",
      "238\n",
      "239\n",
      "240\n",
      "241\n",
      "242\n",
      "243\n",
      "244\n",
      "245\n",
      "246\n",
      "247\n",
      "248\n",
      "249\n",
      "250\n",
      "251\n",
      "252\n",
      "253\n",
      "254\n",
      "255\n",
      "256\n",
      "257\n",
      "258\n",
      "259\n",
      "260\n",
      "261\n",
      "262\n",
      "263\n",
      "264\n",
      "265\n",
      "266\n",
      "267\n",
      "268\n",
      "269\n",
      "270\n",
      "271\n",
      "272\n",
      "273\n",
      "274\n",
      "275\n",
      "276\n",
      "277\n",
      "278\n",
      "279\n",
      "280\n",
      "281\n",
      "282\n",
      "283\n",
      "284\n",
      "285\n",
      "286\n",
      "287\n",
      "288\n",
      "289\n",
      "290\n",
      "291\n",
      "292\n",
      "293\n",
      "294\n",
      "295\n",
      "296\n",
      "297\n",
      "298\n",
      "299\n",
      "300\n",
      "301\n",
      "302\n",
      "303\n",
      "304\n",
      "305\n",
      "306\n",
      "307\n",
      "308\n",
      "309\n",
      "310\n",
      "311\n",
      "312\n",
      "313\n",
      "314\n",
      "315\n",
      "316\n",
      "317\n",
      "318\n",
      "319\n",
      "320\n",
      "321\n",
      "322\n",
      "323\n",
      "324\n",
      "325\n",
      "326\n",
      "327\n",
      "328\n",
      "329\n",
      "330\n",
      "331\n",
      "332\n",
      "333\n",
      "334\n",
      "335\n",
      "336\n",
      "337\n",
      "338\n",
      "339\n",
      "340\n",
      "341\n",
      "342\n",
      "343\n",
      "344\n",
      "345\n",
      "346\n",
      "347\n",
      "348\n",
      "349\n",
      "350\n",
      "351\n",
      "352\n",
      "353\n",
      "354\n",
      "355\n",
      "356\n",
      "357\n",
      "358\n",
      "359\n",
      "360\n",
      "361\n",
      "362\n",
      "363\n",
      "364\n",
      "365\n",
      "366\n",
      "367\n",
      "368\n",
      "369\n",
      "370\n",
      "371\n",
      "372\n",
      "373\n",
      "374\n",
      "375\n",
      "376\n",
      "377\n",
      "378\n",
      "379\n",
      "380\n",
      "381\n",
      "382\n",
      "383\n",
      "384\n",
      "385\n",
      "386\n",
      "387\n",
      "388\n",
      "389\n",
      "390\n",
      "391\n",
      "392\n",
      "393\n",
      "394\n",
      "395\n",
      "396\n",
      "397\n",
      "398\n",
      "399\n",
      "400\n",
      "401\n",
      "402\n",
      "403\n",
      "404\n",
      "405\n",
      "406\n",
      "407\n",
      "408\n",
      "409\n",
      "410\n",
      "411\n",
      "412\n",
      "413\n",
      "414\n",
      "415\n",
      "416\n",
      "417\n",
      "418\n",
      "419\n",
      "420\n",
      "421\n",
      "422\n",
      "423\n",
      "424\n",
      "425\n",
      "426\n",
      "427\n",
      "428\n",
      "429\n",
      "430\n",
      "431\n",
      "432\n",
      "433\n",
      "434\n",
      "435\n",
      "436\n",
      "437\n",
      "438\n",
      "439\n",
      "440\n",
      "441\n",
      "442\n",
      "443\n",
      "444\n",
      "445\n",
      "446\n",
      "447\n",
      "448\n",
      "449\n",
      "450\n",
      "451\n",
      "452\n",
      "453\n",
      "454\n",
      "455\n",
      "456\n",
      "457\n",
      "458\n",
      "459\n",
      "460\n",
      "461\n",
      "462\n",
      "463\n",
      "464\n",
      "465\n",
      "466\n",
      "467\n",
      "468\n",
      "469\n",
      "470\n",
      "471\n",
      "472\n",
      "473\n",
      "474\n",
      "475\n",
      "476\n",
      "477\n",
      "478\n",
      "479\n",
      "480\n",
      "481\n",
      "482\n",
      "483\n",
      "484\n",
      "485\n",
      "486\n",
      "487\n",
      "488\n",
      "489\n",
      "490\n",
      "491\n",
      "492\n",
      "493\n",
      "494\n",
      "495\n",
      "496\n",
      "497\n",
      "498\n",
      "499\n",
      "500\n",
      "501\n",
      "502\n",
      "503\n",
      "504\n",
      "505\n",
      "506\n",
      "507\n",
      "508\n",
      "509\n",
      "510\n",
      "511\n",
      "512\n",
      "513\n",
      "514\n",
      "515\n",
      "516\n",
      "517\n",
      "518\n",
      "519\n",
      "520\n",
      "521\n",
      "522\n",
      "523\n",
      "524\n",
      "525\n",
      "526\n",
      "527\n",
      "528\n",
      "529\n",
      "530\n",
      "531\n",
      "532\n",
      "533\n",
      "534\n",
      "535\n",
      "536\n",
      "537\n",
      "538\n",
      "539\n",
      "540\n",
      "541\n",
      "542\n",
      "543\n",
      "544\n",
      "545\n",
      "546\n",
      "547\n",
      "548\n",
      "549\n",
      "550\n",
      "551\n",
      "552\n",
      "553\n",
      "554\n",
      "555\n",
      "556\n",
      "557\n",
      "558\n",
      "559\n",
      "560\n",
      "561\n",
      "562\n",
      "563\n",
      "564\n",
      "565\n",
      "566\n",
      "567\n",
      "568\n",
      "569\n",
      "570\n",
      "571\n",
      "572\n",
      "573\n",
      "574\n",
      "575\n",
      "576\n",
      "577\n",
      "578\n",
      "579\n",
      "580\n",
      "581\n",
      "582\n",
      "583\n",
      "584\n",
      "585\n",
      "586\n",
      "587\n",
      "588\n",
      "589\n",
      "590\n",
      "591\n",
      "592\n",
      "593\n",
      "594\n",
      "595\n",
      "596\n",
      "597\n",
      "598\n",
      "599\n",
      "600\n",
      "601\n",
      "602\n",
      "603\n",
      "604\n",
      "605\n",
      "606\n",
      "607\n",
      "608\n",
      "609\n",
      "610\n",
      "611\n",
      "612\n",
      "613\n",
      "614\n",
      "615\n",
      "616\n",
      "617\n",
      "618\n",
      "619\n",
      "620\n",
      "621\n",
      "622\n",
      "623\n",
      "624\n",
      "625\n",
      "626\n",
      "627\n",
      "628\n",
      "629\n",
      "630\n",
      "631\n",
      "632\n",
      "633\n",
      "634\n",
      "635\n",
      "636\n",
      "637\n",
      "638\n"
     ]
    }
   ],
   "source": [
    "all_metrics = []\n",
    "count = 0\n",
    "for fn in all_fns:\n",
    "    print(count)\n",
    "    count+=1\n",
    "    test_filename = \"../landcover_scripts/all_test_inference_md/\" + (fn.split(\"/\")[3].split(\".\")[0][:-11]) + \".tif\"\n",
    "    temp = {}\n",
    "    temp['name'] = (fn.split(\"/\")[3].split(\".\")[0][:-10])\n",
    "    temp_metrics = get_metrics_large(test_filename, fn)\n",
    "    temp['iou'] = temp_metrics[0]\n",
    "    temp['acc'] = temp_metrics[1]\n",
    "    temp['precision'] = temp_metrics[2]\n",
    "    temp['recall'] = temp_metrics[3]\n",
    "    temp['pos'] = temp_metrics[4]\n",
    "    temp['neg'] = temp_metrics[5]\n",
    "    temp['tp'] = temp_metrics[6]\n",
    "    temp['tn'] = temp_metrics[7]\n",
    "    temp['fp'] = temp_metrics[8]\n",
    "    temp['fn'] = temp_metrics[9]\n",
    "    all_metrics.append(temp)"
   ]
  },
  {
   "cell_type": "code",
   "execution_count": 7,
   "metadata": {
    "scrolled": true
   },
   "outputs": [],
   "source": [
    "df.to_csv('initial_full_res.csv')"
   ]
  },
  {
   "cell_type": "code",
   "execution_count": 6,
   "metadata": {},
   "outputs": [],
   "source": [
    "df = pd.DataFrame(all_metrics)\n",
    "chicken_df = df[df.pos != 0]\n",
    "no_df = df[df.pos == 0]"
   ]
  },
  {
   "cell_type": "code",
   "execution_count": 2,
   "metadata": {},
   "outputs": [
    {
     "data": {
      "text/plain": [
       "Unnamed: 0                                               203841\n",
       "name          m_3807612_ne_18_1_20170730_inference_m_3907625...\n",
       "iou                                                     71.2744\n",
       "acc                                                     637.909\n",
       "precision                                               126.433\n",
       "recall                                                  82.5845\n",
       "pos                                                    10351143\n",
       "neg                                                 30001255221\n",
       "tp                                                      5533685\n",
       "tn                                                  29954833903\n",
       "fp                                                     46421318\n",
       "fn                                                      4817458\n",
       "dtype: object"
      ]
     },
     "execution_count": 2,
     "metadata": {},
     "output_type": "execute_result"
    }
   ],
   "source": [
    "df = pd.read_csv(\"md_inference_res.csv\").reset_index(drop=True)\n",
    "chicken_df = df[df.pos != 0]\n",
    "no_df = df[df.pos == 0]\n",
    "df.sum()"
   ]
  },
  {
   "cell_type": "code",
   "execution_count": 6,
   "metadata": {},
   "outputs": [],
   "source": [
    "init_df = pd.read_csv(\"initial_full_res.csv\").reset_index(drop=True)"
   ]
  },
  {
   "cell_type": "code",
   "execution_count": 68,
   "metadata": {},
   "outputs": [],
   "source": [
    "df['grouping'] = df['name'].astype(str).str[:7]\n"
   ]
  },
  {
   "cell_type": "code",
   "execution_count": 69,
   "metadata": {},
   "outputs": [
    {
     "data": {
      "text/plain": [
       "0      m_38076\n",
       "1      m_39076\n",
       "2      m_38076\n",
       "3      m_39077\n",
       "4      m_38076\n",
       "        ...   \n",
       "634    m_39076\n",
       "635    m_38076\n",
       "636    m_39075\n",
       "637    m_39076\n",
       "638    m_38077\n",
       "Name: grouping, Length: 639, dtype: object"
      ]
     },
     "execution_count": 69,
     "metadata": {},
     "output_type": "execute_result"
    }
   ],
   "source": [
    "df.grouping"
   ]
  },
  {
   "cell_type": "code",
   "execution_count": 95,
   "metadata": {},
   "outputs": [],
   "source": [
    "grouping_df = df.groupby('grouping').sum()"
   ]
  },
  {
   "cell_type": "code",
   "execution_count": 96,
   "metadata": {},
   "outputs": [
    {
     "data": {
      "text/html": [
       "<div>\n",
       "<style scoped>\n",
       "    .dataframe tbody tr th:only-of-type {\n",
       "        vertical-align: middle;\n",
       "    }\n",
       "\n",
       "    .dataframe tbody tr th {\n",
       "        vertical-align: top;\n",
       "    }\n",
       "\n",
       "    .dataframe thead th {\n",
       "        text-align: right;\n",
       "    }\n",
       "</style>\n",
       "<table border=\"1\" class=\"dataframe\">\n",
       "  <thead>\n",
       "    <tr style=\"text-align: right;\">\n",
       "      <th></th>\n",
       "      <th>Unnamed: 0</th>\n",
       "      <th>iou</th>\n",
       "      <th>acc</th>\n",
       "      <th>precision</th>\n",
       "      <th>recall</th>\n",
       "      <th>pos</th>\n",
       "      <th>neg</th>\n",
       "      <th>tp</th>\n",
       "      <th>tn</th>\n",
       "      <th>fp</th>\n",
       "      <th>fn</th>\n",
       "    </tr>\n",
       "    <tr>\n",
       "      <th>grouping</th>\n",
       "      <th></th>\n",
       "      <th></th>\n",
       "      <th></th>\n",
       "      <th></th>\n",
       "      <th></th>\n",
       "      <th></th>\n",
       "      <th></th>\n",
       "      <th></th>\n",
       "      <th></th>\n",
       "      <th></th>\n",
       "      <th></th>\n",
       "    </tr>\n",
       "  </thead>\n",
       "  <tbody>\n",
       "    <tr>\n",
       "      <th>m_38075</th>\n",
       "      <td>45423</td>\n",
       "      <td>54.452738</td>\n",
       "      <td>153.533980</td>\n",
       "      <td>94.613584</td>\n",
       "      <td>61.979016</td>\n",
       "      <td>8790785</td>\n",
       "      <td>7164870227</td>\n",
       "      <td>4966091</td>\n",
       "      <td>7146825454</td>\n",
       "      <td>18044773</td>\n",
       "      <td>3824694</td>\n",
       "    </tr>\n",
       "    <tr>\n",
       "      <th>m_38076</th>\n",
       "      <td>66267</td>\n",
       "      <td>6.834228</td>\n",
       "      <td>199.851735</td>\n",
       "      <td>9.769217</td>\n",
       "      <td>9.576118</td>\n",
       "      <td>283825</td>\n",
       "      <td>9459091867</td>\n",
       "      <td>154713</td>\n",
       "      <td>9452231593</td>\n",
       "      <td>6860274</td>\n",
       "      <td>129112</td>\n",
       "    </tr>\n",
       "    <tr>\n",
       "      <th>m_38077</th>\n",
       "      <td>11359</td>\n",
       "      <td>0.000000</td>\n",
       "      <td>32.990622</td>\n",
       "      <td>0.000000</td>\n",
       "      <td>0.000000</td>\n",
       "      <td>0</td>\n",
       "      <td>1580060664</td>\n",
       "      <td>0</td>\n",
       "      <td>1579612984</td>\n",
       "      <td>447680</td>\n",
       "      <td>0</td>\n",
       "    </tr>\n",
       "    <tr>\n",
       "      <th>m_39075</th>\n",
       "      <td>14936</td>\n",
       "      <td>6.420655</td>\n",
       "      <td>49.976463</td>\n",
       "      <td>17.153837</td>\n",
       "      <td>6.962545</td>\n",
       "      <td>1137748</td>\n",
       "      <td>2312346268</td>\n",
       "      <td>330071</td>\n",
       "      <td>2312064145</td>\n",
       "      <td>282123</td>\n",
       "      <td>807677</td>\n",
       "    </tr>\n",
       "    <tr>\n",
       "      <th>m_39076</th>\n",
       "      <td>61493</td>\n",
       "      <td>3.566737</td>\n",
       "      <td>183.560910</td>\n",
       "      <td>4.895941</td>\n",
       "      <td>4.066865</td>\n",
       "      <td>138785</td>\n",
       "      <td>8623886015</td>\n",
       "      <td>82810</td>\n",
       "      <td>8603338412</td>\n",
       "      <td>20547603</td>\n",
       "      <td>55975</td>\n",
       "    </tr>\n",
       "    <tr>\n",
       "      <th>m_39077</th>\n",
       "      <td>4363</td>\n",
       "      <td>0.000000</td>\n",
       "      <td>17.995007</td>\n",
       "      <td>0.000000</td>\n",
       "      <td>0.000000</td>\n",
       "      <td>0</td>\n",
       "      <td>861000180</td>\n",
       "      <td>0</td>\n",
       "      <td>860761315</td>\n",
       "      <td>238865</td>\n",
       "      <td>0</td>\n",
       "    </tr>\n",
       "  </tbody>\n",
       "</table>\n",
       "</div>"
      ],
      "text/plain": [
       "          Unnamed: 0        iou         acc  precision     recall      pos  \\\n",
       "grouping                                                                     \n",
       "m_38075        45423  54.452738  153.533980  94.613584  61.979016  8790785   \n",
       "m_38076        66267   6.834228  199.851735   9.769217   9.576118   283825   \n",
       "m_38077        11359   0.000000   32.990622   0.000000   0.000000        0   \n",
       "m_39075        14936   6.420655   49.976463  17.153837   6.962545  1137748   \n",
       "m_39076        61493   3.566737  183.560910   4.895941   4.066865   138785   \n",
       "m_39077         4363   0.000000   17.995007   0.000000   0.000000        0   \n",
       "\n",
       "                 neg       tp          tn        fp       fn  \n",
       "grouping                                                      \n",
       "m_38075   7164870227  4966091  7146825454  18044773  3824694  \n",
       "m_38076   9459091867   154713  9452231593   6860274   129112  \n",
       "m_38077   1580060664        0  1579612984    447680        0  \n",
       "m_39075   2312346268   330071  2312064145    282123   807677  \n",
       "m_39076   8623886015    82810  8603338412  20547603    55975  \n",
       "m_39077    861000180        0   860761315    238865        0  "
      ]
     },
     "execution_count": 96,
     "metadata": {},
     "output_type": "execute_result"
    }
   ],
   "source": [
    "grouping_df"
   ]
  },
  {
   "cell_type": "code",
   "execution_count": 98,
   "metadata": {},
   "outputs": [
    {
     "data": {
      "image/png": "[encoded data removed]",
      "text/plain": [
       "<Figure size 864x432 with 1 Axes>"
      ]
     },
     "metadata": {
      "needs_background": "light"
     },
     "output_type": "display_data"
    }
   ],
   "source": [
    "fig, ax = plt.subplots(figsize=(12,6))\n",
    "ax.bar([\"m_38075\", \"m_38076\", \"m_38077\", \"m_39075\", \"m_39076\", \"m_39077\"],grouping_df.tp, label=\"Number of poultry house polygon pixels\")\n",
    "plt.ylabel(\"Number of ground truth pixels\", fontsize=12)\n",
    "plt.xlabel(\"Region\" % (df.pos.sum()), fontsize=12)\n",
    "plt.title(\"Distribution of ground truth pixels\", fontsize=14)\n",
    "plt.xticks(fontsize=10)\n",
    "plt.yticks(fontsize=10)\n",
    "plt.legend(loc='upper right',prop={'size': 10})\n",
    "plt.show()\n",
    "plt.close()"
   ]
  },
  {
   "cell_type": "code",
   "execution_count": 39,
   "metadata": {},
   "outputs": [
    {
     "data": {
      "image/png": "[encoded data removed]",
      "text/plain": [
       "<Figure size 864x432 with 1 Axes>"
      ]
     },
     "metadata": {
      "needs_background": "light"
     },
     "output_type": "display_data"
    }
   ],
   "source": [
    "fig, ax = plt.subplots(figsize=(12,6))\n",
    "ax.scatter(df.pos,df.tp, label=\"Post-processed\")\n",
    "ax.scatter(df.pos, init_df.tp, label=\"Initial\")\n",
    "plt.ylabel(\"Number of positive pixels\", fontsize=12)\n",
    "plt.xlabel(\"Total ground truth pixels(n=%d)\" % (df.pos.sum()), fontsize=12)\n",
    "plt.title(\"Predicted v. Ground truth pixels\", fontsize=14)\n",
    "plt.xticks(fontsize=10)\n",
    "plt.yticks(fontsize=10)\n",
    "plt.legend(loc='upper left',prop={'size': 10})\n",
    "plt.show()\n",
    "plt.close()"
   ]
  },
  {
   "cell_type": "code",
   "execution_count": 3,
   "metadata": {},
   "outputs": [
    {
     "data": {
      "text/plain": [
       "Unnamed: 0    3.067257e+02\n",
       "iou           2.729975e-01\n",
       "acc           9.971334e-01\n",
       "precision     3.186674e-01\n",
       "recall        6.696732e-01\n",
       "pos           5.914939e+04\n",
       "neg           4.650240e+07\n",
       "tp            4.318401e+04\n",
       "tn            4.638470e+07\n",
       "fp            1.177003e+05\n",
       "fn            1.596538e+04\n",
       "dtype: float64"
      ]
     },
     "execution_count": 3,
     "metadata": {},
     "output_type": "execute_result"
    }
   ],
   "source": [
    "chicken_df.mean()"
   ]
  },
  {
   "cell_type": "code",
   "execution_count": 4,
   "metadata": {},
   "outputs": [
    {
     "data": {
      "text/plain": [
       "Unnamed: 0    3.067257e+02\n",
       "iou           2.729975e-01\n",
       "acc           9.971334e-01\n",
       "precision     3.186674e-01\n",
       "recall        6.696732e-01\n",
       "pos           5.914939e+04\n",
       "neg           4.650240e+07\n",
       "tp            4.318401e+04\n",
       "tn            4.638470e+07\n",
       "fp            1.177003e+05\n",
       "fn            1.596538e+04\n",
       "dtype: float64"
      ]
     },
     "execution_count": 4,
     "metadata": {},
     "output_type": "execute_result"
    }
   ],
   "source": [
    "chicken_df.mean()"
   ]
  },
  {
   "cell_type": "code",
   "execution_count": null,
   "metadata": {},
   "outputs": [],
   "source": []
  }
 ],
 "metadata": {
  "kernelspec": {
   "display_name": "ai4e",
   "language": "python",
   "name": "ai4e"
  },
  "language_info": {
   "codemirror_mode": {
    "name": "ipython",
    "version": 3
   },
   "file_extension": ".py",
   "mimetype": "text/x-python",
   "name": "python",
   "nbconvert_exporter": "python",
   "pygments_lexer": "ipython3",
   "version": "3.6.10"
  }
 },
 "nbformat": 4,
 "nbformat_minor": 4
}
