{
 "cells": [
  {
   "cell_type": "code",
   "execution_count": 2,
   "metadata": {},
   "outputs": [],
   "source": [
    "import rasterio\n",
    "from rasterio.plot import show\n",
    "import matplotlib.pyplot as plt\n",
    "import numpy as np\n",
    "import fiona\n",
    "import matplotlib\n",
    "import glob\n",
    "import pandas as pd\n",
    "import geopandas as gpd"
   ]
  },
  {
   "cell_type": "markdown",
   "metadata": {},
   "source": [
    "- What do my training samples look like? Visualize some random samples from x_train and y_train. Look at the values, are they [0,255], is this what you expected? Look at the matching segmentation mask, is it what you expected?\n",
    "\n",
    "- What does my model training look like. You should be training with adam optimizer using cross entropy without any masking or anything. you should have 2 classes: chicken, not chicken.\n",
    "\n",
    "- What does my trained model output look like on x_test, y_test? Is it predicting both classes?\n",
    "\n",
    "- What does my trained model output look like over an entire tile? Is it predicting both classes like it was doing for x_test, y_test? While I am running inference over an entire tile am I normalizing the inputs to the model in teh same way that I'm doing during training and testing?"
   ]
  },
  {
   "cell_type": "markdown",
   "metadata": {},
   "source": [
    "DOWN THE LINE:\n",
    "\n",
    "Fix gen data take forever"
   ]
  },
  {
   "cell_type": "markdown",
   "metadata": {},
   "source": [
    "Segmentation:\n",
    "\n",
    "    f: rˆw,h,channel -> r^w,h,# of classes\n",
    "    \n",
    "Classification:\n",
    "\n",
    "    f: rˆw,h,channel -> r^class_prediction"
   ]
  },
  {
   "cell_type": "markdown",
   "metadata": {},
   "source": [
    "### Training samples"
   ]
  },
  {
   "cell_type": "code",
   "execution_count": 7,
   "metadata": {},
   "outputs": [],
   "source": [
    "# Extract x,y\n",
    "\n",
    "def gen_training_patches_single_center_and_dense(x_fns, y_fns, width, height, channel, target, batch_size, test=True):\n",
    "    # Output\n",
    "    x_batches = np.zeros((batch_size, width, height, channel), dtype=np.float32)\n",
    "    y_batches = np.zeros((batch_size, width, height, target))\n",
    "    y_batches_center = np.zeros((batch_size, width, height, target))\n",
    "    print(x_batches.shape, y_batches.shape)\n",
    "\n",
    "    ground_truth_set = glob.glob(y_fns + \"*\")\n",
    "\n",
    "    if (test == True):\n",
    "        ground_truth_set = [x for x in ground_truth_set if \"m_3807537_ne\" in x]\n",
    "\n",
    "    count = 0\n",
    "    non_zero_count = 0\n",
    "\n",
    "    # Randomly choose a file from input list\n",
    "    y_fn = np.random.choice(ground_truth_set)\n",
    "    folder_name = y_fn.split('/')[2][2:7]\n",
    "    filename = y_fn.split('/')[2][:26]\n",
    "    x_fn = x_fns + filename + \".mrf\"\n",
    "    print(x_fn)\n",
    "\n",
    "    # Load input file\n",
    "    f = rasterio.open(x_fn, \"r\")\n",
    "    data = f.read().squeeze()\n",
    "    data = np.rollaxis(data, 0, 3)\n",
    "    f.close()\n",
    "    print(data.shape)\n",
    "\n",
    "    # Load ground truth file\n",
    "    f = rasterio.open(y_fn, \"r\")\n",
    "    target = f.read().squeeze()\n",
    "    f.close()\n",
    "\n",
    "    # Poultry pixels\n",
    "    y_ind,x_ind = np.where(target==1)\n",
    "\n",
    "    # Used pixels\n",
    "    used_x = set()\n",
    "\n",
    "    # Randomly sample batch_size # of 240x240 patch per file\n",
    "    while count != batch_size:\n",
    "        x = np.random.randint(0, data.shape[1]-width)\n",
    "        y = np.random.randint(0, data.shape[0]-height)\n",
    "\n",
    "        # Force to choose chicken house pixel for ~50% of data\n",
    "        if count % 2 == 0:\n",
    "            rand_index = np.random.randint(0,len(x_ind))\n",
    "            x = x_ind[rand_index]\n",
    "            y = y_ind[rand_index]\n",
    "            temp_count = 0\n",
    "            while not (x-width >= 0 and x+width < data.shape[1] and y-height >= 0 and y+height < data.shape[0]):\n",
    "                if (temp_count > 2):\n",
    "                    x = np.random.randint(0, data.shape[1]-width)\n",
    "                    y = np.random.randint(0, data.shape[0]-height)\n",
    "                rand_index = np.random.randint(0,len(x_ind))\n",
    "                x = x_ind[rand_index]\n",
    "                y = y_ind[rand_index]\n",
    "                temp_count += 1\n",
    "\n",
    "        while (not (x-width >= 0 and x+width < data.shape[1] and y-height >= 0 and y+height < data.shape[0])) or x in used_x:\n",
    "            x = np.random.randint(0, data.shape[1]-width)\n",
    "            y = np.random.randint(0, data.shape[0]-height)\n",
    "\n",
    "        used_x.add(x)\n",
    "\n",
    "        # Set up x_batch with img data at y,x coords\n",
    "        img = data[y-(height//2):y+(height//2), x-(width//2):x+(width//2), :].astype(np.float32)\n",
    "        x_batches[count] = img\n",
    "        \n",
    "        ################################################\n",
    "        \n",
    "        # FOR DENSE - (7586x6100)\n",
    "        label = target[y-(height//2):y+(height//2), x-(width//2):x+(width//2)]\n",
    "\n",
    "        for i in range(height):\n",
    "            for j in range(width):\n",
    "                y_batches[count, i, j, label[i,j]] = 1\n",
    "                \n",
    "        ################################################\n",
    "\n",
    "        # FOR SINGLE\n",
    "        # Center predict given context\n",
    "        label_2 = target[y,x]\n",
    "\n",
    "        y_batches_center[count,height//2,width//2,label_2] = 1\n",
    "        \n",
    "        ################################################\n",
    "\n",
    "        if (label != 0):\n",
    "            non_zero_count += 1\n",
    "        \n",
    "        count += 1\n",
    "\n",
    "        if count % 100 == 0:\n",
    "            print(f\"Iteration: {count}\")\n",
    "\n",
    "    x_batches = x_batches/255.0\n",
    "\n",
    "    print(y_batches.shape)\n",
    "\n",
    "    print(\"Ratio of chicken house to non-chicken: {}\".format(non_zero_count / count))\n",
    "\n",
    "    np.save('./x_dense.npy',x_batches)\n",
    "    np.save('./y_dense.npy',y_batches)\n",
    "    np.save('./y_single.npy', y_batches_center)\n",
    "\n",
    "    return x_batches, y_batches, y_batches_center"
   ]
  },
  {
   "cell_type": "markdown",
   "metadata": {},
   "source": [
    "What do my training samples look like? Visualize some random samples from x_train and y_train. Look at the values, are they [0,255], is this what you expected? Look at the matching segmentation mask, is it what you expected?"
   ]
  },
  {
   "cell_type": "code",
   "execution_count": 9,
   "metadata": {},
   "outputs": [],
   "source": [
    "x = np.load(\"../landcover_scripts/x_dense.npy\")\n",
    "y_dense = np.load(\"../landcover_scripts/y_dense.npy\")\n",
    "y_center = np.load(\"../landcover_scripts/y_single.npy\")"
   ]
  },
  {
   "cell_type": "code",
   "execution_count": 11,
   "metadata": {},
   "outputs": [
    {
     "data": {
      "text/plain": [
       "(2000, 150, 150, 4)"
      ]
     },
     "execution_count": 11,
     "metadata": {},
     "output_type": "execute_result"
    }
   ],
   "source": [
    "x.shape"
   ]
  },
  {
   "cell_type": "code",
   "execution_count": 47,
   "metadata": {},
   "outputs": [
    {
     "data": {
      "text/plain": [
       "<matplotlib.image.AxesImage at 0x7fa6bbc25390>"
      ]
     },
     "execution_count": 47,
     "metadata": {},
     "output_type": "execute_result"
    },
    {
     "data": {
      "image/png": "[encoded data removed]",
      "text/plain": [
       "<Figure size 432x288 with 1 Axes>"
      ]
     },
     "metadata": {
      "needs_background": "light"
     },
     "output_type": "display_data"
    }
   ],
   "source": [
    "plt.imshow(x[0])"
   ]
  },
  {
   "cell_type": "code",
   "execution_count": 49,
   "metadata": {},
   "outputs": [
    {
     "data": {
      "text/plain": [
       "(array([ 2891., 10421., 13383.,  9322., 15312.,  8826.,  8209., 11601.,\n",
       "         8388.,  1647.]),\n",
       " array([0.06666667, 0.14235294, 0.21803921, 0.2937255 , 0.36941177,\n",
       "        0.44509804, 0.5207843 , 0.5964706 , 0.6721569 , 0.74784315,\n",
       "        0.8235294 ], dtype=float32),\n",
       " <a list of 10 Patch objects>)"
      ]
     },
     "execution_count": 49,
     "metadata": {},
     "output_type": "execute_result"
    },
    {
     "data": {
      "image/png": "[encoded data removed]",
      "text/plain": [
       "<Figure size 432x288 with 1 Axes>"
      ]
     },
     "metadata": {
      "needs_background": "light"
     },
     "output_type": "display_data"
    }
   ],
   "source": [
    "plt.hist(x[0].flatten())"
   ]
  },
  {
   "cell_type": "code",
   "execution_count": 12,
   "metadata": {},
   "outputs": [
    {
     "data": {
      "text/plain": [
       "(2000, 150, 150, 2)"
      ]
     },
     "execution_count": 12,
     "metadata": {},
     "output_type": "execute_result"
    }
   ],
   "source": [
    "y_dense.shape"
   ]
  },
  {
   "cell_type": "code",
   "execution_count": 43,
   "metadata": {},
   "outputs": [
    {
     "data": {
      "text/plain": [
       "<matplotlib.image.AxesImage at 0x7fa6bbdcbf28>"
      ]
     },
     "execution_count": 43,
     "metadata": {},
     "output_type": "execute_result"
    },
    {
     "data": {
      "image/png": "[encoded data removed]",
      "text/plain": [
       "<Figure size 432x288 with 2 Axes>"
      ]
     },
     "metadata": {
      "needs_background": "light"
     },
     "output_type": "display_data"
    }
   ],
   "source": [
    "fig, ax = plt.subplots(nrows=1, ncols=2)\n",
    "ax[0].imshow(y_dense[0,:,:,0])\n",
    "ax[1].imshow(y_dense[0,:,:,1])"
   ]
  },
  {
   "cell_type": "code",
   "execution_count": 13,
   "metadata": {},
   "outputs": [
    {
     "data": {
      "text/plain": [
       "(2000, 150, 150, 2)"
      ]
     },
     "execution_count": 13,
     "metadata": {},
     "output_type": "execute_result"
    }
   ],
   "source": [
    "y_center.shape"
   ]
  },
  {
   "cell_type": "code",
   "execution_count": 44,
   "metadata": {},
   "outputs": [
    {
     "data": {
      "text/plain": [
       "<matplotlib.image.AxesImage at 0x7fa6bbb935f8>"
      ]
     },
     "execution_count": 44,
     "metadata": {},
     "output_type": "execute_result"
    },
    {
     "data": {
      "image/png": "[encoded data removed]",
      "text/plain": [
       "<Figure size 432x288 with 2 Axes>"
      ]
     },
     "metadata": {
      "needs_background": "light"
     },
     "output_type": "display_data"
    }
   ],
   "source": [
    "fig, ax = plt.subplots(nrows=1, ncols=2)\n",
    "ax[0].imshow(y_center[0,:,:,0])\n",
    "ax[1].imshow(y_center[0,:,:,1])"
   ]
  },
  {
   "cell_type": "markdown",
   "metadata": {},
   "source": [
    "What does my model training look like. You should be training with adam optimizer using cross entropy without any masking or anything. you should have 2 classes: chicken, not chicken.\n"
   ]
  },
  {
   "cell_type": "code",
   "execution_count": 52,
   "metadata": {},
   "outputs": [],
   "source": [
    "import keras\n",
    "import keras.backend as K\n",
    "import keras.callbacks\n",
    "import keras.utils\n",
    "import tensorflow as tf\n",
    "from keras.optimizers import SGD, Adam, RMSprop, Adadelta\n",
    "from keras.layers import Input, Dense, Activation, MaxPooling2D, Conv2D, BatchNormalization\n",
    "from keras.layers import Concatenate, Cropping2D, Lambda\n",
    "from keras.losses import categorical_crossentropy, binary_crossentropy\n",
    "from keras.preprocessing.image import ImageDataGenerator\n",
    "from keras.callbacks import ModelCheckpoint\n",
    "import pandas as pd\n",
    "\n",
    "def masked_categorical_crossentropy(y_true, y_pred):\n",
    "    \n",
    "    mask = K.all(K.equal(y_true, [1,0,0,0,0,0]), axis=-1)\n",
    "    mask = 1 - K.cast(mask, K.floatx())\n",
    "\n",
    "    loss = K.categorical_crossentropy(y_true, y_pred) * mask\n",
    "\n",
    "    return K.sum(loss) / K.sum(mask)\n",
    "\n",
    "keras.losses.masked_categorical_crossentropy = masked_categorical_crossentropy\n",
    "\n",
    "def get_loss(mask_value):\n",
    "    mask_value = K.variable(mask_value)\n",
    "    def masked_categorical_crossentropy(y_true, y_pred):\n",
    "        \n",
    "        mask = K.all(K.equal(y_true, mask_value), axis=-1)\n",
    "        mask = 1 - K.cast(mask, K.floatx())\n",
    "\n",
    "        loss = K.categorical_crossentropy(y_true, y_pred) * mask\n",
    "\n",
    "        return K.sum(loss) / K.sum(mask)\n",
    "    return masked_categorical_crossentropy\n",
    "\n",
    "def get_model(model_path, num_classes):\n",
    "    # K.clear_session()\n",
    "    tmodel = keras.models.load_model(model_path, custom_objects={\n",
    "        \"jaccard_loss\":keras.metrics.mean_squared_error,\n",
    "        \"loss\":keras.metrics.mean_squared_error,\n",
    "        \"masked_categorical_crossentropy\":keras.metrics.mean_squared_error\n",
    "    })\n",
    "    toutput = tmodel.layers[-2].output\n",
    "    toutput = Conv2D(num_classes, (1,1), padding=\"same\", use_bias=True, activation=\"softmax\", name=\"output_conv\")(toutput)\n",
    "    model = keras.models.Model(inputs=tmodel.inputs, outputs=[toutput])\n",
    "\n",
    "    optimizer = Adam(lr=0.001)\n",
    "\n",
    "    model.compile(loss=K.categorical_crossentropy, optimizer=optimizer, metrics=[iou_coef])\n",
    "    \n",
    "    return model\n",
    "\n",
    "def train_model_from_points(in_geo_path, in_model_path_sup, in_model_path_ae, in_tile_path, out_model_path_sup, out_model_path_ae, num_classes, exp, even):\n",
    "    # Unsupervised tuning\n",
    "\n",
    "    print(\"Tuning Unsupervised model\")\n",
    "\n",
    "    model_ae = get_model(in_model_path_ae, num_classes)\n",
    "    model_ae.summary()\n",
    "\n",
    "    # Load in sample\n",
    "    print(\"Loading tiles...\")\n",
    "#     X, Y = generate_training_patches.gen_training_patches(\"../../../media/disk2/datasets/all_maryalnd_naip/\",\n",
    "#      \"./binary_raster_md_tif/\", 150, 150, 4, 2, 50000)\n",
    "\n",
    "    X = np.load(\"../landcover_scripts/x_dense.npy\")\n",
    "    Y = np.load(\"../landcover_scripts/y_dense.npy\")\n",
    "\n",
    "    cpPath = f\"{exp}/tmp_ae_{even}/ae_tuned_model_{even}_\"\n",
    "\n",
    "    checkpointer_ae = ModelCheckpoint(filepath=(cpPath+\"{epoch:02d}_{loss:.2f}.h5\"), monitor='loss', verbose=1)\n",
    "\n",
    "    model_ae.fit(\n",
    "        X, Y,\n",
    "        batch_size=10, epochs=10, verbose=1, validation_split=0,\n",
    "        callbacks=[checkpointer_ae]\n",
    "    )\n",
    "\n",
    "    model_ae.save(out_model_path_ae)"
   ]
  },
  {
   "cell_type": "markdown",
   "metadata": {},
   "source": [
    "python generate_tuned_model_v3.py --in_geo_path ./binary_raster_md/ --in_tile_path ../../../media/disk2/datasets/all_maryalnd_naip/ --in_model_path_sup ../landcover-old/web_tool/data/naip_demo_model.h5 --in_model_path_ae ../landcover-old/web_tool/data/naip_autoencoder.h5 --out_model_path_sup ./naip_demo_tuned.h5 --out_model_path_ae ./naip_autoencoder_tuned.h5 --num_classes 2 --gpu 1 --exp 1 --even even\n"
   ]
  },
  {
   "cell_type": "code",
   "execution_count": null,
   "metadata": {},
   "outputs": [],
   "source": [
    "train_model_from_points(args.in_geo_path, args.in_model_path_sup, args.in_model_path_ae, args.in_tile_path, args.out_model_path_sup, args.out_model_path_ae, int(args.num_classes), args.exp, args.evenodd)"
   ]
  }
 ],
 "metadata": {
  "kernelspec": {
   "display_name": "ai4e",
   "language": "python",
   "name": "ai4e"
  },
  "language_info": {
   "codemirror_mode": {
    "name": "ipython",
    "version": 3
   },
   "file_extension": ".py",
   "mimetype": "text/x-python",
   "name": "python",
   "nbconvert_exporter": "python",
   "pygments_lexer": "ipython3",
   "version": "3.6.10"
  }
 },
 "nbformat": 4,
 "nbformat_minor": 2
}
