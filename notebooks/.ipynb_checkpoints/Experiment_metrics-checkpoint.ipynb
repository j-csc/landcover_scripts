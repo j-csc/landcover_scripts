{
 "cells": [
  {
   "cell_type": "code",
   "execution_count": 123,
   "metadata": {},
   "outputs": [],
   "source": [
    "import numpy as np\n",
    "import pandas as pd\n",
    "import glob\n",
    "import json\n",
    "import json"
   ]
  },
  {
   "cell_type": "code",
   "execution_count": 126,
   "metadata": {
    "scrolled": false
   },
   "outputs": [
    {
     "data": {
      "text/plain": [
       "['../metrics_folder/exp1/random',\n",
       " '../metrics_folder/exp1/random_39',\n",
       " '../metrics_folder/exp1/balanced',\n",
       " '../metrics_folder/exp1/balanced_50']"
      ]
     },
     "execution_count": 126,
     "metadata": {},
     "output_type": "execute_result"
    }
   ],
   "source": [
    "mf = glob.glob('../metrics_folder/exp1/*')\n",
    "mf"
   ]
  },
  {
   "cell_type": "code",
   "execution_count": 127,
   "metadata": {},
   "outputs": [
    {
     "name": "stdout",
     "output_type": "stream",
     "text": [
      "../metrics_folder/exp1/random\n",
      "../metrics_folder/exp1/random_39\n",
      "../metrics_folder/exp1/balanced\n",
      "../metrics_folder/exp1/balanced_50\n"
     ]
    }
   ],
   "source": [
    "for folder in mf:\n",
    "    model_res_json_folder = (glob.glob(folder + \"/*\"))\n",
    "    data = {'tp': [],'tn': [],'fp': [],'fn': [],'iou': [],'recall': [],'precision': [],}\n",
    "    df_res = pd.DataFrame(data)\n",
    "    for model_res_json_path in model_res_json_folder:\n",
    "        with open(model_res_json_path, 'r') as j:\n",
    "            contents = json.loads(j.read())\n",
    "            df = pd.DataFrame.from_dict(contents)\n",
    "        s = df.sum(axis=1)\n",
    "        fn = s['fn']\n",
    "        tn = s['TN']\n",
    "        tp = s['TP']\n",
    "        fp = s['FP']\n",
    "        recall = (tp/(tp+fn))\n",
    "        precision = tp / (tp + fp)\n",
    "        iou = tp /(tp + fn + fp)\n",
    "        name = model_res_json_path.split('/')[4].split('.json')[0]\n",
    "        new_row = pd.Series({'tp':tp,'tn':tn,'fp':fp,'fn':fn,'iou':iou,'recall':recall,'precision': precision}, name=name)\n",
    "        df_res = df_res.append(new_row)\n",
    "        \n",
    "    fs = folder.split('/')\n",
    "    csv_name = fs[3] + \"_\" + fs[2]\n",
    "    df_res.to_csv(f'./{csv_name}.csv')\n"
   ]
  },
  {
   "cell_type": "code",
   "execution_count": 115,
   "metadata": {},
   "outputs": [
    {
     "data": {
      "text/plain": [
       "'random_63_rotation_1'"
      ]
     },
     "execution_count": 115,
     "metadata": {},
     "output_type": "execute_result"
    }
   ],
   "source": [
    "csv_name"
   ]
  },
  {
   "cell_type": "code",
   "execution_count": null,
   "metadata": {},
   "outputs": [],
   "source": []
  }
 ],
 "metadata": {
  "kernelspec": {
   "display_name": "Python 3",
   "language": "python",
   "name": "python3"
  },
  "language_info": {
   "codemirror_mode": {
    "name": "ipython",
    "version": 3
   },
   "file_extension": ".py",
   "mimetype": "text/x-python",
   "name": "python",
   "nbconvert_exporter": "python",
   "pygments_lexer": "ipython3",
   "version": "3.7.3"
  }
 },
 "nbformat": 4,
 "nbformat_minor": 2
}
