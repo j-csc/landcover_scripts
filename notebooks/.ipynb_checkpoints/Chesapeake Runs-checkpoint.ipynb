{
 "cells": [
  {
   "cell_type": "code",
   "execution_count": 1,
   "metadata": {},
   "outputs": [],
   "source": [
    "import rasterio\n",
    "from rasterio.plot import show\n",
    "import matplotlib.pyplot as plt\n",
    "import numpy as np\n",
    "import fiona\n",
    "import matplotlib\n",
    "import glob\n",
    "import pandas as pd"
   ]
  },
  {
   "cell_type": "code",
   "execution_count": 2,
   "metadata": {},
   "outputs": [],
   "source": [
    "def get_metrics(pred_path):\n",
    "    src = rasterio.open(pred_path)\n",
    "    raw = np.array(src.read())\n",
    "    y_pred = (raw == 2) # chicken\n",
    "    y_pred = y_pred.astype(int)\n",
    "    y_pred = y_pred.squeeze()\n",
    "    \n",
    "    src_masked = rasterio.open(\"./chicken_3807509/m_3807509_ne_18_1_20170709_rasterized.tif\")\n",
    "    y_true = np.array(src_masked.read())\n",
    "    y_true = y_true.squeeze()\n",
    "    tp = np.sum((y_true == 1) & (y_pred == 1))\n",
    "    tn = np.sum((y_true == 0) & (y_pred == 0))\n",
    "    fp = np.sum((y_true == 0) & (y_pred == 1))\n",
    "    fn = np.sum((y_true == 1) & (y_pred == 0))\n",
    "\n",
    "    assert tp + tn + fp + fn == y_true.size\n",
    "\n",
    "    n = tp + fp + tn + fn\n",
    "\n",
    "    acc = (tp+tn)/n\n",
    "    recall = (tp/(tp+fn))\n",
    "    precision = tp / (tp + fp)\n",
    "    iou = tp /(tp + fn + fp)\n",
    "\n",
    "    print(\"IOU: {}\".format(iou))\n",
    "    print(\"Accuracy: {}\".format(acc))\n",
    "    print(\"Precision: {}\".format(precision))\n",
    "    print(\"Recall: {}\".format(recall))\n",
    "    return iou, acc, precision, recall"
   ]
  },
  {
   "cell_type": "code",
   "execution_count": 3,
   "metadata": {},
   "outputs": [],
   "source": [
    "# one_for_all = [\n",
    "#     \"#FFFFFF\",\n",
    "#     \"#FFFFFF\",\n",
    "#     \"#FF0000\"\n",
    "# ]\n",
    "# one_for_all_cmap = matplotlib.colors.ListedColormap(one_for_all)\n",
    "plt.rcParams[\"figure.figsize\"] = (20,10)\n",
    "def plot_tile(path):\n",
    "    src = rasterio.open(path)\n",
    "    plt.imshow(src.read(1),vmin=0, vmax=2)\n",
    "    plt.show()"
   ]
  },
  {
   "cell_type": "code",
   "execution_count": 4,
   "metadata": {},
   "outputs": [],
   "source": [
    "metrics = {}\n",
    "all_metrics = []"
   ]
  },
  {
   "cell_type": "markdown",
   "metadata": {},
   "source": [
    "# m_3807509_ne"
   ]
  },
  {
   "cell_type": "code",
   "execution_count": 9,
   "metadata": {},
   "outputs": [
    {
     "name": "stdout",
     "output_type": "stream",
     "text": [
      "IOU: 0.4301643192488263\n",
      "Accuracy: 0.9979590844014835\n",
      "Precision: 0.45666878575969483\n",
      "Recall: 0.8811176802492456\n"
     ]
    }
   ],
   "source": [
    "temp = {}\n",
    "temp['experiment'] = \"m_3807509_ne\"\n",
    "temp['model'] = \"AE_Even_Best\"\n",
    "temp_metrics = get_metrics(\"../landcover_scripts/m_3807509_ne_18_1_20170709_ae_even_best.tif\")\n",
    "temp['iou'] = temp_metrics[0]\n",
    "temp['acc'] = temp_metrics[1]\n",
    "temp['precision'] = temp_metrics[2]\n",
    "temp['recall'] = temp_metrics[3]\n",
    "all_metrics.append(temp)"
   ]
  },
  {
   "cell_type": "code",
   "execution_count": 10,
   "metadata": {},
   "outputs": [
    {
     "name": "stdout",
     "output_type": "stream",
     "text": [
      "IOU: 0.3755770972195419\n",
      "Accuracy: 0.9972935423352615\n",
      "Precision: 0.386332286486514\n",
      "Recall: 0.930991340185953\n"
     ]
    }
   ],
   "source": [
    "temp = {}\n",
    "temp['experiment'] = \"m_3807509_ne\"\n",
    "temp['model'] = \"AE_Uneven_Best\"\n",
    "temp_metrics = get_metrics(\"../landcover_scripts/m_3807509_ne_18_1_20170709_ae_uneven_best.tif\")\n",
    "temp['iou'] = temp_metrics[0]\n",
    "temp['acc'] = temp_metrics[1]\n",
    "temp['precision'] = temp_metrics[2]\n",
    "temp['recall'] = temp_metrics[3]\n"
   ]
  },
  {
   "cell_type": "code",
   "execution_count": 30,
   "metadata": {},
   "outputs": [
    {
     "name": "stdout",
     "output_type": "stream",
     "text": [
      "IOU: 0.366500505740036\n",
      "Accuracy: 0.9970044708915908\n",
      "Precision: 0.36770802521104007\n",
      "Recall: 0.9911193974928244\n"
     ]
    },
    {
     "data": {
      "text/plain": [
       "(0.366500505740036,\n",
       " 0.9970044708915908,\n",
       " 0.36770802521104007,\n",
       " 0.9911193974928244)"
      ]
     },
     "execution_count": 30,
     "metadata": {},
     "output_type": "execute_result"
    }
   ],
   "source": [
    "temp = {}\n",
    "temp['experiment'] = \"m_3807509_ne\"\n",
    "temp['model'] = \"Sup_Even_Best\"\n",
    "temp_metrics =get_metrics(\"../landcover_scripts/m_3807509_ne_18_1_20170709_sup_even_best.tif\")\n",
    "temp['iou'] = temp_metrics[0]\n",
    "temp['acc'] = temp_metrics[1]\n",
    "temp['precision'] = temp_metrics[2]\n",
    "temp['recall'] = temp_metrics[3]\n",
    "all_metrics.append(temp)\n"
   ]
  },
  {
   "cell_type": "code",
   "execution_count": 31,
   "metadata": {},
   "outputs": [
    {
     "name": "stdout",
     "output_type": "stream",
     "text": [
      "IOU: 0.6060897041322992\n",
      "Accuracy: 0.9989705985301667\n",
      "Precision: 0.6468450003503609\n",
      "Recall: 0.9058337217574761\n"
     ]
    },
    {
     "data": {
      "text/plain": [
       "(0.6060897041322992,\n",
       " 0.9989705985301667,\n",
       " 0.6468450003503609,\n",
       " 0.9058337217574761)"
      ]
     },
     "execution_count": 31,
     "metadata": {},
     "output_type": "execute_result"
    }
   ],
   "source": [
    "get_metrics(\"../landcover_scripts/m_3807509_ne_18_1_20170709_sup_uneven_best.tif\")"
   ]
  },
  {
   "cell_type": "markdown",
   "metadata": {},
   "source": [
    "# m_3807518_se"
   ]
  },
  {
   "cell_type": "code",
   "execution_count": 33,
   "metadata": {},
   "outputs": [
    {
     "name": "stdout",
     "output_type": "stream",
     "text": [
      "IOU: 0.21250814879200333\n",
      "Accuracy: 0.9931547581995698\n",
      "Precision: 0.2264764165467077\n",
      "Recall: 0.775054937137505\n"
     ]
    },
    {
     "data": {
      "text/plain": [
       "(0.21250814879200333,\n",
       " 0.9931547581995698,\n",
       " 0.2264764165467077,\n",
       " 0.775054937137505)"
      ]
     },
     "execution_count": 33,
     "metadata": {},
     "output_type": "execute_result"
    }
   ],
   "source": [
    "get_metrics(\"../landcover_scripts/m_3807518_se_18_1_20170611_ae_even_best.tif\")"
   ]
  },
  {
   "cell_type": "code",
   "execution_count": 34,
   "metadata": {},
   "outputs": [
    {
     "name": "stdout",
     "output_type": "stream",
     "text": [
      "IOU: 0.1872285375049653\n",
      "Accuracy: 0.991962745248712\n",
      "Precision: 0.197871622939124\n",
      "Recall: 0.7768291364962715\n"
     ]
    },
    {
     "data": {
      "text/plain": [
       "(0.1872285375049653, 0.991962745248712, 0.197871622939124, 0.7768291364962715)"
      ]
     },
     "execution_count": 34,
     "metadata": {},
     "output_type": "execute_result"
    }
   ],
   "source": [
    "get_metrics(\"../landcover_scripts/m_3807518_se_18_1_20170611_ae_uneven_best.tif\")"
   ]
  },
  {
   "cell_type": "code",
   "execution_count": 35,
   "metadata": {},
   "outputs": [
    {
     "name": "stdout",
     "output_type": "stream",
     "text": [
      "IOU: 0.19134570943490004\n",
      "Accuracy: 0.9925265763466544\n",
      "Precision: 0.20498568090945507\n",
      "Recall: 0.7419755754890306\n"
     ]
    },
    {
     "data": {
      "text/plain": [
       "(0.19134570943490004,\n",
       " 0.9925265763466544,\n",
       " 0.20498568090945507,\n",
       " 0.7419755754890306)"
      ]
     },
     "execution_count": 35,
     "metadata": {},
     "output_type": "execute_result"
    }
   ],
   "source": [
    "get_metrics(\"../landcover_scripts/m_3807518_se_18_1_20170611_sup_even_best.tif\")"
   ]
  },
  {
   "cell_type": "code",
   "execution_count": 36,
   "metadata": {},
   "outputs": [
    {
     "name": "stdout",
     "output_type": "stream",
     "text": [
      "IOU: 0.27974362959011817\n",
      "Accuracy: 0.9963190853005962\n",
      "Precision: 0.34392394997469816\n",
      "Recall: 0.5998504989372816\n"
     ]
    },
    {
     "data": {
      "text/plain": [
       "(0.27974362959011817,\n",
       " 0.9963190853005962,\n",
       " 0.34392394997469816,\n",
       " 0.5998504989372816)"
      ]
     },
     "execution_count": 36,
     "metadata": {},
     "output_type": "execute_result"
    }
   ],
   "source": [
    "get_metrics(\"../landcover_scripts/m_3807518_se_18_1_20170611_sup_uneven_best.tif\")"
   ]
  },
  {
   "cell_type": "code",
   "execution_count": null,
   "metadata": {},
   "outputs": [],
   "source": []
  }
 ],
 "metadata": {
  "kernelspec": {
   "display_name": "ai4e",
   "language": "python",
   "name": "ai4e"
  },
  "language_info": {
   "codemirror_mode": {
    "name": "ipython",
    "version": 3
   },
   "file_extension": ".py",
   "mimetype": "text/x-python",
   "name": "python",
   "nbconvert_exporter": "python",
   "pygments_lexer": "ipython3",
   "version": "3.6.7"
  }
 },
 "nbformat": 4,
 "nbformat_minor": 4
}
