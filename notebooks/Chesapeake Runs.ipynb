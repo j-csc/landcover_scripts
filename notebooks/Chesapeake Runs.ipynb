{
 "cells": [
  {
   "cell_type": "code",
   "execution_count": 1,
   "metadata": {},
   "outputs": [],
   "source": [
    "import rasterio\n",
    "from rasterio.plot import show\n",
    "import matplotlib.pyplot as plt\n",
    "import numpy as np\n",
    "import fiona\n",
    "import matplotlib\n",
    "import glob\n",
    "import pandas as pd"
   ]
  },
  {
   "cell_type": "code",
   "execution_count": 103,
   "metadata": {},
   "outputs": [],
   "source": [
    "def get_metrics(pred_path):\n",
    "    src = rasterio.open(pred_path)\n",
    "    raw = np.array(src.read())\n",
    "    y_pred = (raw == 2) # chicken\n",
    "    y_pred = y_pred.astype(int)\n",
    "    y_pred = y_pred.squeeze()\n",
    "    \n",
    "    src_masked = rasterio.open(\"./m_3807536_se_18_1_20170611_rasterized4.tif\")\n",
    "    y_true = np.array(src_masked.read())\n",
    "    y_true = y_true.squeeze()\n",
    "    tp = np.sum((y_true == 1) & (y_pred == 1))\n",
    "    tn = np.sum((y_true == 0) & (y_pred == 0))\n",
    "    fp = np.sum((y_true == 0) & (y_pred == 1))\n",
    "    fn = np.sum((y_true == 1) & (y_pred == 0))\n",
    "\n",
    "    assert tp + tn + fp + fn == y_true.size\n",
    "\n",
    "    n = tp + fp + tn + fn\n",
    "\n",
    "    acc = (tp+tn)/n\n",
    "    recall = (tp/(tp+fn))\n",
    "    precision = tp / (tp + fp)\n",
    "    iou = tp /(tp + fn + fp)\n",
    "\n",
    "    print(\"IOU: {}\".format(iou))\n",
    "    print(\"Accuracy: {}\".format(acc))\n",
    "    print(\"Precision: {}\".format(precision))\n",
    "    print(\"Recall: {}\".format(recall))\n",
    "    return iou, acc, precision, recall"
   ]
  },
  {
   "cell_type": "code",
   "execution_count": 86,
   "metadata": {},
   "outputs": [],
   "source": [
    "# one_for_all = [\n",
    "#     \"#FFFFFF\",\n",
    "#     \"#FFFFFF\",\n",
    "#     \"#FF0000\"\n",
    "# ]\n",
    "# one_for_all_cmap = matplotlib.colors.ListedColormap(one_for_all)\n",
    "plt.rcParams[\"figure.figsize\"] = (20,10)\n",
    "def plot_tile(path):\n",
    "    src = rasterio.open(path)\n",
    "    plt.imshow(src.read(1),vmin=0, vmax=2)\n",
    "    plt.show()"
   ]
  },
  {
   "cell_type": "code",
   "execution_count": 87,
   "metadata": {},
   "outputs": [],
   "source": [
    "metrics = {}\n",
    "all_metrics = []"
   ]
  },
  {
   "cell_type": "markdown",
   "metadata": {},
   "source": [
    "# m_3807509_ne"
   ]
  },
  {
   "cell_type": "code",
   "execution_count": 88,
   "metadata": {},
   "outputs": [
    {
     "name": "stdout",
     "output_type": "stream",
     "text": [
      "IOU: 0.4301643192488263\n",
      "Accuracy: 0.9979590844014835\n",
      "Precision: 0.45666878575969483\n",
      "Recall: 0.8811176802492456\n"
     ]
    }
   ],
   "source": [
    "temp = {}\n",
    "temp['experiment'] = \"m_3807509_ne\"\n",
    "temp['model'] = \"ae\"\n",
    "temp['sampling'] = 'even'\n",
    "temp_metrics = get_metrics(\"../landcover_scripts/m_3807509_ne_18_1_20170709_ae_even_best.tif\")\n",
    "temp['iou'] = temp_metrics[0]\n",
    "temp['acc'] = temp_metrics[1]\n",
    "temp['precision'] = temp_metrics[2]\n",
    "temp['recall'] = temp_metrics[3]\n",
    "all_metrics.append(temp)"
   ]
  },
  {
   "cell_type": "code",
   "execution_count": 89,
   "metadata": {},
   "outputs": [
    {
     "name": "stdout",
     "output_type": "stream",
     "text": [
      "IOU: 0.3755770972195419\n",
      "Accuracy: 0.9972935423352615\n",
      "Precision: 0.386332286486514\n",
      "Recall: 0.930991340185953\n"
     ]
    }
   ],
   "source": [
    "temp = {}\n",
    "temp['experiment'] = \"m_3807509_ne\"\n",
    "temp['model'] = \"ae\"\n",
    "temp['sampling'] = 'uneven'\n",
    "temp_metrics = get_metrics(\"../landcover_scripts/m_3807509_ne_18_1_20170709_ae_uneven_best.tif\")\n",
    "temp['iou'] = temp_metrics[0]\n",
    "temp['acc'] = temp_metrics[1]\n",
    "temp['precision'] = temp_metrics[2]\n",
    "temp['recall'] = temp_metrics[3]\n",
    "all_metrics.append(temp)"
   ]
  },
  {
   "cell_type": "code",
   "execution_count": 90,
   "metadata": {},
   "outputs": [
    {
     "name": "stdout",
     "output_type": "stream",
     "text": [
      "IOU: 0.366500505740036\n",
      "Accuracy: 0.9970044708915908\n",
      "Precision: 0.36770802521104007\n",
      "Recall: 0.9911193974928244\n"
     ]
    }
   ],
   "source": [
    "temp = {}\n",
    "temp['experiment'] = \"m_3807509_ne\"\n",
    "temp['model'] = \"sup\"\n",
    "temp['sampling'] = 'even'\n",
    "temp_metrics =get_metrics(\"../landcover_scripts/m_3807509_ne_18_1_20170709_sup_even_best.tif\")\n",
    "temp['iou'] = temp_metrics[0]\n",
    "temp['acc'] = temp_metrics[1]\n",
    "temp['precision'] = temp_metrics[2]\n",
    "temp['recall'] = temp_metrics[3]\n",
    "all_metrics.append(temp)"
   ]
  },
  {
   "cell_type": "code",
   "execution_count": 91,
   "metadata": {},
   "outputs": [
    {
     "name": "stdout",
     "output_type": "stream",
     "text": [
      "IOU: 0.27642541388575886\n",
      "Accuracy: 0.995523939525173\n",
      "Precision: 0.2781594197336608\n",
      "Recall: 0.9779456860388097\n"
     ]
    }
   ],
   "source": [
    "temp = {}\n",
    "temp['experiment'] = \"m_3807509_ne\"\n",
    "temp['model'] = \"sup\"\n",
    "temp['sampling'] = 'uneven'\n",
    "temp_metrics =get_metrics(\"../landcover_scripts/m_3807509_ne_18_1_20170709_sup_uneven_best.tif\")\n",
    "temp['iou'] = temp_metrics[0]\n",
    "temp['acc'] = temp_metrics[1]\n",
    "temp['precision'] = temp_metrics[2]\n",
    "temp['recall'] = temp_metrics[3]\n",
    "all_metrics.append(temp)\n"
   ]
  },
  {
   "cell_type": "markdown",
   "metadata": {},
   "source": [
    "# m_3807518_se"
   ]
  },
  {
   "cell_type": "code",
   "execution_count": 94,
   "metadata": {},
   "outputs": [
    {
     "name": "stdout",
     "output_type": "stream",
     "text": [
      "IOU: 0.21250814879200333\n",
      "Accuracy: 0.9931547581995698\n",
      "Precision: 0.2264764165467077\n",
      "Recall: 0.775054937137505\n"
     ]
    }
   ],
   "source": [
    "temp = {}\n",
    "temp['experiment'] = \"m_3807518_se\"\n",
    "temp['model'] = \"ae\"\n",
    "temp['sampling'] = 'even'\n",
    "temp_metrics = get_metrics(\"../landcover_scripts/m_3807518_se_18_1_20170611_ae_even_best.tif\")\n",
    "temp['iou'] = temp_metrics[0]\n",
    "temp['acc'] = temp_metrics[1]\n",
    "temp['precision'] = temp_metrics[2]\n",
    "temp['recall'] = temp_metrics[3]\n",
    "all_metrics.append(temp)"
   ]
  },
  {
   "cell_type": "code",
   "execution_count": 95,
   "metadata": {},
   "outputs": [
    {
     "name": "stdout",
     "output_type": "stream",
     "text": [
      "IOU: 0.1872285375049653\n",
      "Accuracy: 0.991962745248712\n",
      "Precision: 0.197871622939124\n",
      "Recall: 0.7768291364962715\n"
     ]
    }
   ],
   "source": [
    "temp = {}\n",
    "temp['experiment'] = \"m_3807518_se\"\n",
    "temp['model'] = \"ae\"\n",
    "temp['sampling'] = 'uneven'\n",
    "temp_metrics = get_metrics(\"../landcover_scripts/m_3807518_se_18_1_20170611_ae_uneven_best.tif\")\n",
    "temp['iou'] = temp_metrics[0]\n",
    "temp['acc'] = temp_metrics[1]\n",
    "temp['precision'] = temp_metrics[2]\n",
    "temp['recall'] = temp_metrics[3]\n",
    "all_metrics.append(temp)\n"
   ]
  },
  {
   "cell_type": "code",
   "execution_count": 96,
   "metadata": {},
   "outputs": [
    {
     "name": "stdout",
     "output_type": "stream",
     "text": [
      "IOU: 0.19134570943490004\n",
      "Accuracy: 0.9925265763466544\n",
      "Precision: 0.20498568090945507\n",
      "Recall: 0.7419755754890306\n"
     ]
    }
   ],
   "source": [
    "temp = {}\n",
    "temp['experiment'] = \"m_3807518_se\"\n",
    "temp['model'] = \"sup\"\n",
    "temp['sampling'] = 'even'\n",
    "temp_metrics = get_metrics(\"../landcover_scripts/m_3807518_se_18_1_20170611_sup_even_best.tif\")\n",
    "temp['iou'] = temp_metrics[0]\n",
    "temp['acc'] = temp_metrics[1]\n",
    "temp['precision'] = temp_metrics[2]\n",
    "temp['recall'] = temp_metrics[3]\n",
    "all_metrics.append(temp)"
   ]
  },
  {
   "cell_type": "code",
   "execution_count": 97,
   "metadata": {},
   "outputs": [
    {
     "name": "stdout",
     "output_type": "stream",
     "text": [
      "IOU: 0.12016167199893986\n",
      "Accuracy: 0.990024194853571\n",
      "Precision: 0.13205191952016676\n",
      "Recall: 0.5716434309593285\n"
     ]
    }
   ],
   "source": [
    "temp = {}\n",
    "temp['experiment'] = \"m_3807518_se\"\n",
    "temp['model'] = \"sup\"\n",
    "temp['sampling'] = 'uneven'\n",
    "temp_metrics = get_metrics(\"../landcover_scripts/m_3807518_se_18_1_20170611_sup_uneven_best.tif\")\n",
    "temp['iou'] = temp_metrics[0]\n",
    "temp['acc'] = temp_metrics[1]\n",
    "temp['precision'] = temp_metrics[2]\n",
    "temp['recall'] = temp_metrics[3]\n",
    "all_metrics.append(temp)\n"
   ]
  },
  {
   "cell_type": "markdown",
   "metadata": {},
   "source": [
    "# m_3807527_nw"
   ]
  },
  {
   "cell_type": "code",
   "execution_count": 99,
   "metadata": {},
   "outputs": [
    {
     "name": "stdout",
     "output_type": "stream",
     "text": [
      "IOU: 0.5346816163321076\n",
      "Accuracy: 0.9980121170937929\n",
      "Precision: 0.5840059257633535\n",
      "Recall: 0.8635873136931952\n"
     ]
    }
   ],
   "source": [
    "temp = {}\n",
    "temp['experiment'] = \"m_3807527_nw\"\n",
    "temp['model'] = \"ae\"\n",
    "temp['sampling'] = 'even'\n",
    "temp_metrics = get_metrics(\"../landcover_scripts/m_3807527_nw_18_18_1_20170611_ae_even_best.tif\")\n",
    "temp['iou'] = temp_metrics[0]\n",
    "temp['acc'] = temp_metrics[1]\n",
    "temp['precision'] = temp_metrics[2]\n",
    "temp['recall'] = temp_metrics[3]\n",
    "all_metrics.append(temp)"
   ]
  },
  {
   "cell_type": "code",
   "execution_count": 100,
   "metadata": {},
   "outputs": [
    {
     "name": "stdout",
     "output_type": "stream",
     "text": [
      "IOU: 0.4639477696883792\n",
      "Accuracy: 0.9973217124627275\n",
      "Precision: 0.49643805899493515\n",
      "Recall: 0.8763742282009882\n"
     ]
    }
   ],
   "source": [
    "temp = {}\n",
    "temp['experiment'] = \"m_3807527_nw\"\n",
    "temp['model'] = \"ae\"\n",
    "temp['sampling'] = 'uneven'\n",
    "temp_metrics = get_metrics(\"../landcover_scripts/m_3807527_nw_18_18_1_20170611_ae_uneven_best.tif\")\n",
    "temp['iou'] = temp_metrics[0]\n",
    "temp['acc'] = temp_metrics[1]\n",
    "temp['precision'] = temp_metrics[2]\n",
    "temp['recall'] = temp_metrics[3]\n",
    "all_metrics.append(temp)\n"
   ]
  },
  {
   "cell_type": "code",
   "execution_count": 101,
   "metadata": {},
   "outputs": [
    {
     "name": "stdout",
     "output_type": "stream",
     "text": [
      "IOU: 0.3821871077657946\n",
      "Accuracy: 0.9966302991897902\n",
      "Precision: 0.42595905909593224\n",
      "Recall: 0.7880990823603865\n"
     ]
    }
   ],
   "source": [
    "temp = {}\n",
    "temp['experiment'] = \"m_3807527_nw\"\n",
    "temp['model'] = \"sup\"\n",
    "temp['sampling'] = 'uneven'\n",
    "temp_metrics = get_metrics(\"../landcover_scripts/m_3807527_nw_18_18_1_20170611_sup_uneven_best.tif\")\n",
    "temp['iou'] = temp_metrics[0]\n",
    "temp['acc'] = temp_metrics[1]\n",
    "temp['precision'] = temp_metrics[2]\n",
    "temp['recall'] = temp_metrics[3]\n",
    "all_metrics.append(temp)\n"
   ]
  },
  {
   "cell_type": "code",
   "execution_count": 102,
   "metadata": {},
   "outputs": [
    {
     "name": "stdout",
     "output_type": "stream",
     "text": [
      "IOU: 0.5007868129231139\n",
      "Accuracy: 0.9976784497783906\n",
      "Precision: 0.5373158715619043\n",
      "Recall: 0.880471558040097\n"
     ]
    }
   ],
   "source": [
    "temp = {}\n",
    "temp['experiment'] = \"m_3807527_nw\"\n",
    "temp['model'] = \"sup\"\n",
    "temp['sampling'] = 'even'\n",
    "temp_metrics = get_metrics(\"../landcover_scripts/m_3807527_nw_18_18_1_20170611_sup_even_best.tif\")\n",
    "temp['iou'] = temp_metrics[0]\n",
    "temp['acc'] = temp_metrics[1]\n",
    "temp['precision'] = temp_metrics[2]\n",
    "temp['recall'] = temp_metrics[3]\n",
    "all_metrics.append(temp)\n"
   ]
  },
  {
   "cell_type": "markdown",
   "metadata": {},
   "source": [
    "# m_3807536_se"
   ]
  },
  {
   "cell_type": "code",
   "execution_count": 104,
   "metadata": {},
   "outputs": [
    {
     "name": "stdout",
     "output_type": "stream",
     "text": [
      "IOU: 0.20354730968786217\n",
      "Accuracy: 0.9929915996790238\n",
      "Precision: 0.21894807715573697\n",
      "Recall: 0.7431795457791744\n"
     ]
    }
   ],
   "source": [
    "temp = {}\n",
    "temp['experiment'] = \"m_3807536_se\"\n",
    "temp['model'] = \"ae\"\n",
    "temp['sampling'] = 'even'\n",
    "temp_metrics = get_metrics(\"../landcover_scripts/m_3807536_se_18_1_20170611_ae_even_best.tif\")\n",
    "temp['iou'] = temp_metrics[0]\n",
    "temp['acc'] = temp_metrics[1]\n",
    "temp['precision'] = temp_metrics[2]\n",
    "temp['recall'] = temp_metrics[3]\n",
    "all_metrics.append(temp)"
   ]
  },
  {
   "cell_type": "code",
   "execution_count": 105,
   "metadata": {},
   "outputs": [
    {
     "name": "stdout",
     "output_type": "stream",
     "text": [
      "IOU: 0.1894712626211461\n",
      "Accuracy: 0.9917373133706658\n",
      "Precision: 0.19880415886970867\n",
      "Recall: 0.8014301528353093\n"
     ]
    }
   ],
   "source": [
    "temp = {}\n",
    "temp['experiment'] = \"m_3807536_se\"\n",
    "temp['model'] = \"ae\"\n",
    "temp['sampling'] = 'uneven'\n",
    "temp_metrics = get_metrics(\"../landcover_scripts/m_3807536_se_18_1_20170611_ae_uneven_best.tif\")\n",
    "temp['iou'] = temp_metrics[0]\n",
    "temp['acc'] = temp_metrics[1]\n",
    "temp['precision'] = temp_metrics[2]\n",
    "temp['recall'] = temp_metrics[3]\n",
    "all_metrics.append(temp)"
   ]
  },
  {
   "cell_type": "code",
   "execution_count": 106,
   "metadata": {},
   "outputs": [
    {
     "name": "stdout",
     "output_type": "stream",
     "text": [
      "IOU: 0.21786767578909055\n",
      "Accuracy: 0.9937121091373887\n",
      "Precision: 0.23730651508526454\n",
      "Recall: 0.7267533209541495\n"
     ]
    }
   ],
   "source": [
    "temp = {}\n",
    "temp['experiment'] = \"m_3807536_se\"\n",
    "temp['model'] = \"sup\"\n",
    "temp['sampling'] = 'even'\n",
    "temp_metrics = get_metrics(\"../landcover_scripts/m_3807536_se_18_1_20170611_sup_even_best.tif\")\n",
    "temp['iou'] = temp_metrics[0]\n",
    "temp['acc'] = temp_metrics[1]\n",
    "temp['precision'] = temp_metrics[2]\n",
    "temp['recall'] = temp_metrics[3]\n",
    "all_metrics.append(temp)"
   ]
  },
  {
   "cell_type": "code",
   "execution_count": 107,
   "metadata": {},
   "outputs": [
    {
     "name": "stdout",
     "output_type": "stream",
     "text": [
      "IOU: 0.12770211253806787\n",
      "Accuracy: 0.9886977178818193\n",
      "Precision: 0.1356087617395107\n",
      "Recall: 0.6865447793172403\n"
     ]
    }
   ],
   "source": [
    "temp = {}\n",
    "temp['experiment'] = \"m_3807536_se\"\n",
    "temp['model'] = \"sup\"\n",
    "temp['sampling'] = 'uneven'\n",
    "temp_metrics = get_metrics(\"../landcover_scripts/m_3807536_se_18_1_20170611_sup_uneven_best.tif\")\n",
    "temp['iou'] = temp_metrics[0]\n",
    "temp['acc'] = temp_metrics[1]\n",
    "temp['precision'] = temp_metrics[2]\n",
    "temp['recall'] = temp_metrics[3]\n",
    "all_metrics.append(temp)"
   ]
  },
  {
   "cell_type": "code",
   "execution_count": 108,
   "metadata": {},
   "outputs": [],
   "source": [
    "df = pd.DataFrame(all_metrics)"
   ]
  },
  {
   "cell_type": "code",
   "execution_count": 109,
   "metadata": {},
   "outputs": [],
   "source": [
    "df.to_csv(\"./chesapeake_run_res.csv\")"
   ]
  },
  {
   "cell_type": "code",
   "execution_count": 111,
   "metadata": {},
   "outputs": [
    {
     "data": {
      "text/html": [
       "<div>\n",
       "<style scoped>\n",
       "    .dataframe tbody tr th:only-of-type {\n",
       "        vertical-align: middle;\n",
       "    }\n",
       "\n",
       "    .dataframe tbody tr th {\n",
       "        vertical-align: top;\n",
       "    }\n",
       "\n",
       "    .dataframe thead th {\n",
       "        text-align: right;\n",
       "    }\n",
       "</style>\n",
       "<table border=\"1\" class=\"dataframe\">\n",
       "  <thead>\n",
       "    <tr style=\"text-align: right;\">\n",
       "      <th></th>\n",
       "      <th></th>\n",
       "      <th>iou</th>\n",
       "      <th>acc</th>\n",
       "      <th>precision</th>\n",
       "      <th>recall</th>\n",
       "    </tr>\n",
       "    <tr>\n",
       "      <th>model</th>\n",
       "      <th>sampling</th>\n",
       "      <th></th>\n",
       "      <th></th>\n",
       "      <th></th>\n",
       "      <th></th>\n",
       "    </tr>\n",
       "  </thead>\n",
       "  <tbody>\n",
       "    <tr>\n",
       "      <th rowspan=\"2\" valign=\"top\">ae</th>\n",
       "      <th>even</th>\n",
       "      <td>0.164109</td>\n",
       "      <td>0.002837</td>\n",
       "      <td>0.179552</td>\n",
       "      <td>0.067042</td>\n",
       "    </tr>\n",
       "    <tr>\n",
       "      <th>uneven</th>\n",
       "      <td>0.138394</td>\n",
       "      <td>0.003152</td>\n",
       "      <td>0.147348</td>\n",
       "      <td>0.070514</td>\n",
       "    </tr>\n",
       "    <tr>\n",
       "      <th rowspan=\"2\" valign=\"top\">sup</th>\n",
       "      <th>even</th>\n",
       "      <td>0.143557</td>\n",
       "      <td>0.002500</td>\n",
       "      <td>0.151036</td>\n",
       "      <td>0.124916</td>\n",
       "    </tr>\n",
       "    <tr>\n",
       "      <th>uneven</th>\n",
       "      <td>0.126227</td>\n",
       "      <td>0.003941</td>\n",
       "      <td>0.139705</td>\n",
       "      <td>0.172338</td>\n",
       "    </tr>\n",
       "  </tbody>\n",
       "</table>\n",
       "</div>"
      ],
      "text/plain": [
       "                     iou       acc  precision    recall\n",
       "model sampling                                         \n",
       "ae    even      0.164109  0.002837   0.179552  0.067042\n",
       "      uneven    0.138394  0.003152   0.147348  0.070514\n",
       "sup   even      0.143557  0.002500   0.151036  0.124916\n",
       "      uneven    0.126227  0.003941   0.139705  0.172338"
      ]
     },
     "execution_count": 111,
     "metadata": {},
     "output_type": "execute_result"
    }
   ],
   "source": [
    "df.groupby(['model', 'sampling']).std()"
   ]
  },
  {
   "cell_type": "code",
   "execution_count": 116,
   "metadata": {},
   "outputs": [
    {
     "data": {
      "image/png": "[encoded data removed]",
      "text/plain": [
       "<Figure size 1440x720 with 1 Axes>"
      ]
     },
     "metadata": {
      "needs_background": "light"
     },
     "output_type": "display_data"
    }
   ],
   "source": [
    "plot_tile(\"../landcover_scripts/m_3807518_se_18_1_20170611_ae_even_best.tif\")"
   ]
  },
  {
   "cell_type": "code",
   "execution_count": 117,
   "metadata": {},
   "outputs": [
    {
     "data": {
      "image/png": "[encoded data removed]",
      "text/plain": [
       "<Figure size 1440x720 with 1 Axes>"
      ]
     },
     "metadata": {
      "needs_background": "light"
     },
     "output_type": "display_data"
    }
   ],
   "source": [
    "plot_tile(\"./m_3807518_se_18_1_201700611_rasterized.tif\")"
   ]
  },
  {
   "cell_type": "code",
   "execution_count": 118,
   "metadata": {},
   "outputs": [
    {
     "ename": "TypeError",
     "evalue": "Image data of dtype <U90 cannot be converted to float",
     "output_type": "error",
     "traceback": [
      "\u001b[0;31m---------------------------------------------------------------------------\u001b[0m",
      "\u001b[0;31mTypeError\u001b[0m                                 Traceback (most recent call last)",
      "\u001b[0;32m<ipython-input-118-a4134d8c1f04>\u001b[0m in \u001b[0;36m<module>\u001b[0;34m\u001b[0m\n\u001b[0;32m----> 1\u001b[0;31m \u001b[0mplt\u001b[0m\u001b[0;34m.\u001b[0m\u001b[0mimshow\u001b[0m\u001b[0;34m(\u001b[0m\u001b[0;34m\"../../../media/disk2/datasets/maaryland_naip_2017/38075/m_3807518_se_18_1_20170611.200.jpg\"\u001b[0m\u001b[0;34m)\u001b[0m\u001b[0;34m\u001b[0m\u001b[0;34m\u001b[0m\u001b[0m\n\u001b[0m",
      "\u001b[0;32m~/anaconda3/envs/ai4e/lib/python3.6/site-packages/matplotlib/pyplot.py\u001b[0m in \u001b[0;36mimshow\u001b[0;34m(X, cmap, norm, aspect, interpolation, alpha, vmin, vmax, origin, extent, shape, filternorm, filterrad, imlim, resample, url, data, **kwargs)\u001b[0m\n\u001b[1;32m   2675\u001b[0m         \u001b[0mfilternorm\u001b[0m\u001b[0;34m=\u001b[0m\u001b[0mfilternorm\u001b[0m\u001b[0;34m,\u001b[0m \u001b[0mfilterrad\u001b[0m\u001b[0;34m=\u001b[0m\u001b[0mfilterrad\u001b[0m\u001b[0;34m,\u001b[0m \u001b[0mimlim\u001b[0m\u001b[0;34m=\u001b[0m\u001b[0mimlim\u001b[0m\u001b[0;34m,\u001b[0m\u001b[0;34m\u001b[0m\u001b[0;34m\u001b[0m\u001b[0m\n\u001b[1;32m   2676\u001b[0m         resample=resample, url=url, **({\"data\": data} if data is not\n\u001b[0;32m-> 2677\u001b[0;31m         None else {}), **kwargs)\n\u001b[0m\u001b[1;32m   2678\u001b[0m     \u001b[0msci\u001b[0m\u001b[0;34m(\u001b[0m\u001b[0m__ret\u001b[0m\u001b[0;34m)\u001b[0m\u001b[0;34m\u001b[0m\u001b[0;34m\u001b[0m\u001b[0m\n\u001b[1;32m   2679\u001b[0m     \u001b[0;32mreturn\u001b[0m \u001b[0m__ret\u001b[0m\u001b[0;34m\u001b[0m\u001b[0;34m\u001b[0m\u001b[0m\n",
      "\u001b[0;32m~/anaconda3/envs/ai4e/lib/python3.6/site-packages/matplotlib/__init__.py\u001b[0m in \u001b[0;36minner\u001b[0;34m(ax, data, *args, **kwargs)\u001b[0m\n\u001b[1;32m   1597\u001b[0m     \u001b[0;32mdef\u001b[0m \u001b[0minner\u001b[0m\u001b[0;34m(\u001b[0m\u001b[0max\u001b[0m\u001b[0;34m,\u001b[0m \u001b[0;34m*\u001b[0m\u001b[0margs\u001b[0m\u001b[0;34m,\u001b[0m \u001b[0mdata\u001b[0m\u001b[0;34m=\u001b[0m\u001b[0;32mNone\u001b[0m\u001b[0;34m,\u001b[0m \u001b[0;34m**\u001b[0m\u001b[0mkwargs\u001b[0m\u001b[0;34m)\u001b[0m\u001b[0;34m:\u001b[0m\u001b[0;34m\u001b[0m\u001b[0;34m\u001b[0m\u001b[0m\n\u001b[1;32m   1598\u001b[0m         \u001b[0;32mif\u001b[0m \u001b[0mdata\u001b[0m \u001b[0;32mis\u001b[0m \u001b[0;32mNone\u001b[0m\u001b[0;34m:\u001b[0m\u001b[0;34m\u001b[0m\u001b[0;34m\u001b[0m\u001b[0m\n\u001b[0;32m-> 1599\u001b[0;31m             \u001b[0;32mreturn\u001b[0m \u001b[0mfunc\u001b[0m\u001b[0;34m(\u001b[0m\u001b[0max\u001b[0m\u001b[0;34m,\u001b[0m \u001b[0;34m*\u001b[0m\u001b[0mmap\u001b[0m\u001b[0;34m(\u001b[0m\u001b[0msanitize_sequence\u001b[0m\u001b[0;34m,\u001b[0m \u001b[0margs\u001b[0m\u001b[0;34m)\u001b[0m\u001b[0;34m,\u001b[0m \u001b[0;34m**\u001b[0m\u001b[0mkwargs\u001b[0m\u001b[0;34m)\u001b[0m\u001b[0;34m\u001b[0m\u001b[0;34m\u001b[0m\u001b[0m\n\u001b[0m\u001b[1;32m   1600\u001b[0m \u001b[0;34m\u001b[0m\u001b[0m\n\u001b[1;32m   1601\u001b[0m         \u001b[0mbound\u001b[0m \u001b[0;34m=\u001b[0m \u001b[0mnew_sig\u001b[0m\u001b[0;34m.\u001b[0m\u001b[0mbind\u001b[0m\u001b[0;34m(\u001b[0m\u001b[0max\u001b[0m\u001b[0;34m,\u001b[0m \u001b[0;34m*\u001b[0m\u001b[0margs\u001b[0m\u001b[0;34m,\u001b[0m \u001b[0;34m**\u001b[0m\u001b[0mkwargs\u001b[0m\u001b[0;34m)\u001b[0m\u001b[0;34m\u001b[0m\u001b[0;34m\u001b[0m\u001b[0m\n",
      "\u001b[0;32m~/anaconda3/envs/ai4e/lib/python3.6/site-packages/matplotlib/cbook/deprecation.py\u001b[0m in \u001b[0;36mwrapper\u001b[0;34m(*args, **kwargs)\u001b[0m\n\u001b[1;32m    367\u001b[0m                 \u001b[0;34mf\"%(removal)s.  If any parameter follows {name!r}, they \"\u001b[0m\u001b[0;34m\u001b[0m\u001b[0;34m\u001b[0m\u001b[0m\n\u001b[1;32m    368\u001b[0m                 f\"should be pass as keyword, not positionally.\")\n\u001b[0;32m--> 369\u001b[0;31m         \u001b[0;32mreturn\u001b[0m \u001b[0mfunc\u001b[0m\u001b[0;34m(\u001b[0m\u001b[0;34m*\u001b[0m\u001b[0margs\u001b[0m\u001b[0;34m,\u001b[0m \u001b[0;34m**\u001b[0m\u001b[0mkwargs\u001b[0m\u001b[0;34m)\u001b[0m\u001b[0;34m\u001b[0m\u001b[0;34m\u001b[0m\u001b[0m\n\u001b[0m\u001b[1;32m    370\u001b[0m \u001b[0;34m\u001b[0m\u001b[0m\n\u001b[1;32m    371\u001b[0m     \u001b[0;32mreturn\u001b[0m \u001b[0mwrapper\u001b[0m\u001b[0;34m\u001b[0m\u001b[0;34m\u001b[0m\u001b[0m\n",
      "\u001b[0;32m~/anaconda3/envs/ai4e/lib/python3.6/site-packages/matplotlib/cbook/deprecation.py\u001b[0m in \u001b[0;36mwrapper\u001b[0;34m(*args, **kwargs)\u001b[0m\n\u001b[1;32m    367\u001b[0m                 \u001b[0;34mf\"%(removal)s.  If any parameter follows {name!r}, they \"\u001b[0m\u001b[0;34m\u001b[0m\u001b[0;34m\u001b[0m\u001b[0m\n\u001b[1;32m    368\u001b[0m                 f\"should be pass as keyword, not positionally.\")\n\u001b[0;32m--> 369\u001b[0;31m         \u001b[0;32mreturn\u001b[0m \u001b[0mfunc\u001b[0m\u001b[0;34m(\u001b[0m\u001b[0;34m*\u001b[0m\u001b[0margs\u001b[0m\u001b[0;34m,\u001b[0m \u001b[0;34m**\u001b[0m\u001b[0mkwargs\u001b[0m\u001b[0;34m)\u001b[0m\u001b[0;34m\u001b[0m\u001b[0;34m\u001b[0m\u001b[0m\n\u001b[0m\u001b[1;32m    370\u001b[0m \u001b[0;34m\u001b[0m\u001b[0m\n\u001b[1;32m    371\u001b[0m     \u001b[0;32mreturn\u001b[0m \u001b[0mwrapper\u001b[0m\u001b[0;34m\u001b[0m\u001b[0;34m\u001b[0m\u001b[0m\n",
      "\u001b[0;32m~/anaconda3/envs/ai4e/lib/python3.6/site-packages/matplotlib/axes/_axes.py\u001b[0m in \u001b[0;36mimshow\u001b[0;34m(self, X, cmap, norm, aspect, interpolation, alpha, vmin, vmax, origin, extent, shape, filternorm, filterrad, imlim, resample, url, **kwargs)\u001b[0m\n\u001b[1;32m   5677\u001b[0m                               resample=resample, **kwargs)\n\u001b[1;32m   5678\u001b[0m \u001b[0;34m\u001b[0m\u001b[0m\n\u001b[0;32m-> 5679\u001b[0;31m         \u001b[0mim\u001b[0m\u001b[0;34m.\u001b[0m\u001b[0mset_data\u001b[0m\u001b[0;34m(\u001b[0m\u001b[0mX\u001b[0m\u001b[0;34m)\u001b[0m\u001b[0;34m\u001b[0m\u001b[0;34m\u001b[0m\u001b[0m\n\u001b[0m\u001b[1;32m   5680\u001b[0m         \u001b[0mim\u001b[0m\u001b[0;34m.\u001b[0m\u001b[0mset_alpha\u001b[0m\u001b[0;34m(\u001b[0m\u001b[0malpha\u001b[0m\u001b[0;34m)\u001b[0m\u001b[0;34m\u001b[0m\u001b[0;34m\u001b[0m\u001b[0m\n\u001b[1;32m   5681\u001b[0m         \u001b[0;32mif\u001b[0m \u001b[0mim\u001b[0m\u001b[0;34m.\u001b[0m\u001b[0mget_clip_path\u001b[0m\u001b[0;34m(\u001b[0m\u001b[0;34m)\u001b[0m \u001b[0;32mis\u001b[0m \u001b[0;32mNone\u001b[0m\u001b[0;34m:\u001b[0m\u001b[0;34m\u001b[0m\u001b[0;34m\u001b[0m\u001b[0m\n",
      "\u001b[0;32m~/anaconda3/envs/ai4e/lib/python3.6/site-packages/matplotlib/image.py\u001b[0m in \u001b[0;36mset_data\u001b[0;34m(self, A)\u001b[0m\n\u001b[1;32m    683\u001b[0m                 not np.can_cast(self._A.dtype, float, \"same_kind\")):\n\u001b[1;32m    684\u001b[0m             raise TypeError(\"Image data of dtype {} cannot be converted to \"\n\u001b[0;32m--> 685\u001b[0;31m                             \"float\".format(self._A.dtype))\n\u001b[0m\u001b[1;32m    686\u001b[0m \u001b[0;34m\u001b[0m\u001b[0m\n\u001b[1;32m    687\u001b[0m         if not (self._A.ndim == 2\n",
      "\u001b[0;31mTypeError\u001b[0m: Image data of dtype <U90 cannot be converted to float"
     ]
    },
    {
     "data": {
      "image/png": "[encoded data removed]",
      "text/plain": [
       "<Figure size 1440x720 with 1 Axes>"
      ]
     },
     "metadata": {
      "needs_background": "light"
     },
     "output_type": "display_data"
    }
   ],
   "source": [
    "plt.imshow(\"../../../media/disk2/datasets/maaryland_naip_2017/38075/m_3807518_se_18_1_20170611.200.jpg\")"
   ]
  },
  {
   "cell_type": "code",
   "execution_count": null,
   "metadata": {},
   "outputs": [],
   "source": []
  }
 ],
 "metadata": {
  "kernelspec": {
   "display_name": "ai4e",
   "language": "python",
   "name": "ai4e"
  },
  "language_info": {
   "codemirror_mode": {
    "name": "ipython",
    "version": 3
   },
   "file_extension": ".py",
   "mimetype": "text/x-python",
   "name": "python",
   "nbconvert_exporter": "python",
   "pygments_lexer": "ipython3",
   "version": "3.6.7"
  }
 },
 "nbformat": 4,
 "nbformat_minor": 4
}
