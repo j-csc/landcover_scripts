{
 "cells": [
  {
   "cell_type": "code",
   "execution_count": 1,
   "metadata": {},
   "outputs": [],
   "source": [
    "import numpy as np\n",
    "import pandas as pd\n",
    "import glob\n",
    "import json\n"
   ]
  },
  {
   "cell_type": "code",
   "execution_count": 2,
   "metadata": {
    "scrolled": false
   },
   "outputs": [
    {
     "data": {
      "text/plain": [
       "['../metrics_folder/exp3_exp/random', '../metrics_folder/exp3_exp/balanced']"
      ]
     },
     "execution_count": 2,
     "metadata": {},
     "output_type": "execute_result"
    }
   ],
   "source": [
    "mf = glob.glob('../metrics_folder/exp3_exp/*')\n",
    "mf"
   ]
  },
  {
   "cell_type": "code",
   "execution_count": 3,
   "metadata": {},
   "outputs": [],
   "source": [
    "for folder in mf:\n",
    "    model_res_json_folder = (glob.glob(folder + \"/*\"))\n",
    "    data = {'tp': [],'tn': [],'fp': [],'fn': [],'iou': [],'recall': [],'precision': [],}\n",
    "    df_res = pd.DataFrame(data)\n",
    "    for model_res_json_path in model_res_json_folder:\n",
    "        with open(model_res_json_path, 'r') as j:\n",
    "            contents = json.loads(j.read())\n",
    "            df = pd.DataFrame.from_dict(contents)\n",
    "        s = df.sum(axis=1)\n",
    "        fn = s['fn']\n",
    "        tn = s['TN']\n",
    "        tp = s['TP']\n",
    "        fp = s['FP']\n",
    "        recall = (tp/(tp+fn))\n",
    "        precision = tp / (tp + fp)\n",
    "        iou = tp /(tp + fn + fp)\n",
    "        name = model_res_json_path.split('/')[4].split('.json')[0]\n",
    "        new_row = pd.Series({'tp':tp,'tn':tn,'fp':fp,'fn':fn,'iou':iou,'recall':recall,'precision': precision}, name=name)\n",
    "        df_res = df_res.append(new_row)\n",
    "        \n",
    "    fs = folder.split('/')\n",
    "    csv_name = fs[3] + \"_\" + fs[2]\n",
    "    df_res.to_csv(f'./{csv_name}.csv')\n"
   ]
  },
  {
   "cell_type": "code",
   "execution_count": 4,
   "metadata": {},
   "outputs": [
    {
     "data": {
      "text/html": [
       "<div>\n",
       "<style scoped>\n",
       "    .dataframe tbody tr th:only-of-type {\n",
       "        vertical-align: middle;\n",
       "    }\n",
       "\n",
       "    .dataframe tbody tr th {\n",
       "        vertical-align: top;\n",
       "    }\n",
       "\n",
       "    .dataframe thead th {\n",
       "        text-align: right;\n",
       "    }\n",
       "</style>\n",
       "<table border=\"1\" class=\"dataframe\">\n",
       "  <thead>\n",
       "    <tr style=\"text-align: right;\">\n",
       "      <th></th>\n",
       "      <th>Accuracy</th>\n",
       "      <th>FP</th>\n",
       "      <th>IOU</th>\n",
       "      <th>Precision</th>\n",
       "      <th>Recall</th>\n",
       "      <th>TN</th>\n",
       "      <th>TP</th>\n",
       "      <th>fn</th>\n",
       "    </tr>\n",
       "  </thead>\n",
       "  <tbody>\n",
       "    <tr>\n",
       "      <th>count</th>\n",
       "      <td>4992.000000</td>\n",
       "      <td>4992.000000</td>\n",
       "      <td>4992.000000</td>\n",
       "      <td>4992.000000</td>\n",
       "      <td>4992.000000</td>\n",
       "      <td>4992.000000</td>\n",
       "      <td>4992.000000</td>\n",
       "      <td>4992.000000</td>\n",
       "    </tr>\n",
       "    <tr>\n",
       "      <th>mean</th>\n",
       "      <td>0.998962</td>\n",
       "      <td>67.962540</td>\n",
       "      <td>0.999872</td>\n",
       "      <td>0.999901</td>\n",
       "      <td>0.999964</td>\n",
       "      <td>65466.658854</td>\n",
       "      <td>1.317708</td>\n",
       "      <td>0.060897</td>\n",
       "    </tr>\n",
       "    <tr>\n",
       "      <th>std</th>\n",
       "      <td>0.007409</td>\n",
       "      <td>485.526456</td>\n",
       "      <td>0.004558</td>\n",
       "      <td>0.003625</td>\n",
       "      <td>0.001480</td>\n",
       "      <td>489.452451</td>\n",
       "      <td>54.158279</td>\n",
       "      <td>2.492686</td>\n",
       "    </tr>\n",
       "    <tr>\n",
       "      <th>min</th>\n",
       "      <td>0.864990</td>\n",
       "      <td>0.000000</td>\n",
       "      <td>0.817374</td>\n",
       "      <td>0.823881</td>\n",
       "      <td>0.919441</td>\n",
       "      <td>56688.000000</td>\n",
       "      <td>0.000000</td>\n",
       "      <td>0.000000</td>\n",
       "    </tr>\n",
       "    <tr>\n",
       "      <th>25%</th>\n",
       "      <td>1.000000</td>\n",
       "      <td>0.000000</td>\n",
       "      <td>1.000000</td>\n",
       "      <td>1.000000</td>\n",
       "      <td>1.000000</td>\n",
       "      <td>65536.000000</td>\n",
       "      <td>0.000000</td>\n",
       "      <td>0.000000</td>\n",
       "    </tr>\n",
       "    <tr>\n",
       "      <th>50%</th>\n",
       "      <td>1.000000</td>\n",
       "      <td>0.000000</td>\n",
       "      <td>1.000000</td>\n",
       "      <td>1.000000</td>\n",
       "      <td>1.000000</td>\n",
       "      <td>65536.000000</td>\n",
       "      <td>0.000000</td>\n",
       "      <td>0.000000</td>\n",
       "    </tr>\n",
       "    <tr>\n",
       "      <th>75%</th>\n",
       "      <td>1.000000</td>\n",
       "      <td>0.000000</td>\n",
       "      <td>1.000000</td>\n",
       "      <td>1.000000</td>\n",
       "      <td>1.000000</td>\n",
       "      <td>65536.000000</td>\n",
       "      <td>0.000000</td>\n",
       "      <td>0.000000</td>\n",
       "    </tr>\n",
       "    <tr>\n",
       "      <th>max</th>\n",
       "      <td>1.000000</td>\n",
       "      <td>8848.000000</td>\n",
       "      <td>1.000000</td>\n",
       "      <td>1.000000</td>\n",
       "      <td>1.000000</td>\n",
       "      <td>65536.000000</td>\n",
       "      <td>3305.000000</td>\n",
       "      <td>121.000000</td>\n",
       "    </tr>\n",
       "  </tbody>\n",
       "</table>\n",
       "</div>"
      ],
      "text/plain": [
       "          Accuracy           FP          IOU    Precision       Recall  \\\n",
       "count  4992.000000  4992.000000  4992.000000  4992.000000  4992.000000   \n",
       "mean      0.998962    67.962540     0.999872     0.999901     0.999964   \n",
       "std       0.007409   485.526456     0.004558     0.003625     0.001480   \n",
       "min       0.864990     0.000000     0.817374     0.823881     0.919441   \n",
       "25%       1.000000     0.000000     1.000000     1.000000     1.000000   \n",
       "50%       1.000000     0.000000     1.000000     1.000000     1.000000   \n",
       "75%       1.000000     0.000000     1.000000     1.000000     1.000000   \n",
       "max       1.000000  8848.000000     1.000000     1.000000     1.000000   \n",
       "\n",
       "                 TN           TP           fn  \n",
       "count   4992.000000  4992.000000  4992.000000  \n",
       "mean   65466.658854     1.317708     0.060897  \n",
       "std      489.452451    54.158279     2.492686  \n",
       "min    56688.000000     0.000000     0.000000  \n",
       "25%    65536.000000     0.000000     0.000000  \n",
       "50%    65536.000000     0.000000     0.000000  \n",
       "75%    65536.000000     0.000000     0.000000  \n",
       "max    65536.000000  3305.000000   121.000000  "
      ]
     },
     "execution_count": 4,
     "metadata": {},
     "output_type": "execute_result"
    }
   ],
   "source": [
    "df.T.describe()"
   ]
  },
  {
   "cell_type": "code",
   "execution_count": null,
   "metadata": {},
   "outputs": [],
   "source": []
  }
 ],
 "metadata": {
  "kernelspec": {
   "display_name": "Python 3",
   "language": "python",
   "name": "python3"
  },
  "language_info": {
   "codemirror_mode": {
    "name": "ipython",
    "version": 3
   },
   "file_extension": ".py",
   "mimetype": "text/x-python",
   "name": "python",
   "nbconvert_exporter": "python",
   "pygments_lexer": "ipython3",
   "version": "3.7.3"
  }
 },
 "nbformat": 4,
 "nbformat_minor": 2
}
