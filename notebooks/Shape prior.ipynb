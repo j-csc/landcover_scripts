{
 "cells": [
  {
   "cell_type": "code",
   "execution_count": 1,
   "metadata": {},
   "outputs": [],
   "source": [
    "%matplotlib inline\n",
    "import sys, os, time\n",
    "os.environ['CUDA_VISIBLE_DEVICES'] = \"0\"\n",
    "import math\n",
    "\n",
    "import cv2\n",
    "import scipy.signal\n",
    "from skimage.transform import rotate\n",
    "\n",
    "import numpy as np\n",
    "import matplotlib\n",
    "import matplotlib.pyplot as plt\n",
    "\n",
    "import fiona\n",
    "import shapely.geometry\n",
    "import rasterio\n",
    "import rasterio.features\n",
    "\n",
    "import torch\n",
    "import torch.nn"
   ]
  },
  {
   "cell_type": "code",
   "execution_count": 2,
   "metadata": {},
   "outputs": [
    {
     "name": "stdout",
     "output_type": "stream",
     "text": [
      "[0 1]\n",
      "[  0 255]\n"
     ]
    },
    {
     "data": {
      "text/plain": [
       "(7586, 6110)"
      ]
     },
     "execution_count": 2,
     "metadata": {},
     "output_type": "execute_result"
    }
   ],
   "source": [
    "with rasterio.open(\"../test_inference_50.tif\") as f:\n",
    "    data = f.read().squeeze()\n",
    "    data_transform = f.transform\n",
    "    data_crs = f.crs\n",
    "print(np.unique(data))\n",
    "data -= 1\n",
    "print(np.unique(data))\n",
    "data.shape"
   ]
  },
  {
   "cell_type": "code",
   "execution_count": 3,
   "metadata": {},
   "outputs": [
    {
     "data": {
      "text/plain": [
       "<matplotlib.image.AxesImage at 0x7fb843070e10>"
      ]
     },
     "execution_count": 3,
     "metadata": {},
     "output_type": "execute_result"
    },
    {
     "data": {
      "image/png": "[encoded data removed]",
      "text/plain": [
       "<Figure size 432x288 with 1 Axes>"
      ]
     },
     "metadata": {
      "needs_background": "light"
     },
     "output_type": "display_data"
    }
   ],
   "source": [
    "plt.imshow(data[5000:5300, 5200:5400])"
   ]
  },
  {
   "cell_type": "code",
   "execution_count": 4,
   "metadata": {},
   "outputs": [],
   "source": [
    "import shapely.geometry\n",
    "import rasterio\n",
    "import rasterio.features\n",
    "import geopandas as gpd"
   ]
  },
  {
   "cell_type": "code",
   "execution_count": 5,
   "metadata": {},
   "outputs": [],
   "source": [
    "def extract_polygons(input_fn):\n",
    "    data = None\n",
    "    with rasterio.open(input_fn) as f:\n",
    "        data = f.read().squeeze()\n",
    "        data_transform = f.transform\n",
    "        data_crs = f.crs\n",
    "    mask = data == 1\n",
    "    polygons = list(\n",
    "        {'properties': {'raster_val': v}, 'geometry': s}\n",
    "        for i, (s, v) in enumerate(rasterio.features.shapes(data, mask=mask, transform=data_transform))\n",
    "    )\n",
    "    return polygons"
   ]
  },
  {
   "cell_type": "code",
   "execution_count": 6,
   "metadata": {},
   "outputs": [],
   "source": [
    "def post_processing(input_fn, area_thresh, aspect_ratio_thresh):\n",
    "    def get_side_lengths(shape):\n",
    "        def distance(pt1, pt2):\n",
    "            return math.sqrt((pt1[0] - pt2[0])**2 + (pt1[1] - pt2[1])**2)\n",
    "        xs, ys = shape.boundary.xy\n",
    "        pts = list(zip(xs, ys))\n",
    "        lengths = []\n",
    "        for i in range(len(pts)-1):\n",
    "            lengths.append(distance(pts[i], pts[i+1]))\n",
    "        assert len(lengths) == 4\n",
    "        return sorted(lengths)\n",
    "\n",
    "    polygons = extract_polygons(input_fn)\n",
    "    print(len(polygons))\n",
    "    \n",
    "#     Filter by shape\n",
    "    shape_area_threshold = area_thresh\n",
    "\n",
    "    polygons_filtered_by_size = []\n",
    "    for polygon in polygons:\n",
    "        shape = shapely.geometry.shape(polygon[\"geometry\"])\n",
    "\n",
    "        if shape.area > shape_area_threshold:\n",
    "            polygons_filtered_by_size.append(polygon)\n",
    "    \n",
    "    print(len(polygons_filtered_by_size))\n",
    "            \n",
    "    # Filter by aspect ratio\n",
    "    aspect_ratio_threshold = aspect_ratio_thresh\n",
    "\n",
    "    polygons_filtered_by_aspect_ratio = []\n",
    "    poly_list = []\n",
    "    for polygon in polygons_filtered_by_size:\n",
    "        shape = shapely.geometry.shape(polygon[\"geometry\"])\n",
    "\n",
    "\n",
    "        side_lengths = get_side_lengths(shape.minimum_rotated_rectangle)    \n",
    "        short_length = min(side_lengths)\n",
    "        long_length = max(side_lengths)\n",
    "\n",
    "        aspect_ratio = long_length / short_length\n",
    "        if aspect_ratio > aspect_ratio_threshold:\n",
    "            polygons_filtered_by_aspect_ratio.append(polygon)\n",
    "            poly_list.append(shape)\n",
    "\n",
    "    print(len(polygons_filtered_by_aspect_ratio))\n",
    "            \n",
    "    polys_gdf = gpd.GeoDataFrame(geometry=poly_list)\n",
    "    list_of_polygons = []\n",
    "    polygons_filtered_by_aspect_ratio_and_size = []\n",
    "\n",
    "    for i in range(len(polys_gdf)):\n",
    "        plt.close('all')\n",
    "        fig, ax = plt.subplots()\n",
    "        ax.axis('off')\n",
    "        polys_gdf.loc[[i],'geometry'].plot(ax = ax)\n",
    "        fig.canvas.draw()\n",
    "        arr = np.array(fig.canvas.renderer.buffer_rgba())[:,:,0]\n",
    "        arr[arr == 255] = 0\n",
    "        arr[arr == 31] = 1\n",
    "        list_of_polygons.append(arr)\n",
    "        polygons_filtered_by_aspect_ratio_and_size.append(polygons_filtered_by_aspect_ratio[i])\n",
    "    \n",
    "    return list_of_polygons, polygons_filtered_by_aspect_ratio_and_size, data_crs"
   ]
  },
  {
   "cell_type": "code",
   "execution_count": 7,
   "metadata": {
    "scrolled": true
   },
   "outputs": [
    {
     "name": "stdout",
     "output_type": "stream",
     "text": [
      "1432\n",
      "132\n",
      "127\n"
     ]
    },
    {
     "data": {
      "image/png": "[encoded data removed]",
      "text/plain": [
       "<Figure size 432x288 with 1 Axes>"
      ]
     },
     "metadata": {
      "needs_background": "light"
     },
     "output_type": "display_data"
    }
   ],
   "source": [
    "# lop,polygons_filtered_by_aspect_ratio_and_size,crs = post_processing(\"../test_inference_50.tif\", 525, 4)\n",
    "lop, polygons_filtered_by_aspect_ratio_and_size, crs = post_processing(\"../test_inference_50.tif\", 525, 4)"
   ]
  },
  {
   "cell_type": "code",
   "execution_count": 8,
   "metadata": {},
   "outputs": [
    {
     "data": {
      "text/plain": [
       "<matplotlib.image.AxesImage at 0x7fb8242749b0>"
      ]
     },
     "execution_count": 8,
     "metadata": {},
     "output_type": "execute_result"
    },
    {
     "data": {
      "image/png": "[encoded data removed]",
      "text/plain": [
       "<Figure size 432x288 with 1 Axes>"
      ]
     },
     "metadata": {
      "needs_background": "light"
     },
     "output_type": "display_data"
    }
   ],
   "source": [
    "plt.imshow(lop[7])"
   ]
  },
  {
   "cell_type": "code",
   "execution_count": 9,
   "metadata": {},
   "outputs": [
    {
     "data": {
      "text/plain": [
       "(1, 1, 288, 432)"
      ]
     },
     "execution_count": 9,
     "metadata": {},
     "output_type": "execute_result"
    }
   ],
   "source": [
    "test = lop[0]\n",
    "test[np.newaxis, np.newaxis, :, :].shape"
   ]
  },
  {
   "cell_type": "code",
   "execution_count": 10,
   "metadata": {},
   "outputs": [
    {
     "data": {
      "text/plain": [
       "<matplotlib.image.AxesImage at 0x7fb824626f28>"
      ]
     },
     "execution_count": 10,
     "metadata": {},
     "output_type": "execute_result"
    },
    {
     "data": {
      "image/png": "[encoded data removed]",
      "text/plain": [
       "<Figure size 432x288 with 1 Axes>"
      ]
     },
     "metadata": {
      "needs_background": "light"
     },
     "output_type": "display_data"
    }
   ],
   "source": [
    "plt.imshow(test)"
   ]
  },
  {
   "cell_type": "markdown",
   "metadata": {},
   "source": [
    "# Method 1"
   ]
  },
  {
   "cell_type": "code",
   "execution_count": 11,
   "metadata": {},
   "outputs": [],
   "source": [
    "def generate_rectangle(aspect_ratio, height, width, rotation, min_pixel=100):\n",
    "    redo = True\n",
    "    img = np.zeros((width, height), dtype=np.uint8)\n",
    "    while redo == True:\n",
    "        start_x = np.random.randint(width//2)\n",
    "        start_y = np.random.randint(height//2)\n",
    "\n",
    "        # Chooses from short side...\n",
    "        short_side = np.random.randint(height//3)\n",
    "        long_side  = short_side * aspect_ratio\n",
    "\n",
    "        end_y = int(start_y + short_side)\n",
    "        end_x = int(start_x + long_side)\n",
    "\n",
    "        # Get center\n",
    "        center_x = (max(start_x,end_x) - min(start_x, end_x)) / 2\n",
    "        center_y = (max(start_y,end_y) - min(start_y, end_y)) / 2\n",
    "\n",
    "        rec = cv2.rectangle(img, (start_x, start_y), (end_x, end_y), (10,10,10), -1)\n",
    "        img = rotate(image=img, angle=rotation)\n",
    "\n",
    "        area = short_side * long_side\n",
    "        percent_area = area / (height*width) \n",
    "        \n",
    "        # Make sure there's no empty images (at least 100 pixels are in img)\n",
    "        if np.count_nonzero(img) < (min_pixel) or percent_area < 0.1:\n",
    "            # reset\n",
    "            redo = True\n",
    "            img = np.zeros((width, height), dtype=np.uint8)\n",
    "        else:\n",
    "            redo = False\n",
    "                    \n",
    "    return img / img.sum()\n",
    "\n",
    "aspect_ratio = lambda: np.random.normal(loc=9.07, scale=1.71)\n",
    "\n",
    "pos_kernels = []\n",
    "for i in range(36):\n",
    "    rect = generate_rectangle(aspect_ratio(), 432, 288, np.random.randint(360), 800)\n",
    "    pos_kernels.append(rect)\n",
    "    \n",
    "neg_kernels = []\n",
    "for pos_kernel in pos_kernels:\n",
    "    neg_kernel = 1 - pos_kernel.copy()\n",
    "    neg_kernel = neg_kernel / (neg_kernel.sum() + 0.00001)\n",
    "    neg_kernels.append(neg_kernel)"
   ]
  },
  {
   "cell_type": "code",
   "execution_count": 12,
   "metadata": {},
   "outputs": [],
   "source": [
    "# Set up lop for torch\n",
    "torch_lop = []\n",
    "for p in lop:\n",
    "    data_torch = torch.from_numpy(p[np.newaxis, np.newaxis, :, :].astype(np.float16)).to(\"cuda\")\n",
    "    data_torch.require_grad = False\n",
    "    torch_lop.append(data_torch)\n",
    "\n",
    "pos_kernels = np.array(pos_kernels)\n",
    "pos_kernels = pos_kernels[:,np.newaxis,:,:]\n",
    "pos_kernels = torch.from_numpy(pos_kernels.astype(np.float16)).to(\"cuda\")\n",
    "pos_kernels.require_grad = False\n",
    "\n",
    "neg_kernels = np.array(neg_kernels)\n",
    "neg_kernels = neg_kernels[:,np.newaxis,:,:]\n",
    "neg_kernels = torch.from_numpy(neg_kernels.astype(np.float16)).to(\"cuda\")\n",
    "neg_kernels.require_grad = False"
   ]
  },
  {
   "cell_type": "code",
   "execution_count": 31,
   "metadata": {},
   "outputs": [],
   "source": [
    "filter_corrs_idx = []\n",
    "count = 0\n",
    "lop_final = []\n",
    "\n",
    "# Next step would be to filter by max activation, but rn this will suffice i hope\n",
    "\n",
    "for i in range(len(torch_lop)):\n",
    "    outputs_pos = torch.nn.functional.conv2d(torch_lop[i], pos_kernels, padding=25)\n",
    "\n",
    "    with torch.no_grad():\n",
    "        outputs_pos = outputs_pos.cpu().numpy().astype(np.float32)\n",
    "    outputs_pos = np.rollaxis(outputs_pos.squeeze(), 0, 3)\n",
    "    torch.cuda.empty_cache()\n",
    "\n",
    "    outputs_neg = torch.nn.functional.conv2d(1-data_torch, neg_kernels, padding=25)\n",
    "\n",
    "    with torch.no_grad():\n",
    "        outputs_neg = outputs_neg.cpu().numpy().astype(np.float32)\n",
    "    outputs_neg = np.rollaxis(outputs_neg.squeeze(), 0, 3)\n",
    "    torch.cuda.empty_cache()\n",
    "\n",
    "    if (outputs_pos.max()) > 0.3:\n",
    "        filter_corrs_idx.append(i)\n",
    "\n",
    "for i in range(len(lop)):\n",
    "    if (i in filter_corrs_idx):\n",
    "        lop_final.append(polygons_filtered_by_aspect_ratio_and_size[i])\n",
    "\n",
    "with fiona.open(\n",
    "    'test_m1.geojson', 'w',\n",
    "    driver=\"GeoJSON\",\n",
    "    crs= crs,\n",
    "    schema={'properties': [('raster_val', 'int')], 'geometry': 'Polygon'}\n",
    ") as dst:\n",
    "    dst.writerecords(lop_final)"
   ]
  },
  {
   "cell_type": "markdown",
   "metadata": {},
   "source": [
    "# Method 2"
   ]
  },
  {
   "cell_type": "code",
   "execution_count": 47,
   "metadata": {},
   "outputs": [],
   "source": [
    "def get_gt_training():\n",
    "    pol = []\n",
    "    polygons = extract_polygons('../binary_raster_md_tif/m_3807537_nw_18_1_20170611_inference_rasterized.tif')  \n",
    "    for polygon in polygons:\n",
    "        shape = shapely.geometry.shape(polygon[\"geometry\"])\n",
    "        pol.append(polygon)\n",
    "    return pol"
   ]
  },
  {
   "cell_type": "code",
   "execution_count": null,
   "metadata": {},
   "outputs": [],
   "source": [
    "# Ground truth as training set\n",
    "train_pol = get_gt_training()\n",
    "\n",
    "# Set up lop for torch\n",
    "torch_train_lop = []\n",
    "for p in train_pol:\n",
    "    data_torch = torch.from_numpy(p[np.newaxis, np.newaxis, :, :].astype(np.float16)).to(\"cuda\")\n",
    "    data_torch.require_grad = False\n",
    "    torch_lop.append(data_torch)"
   ]
  }
 ],
 "metadata": {
  "kernelspec": {
   "display_name": "Python 3",
   "language": "python",
   "name": "python3"
  },
  "language_info": {
   "codemirror_mode": {
    "name": "ipython",
    "version": 3
   },
   "file_extension": ".py",
   "mimetype": "text/x-python",
   "name": "python",
   "nbconvert_exporter": "python",
   "pygments_lexer": "ipython3",
   "version": "3.7.3"
  }
 },
 "nbformat": 4,
 "nbformat_minor": 2
}
