{
 "cells": [
  {
   "cell_type": "code",
   "execution_count": 14,
   "metadata": {},
   "outputs": [],
   "source": [
    "import pandas as pd\n",
    "import rasterio\n",
    "from rasterio.plot import show\n",
    "import matplotlib.pyplot as plt\n",
    "import numpy as np\n",
    "import fiona\n",
    "import matplotlib\n",
    "import glob\n",
    "import json\n",
    "import joblib\n",
    "import geopandas as gpd"
   ]
  },
  {
   "cell_type": "markdown",
   "metadata": {},
   "source": [
    "## Generate geojson from user labeled points"
   ]
  },
  {
   "cell_type": "code",
   "execution_count": 10,
   "metadata": {},
   "outputs": [],
   "source": [
    "def genGeoJson(in_dir,out_geo_path):\n",
    "    output = {\n",
    "        \"type\": \"FeatureCollection\",\n",
    "        \"name\": out_geo_path.split(\".\")[0],\n",
    "        \"crs\": { \"type\": \"name\", \"properties\": {\"name\":\"urn:ogc:def:crs:EPSG::3857\"}},\n",
    "        \"features\": []\n",
    "    }\n",
    "    fns = [\n",
    "        fn \n",
    "        for fn in glob.glob(in_dir + \"*.p\") \n",
    "        if \"request_list\" in fn\n",
    "        ]\n",
    "    fns = sorted(fns, key=lambda x: int(x.split(\"_\")[1]))\n",
    "    request_list = joblib.load(fns[-1])\n",
    "    for request in request_list:\n",
    "        if request[\"type\"] == \"correction\":\n",
    "            feature = {\n",
    "                \"type\": \"Feature\",\n",
    "                \"geometry\": {\n",
    "                    \"type\": \"Point\",\n",
    "                    \"coordinates\": None\n",
    "                },\n",
    "                \"properties\": { \"user_label\": (1 if request[\"value\"] == 4 else 0)}\n",
    "            }\n",
    "            xmin = request[\"extent\"][\"xmin\"]\n",
    "            xmax = request[\"extent\"][\"xmax\"]\n",
    "            ymin = request[\"extent\"][\"ymin\"]\n",
    "            ymax = request[\"extent\"][\"ymax\"]\n",
    "            polygon = [[xmin,ymax],[xmax,ymax],[xmax,ymin],[xmin,ymin],[xmin,ymax]]\n",
    "\n",
    "            point = [\n",
    "                (xmin+xmax)/2,\n",
    "                (ymin+ymax)/2\n",
    "            ]\n",
    "\n",
    "            feature[\"geometry\"][\"coordinates\"] = point\n",
    "\n",
    "            output[\"features\"].append(feature)\n",
    "    \n",
    "    with open(out_geo_path, \"w\") as f:\n",
    "        f.write(json.dumps(output))"
   ]
  },
  {
   "cell_type": "code",
   "execution_count": 11,
   "metadata": {},
   "outputs": [],
   "source": [
    "genGeoJson('../landcover-old/data/eqrepae1256/', './user_labeled.geojson')"
   ]
  },
  {
   "cell_type": "markdown",
   "metadata": {},
   "source": [
    "## User labeled points - m_3807537_ne"
   ]
  },
  {
   "cell_type": "code",
   "execution_count": 18,
   "metadata": {},
   "outputs": [],
   "source": [
    "user_gdf = gpd.read_file('./user_labeled.geojson')"
   ]
  },
  {
   "cell_type": "code",
   "execution_count": 22,
   "metadata": {},
   "outputs": [],
   "source": [
    "chicken_user_gdf = user_gdf[user_gdf.user_label == 1]"
   ]
  },
  {
   "cell_type": "code",
   "execution_count": 28,
   "metadata": {},
   "outputs": [],
   "source": [
    "non_chicken_gdf = user_gdf[user_gdf.user_label == 0]"
   ]
  },
  {
   "cell_type": "code",
   "execution_count": 29,
   "metadata": {},
   "outputs": [
    {
     "data": {
      "text/plain": [
       "<matplotlib.axes._subplots.AxesSubplot at 0x7f28bf96ff98>"
      ]
     },
     "execution_count": 29,
     "metadata": {},
     "output_type": "execute_result"
    },
    {
     "data": {
      "image/png": "[encoded data removed]",
      "text/plain": [
       "<Figure size 432x288 with 1 Axes>"
      ]
     },
     "metadata": {
      "needs_background": "light"
     },
     "output_type": "display_data"
    }
   ],
   "source": [
    "non_chicken_gdf.plot()"
   ]
  },
  {
   "cell_type": "code",
   "execution_count": 23,
   "metadata": {},
   "outputs": [
    {
     "data": {
      "text/plain": [
       "<matplotlib.axes._subplots.AxesSubplot at 0x7f28bb2a6f60>"
      ]
     },
     "execution_count": 23,
     "metadata": {},
     "output_type": "execute_result"
    },
    {
     "data": {
      "image/png": "[encoded data removed]",
      "text/plain": [
       "<Figure size 432x288 with 1 Axes>"
      ]
     },
     "metadata": {
      "needs_background": "light"
     },
     "output_type": "display_data"
    }
   ],
   "source": [
    "chicken_user_gdf.plot()"
   ]
  },
  {
   "cell_type": "code",
   "execution_count": 33,
   "metadata": {},
   "outputs": [],
   "source": [
    "non_chicken_gdf.to_file('non_chicken_user.geojson',driver=\"GeoJSON\")"
   ]
  },
  {
   "cell_type": "code",
   "execution_count": 32,
   "metadata": {},
   "outputs": [],
   "source": [
    "chicken_user_gdf.to_file('chicken_user.geojson',driver=\"GeoJSON\")"
   ]
  },
  {
   "cell_type": "markdown",
   "metadata": {},
   "source": [
    "## Ground truth"
   ]
  },
  {
   "cell_type": "code",
   "execution_count": 26,
   "metadata": {},
   "outputs": [],
   "source": [
    "gt_gdf = gpd.read_file('../landcover_scripts/binary_raster_md/m_3807537_ne_18_1_20170611_inference_rasterized.geojson')"
   ]
  },
  {
   "cell_type": "code",
   "execution_count": 27,
   "metadata": {},
   "outputs": [
    {
     "data": {
      "text/plain": [
       "<matplotlib.axes._subplots.AxesSubplot at 0x7f28bef9dd68>"
      ]
     },
     "execution_count": 27,
     "metadata": {},
     "output_type": "execute_result"
    },
    {
     "data": {
      "image/png": "[encoded data removed]",
      "text/plain": [
       "<Figure size 432x288 with 1 Axes>"
      ]
     },
     "metadata": {
      "needs_background": "light"
     },
     "output_type": "display_data"
    }
   ],
   "source": [
    "gt_gdf.plot()"
   ]
  },
  {
   "cell_type": "code",
   "execution_count": null,
   "metadata": {},
   "outputs": [],
   "source": []
  }
 ],
 "metadata": {
  "kernelspec": {
   "display_name": "ai4e",
   "language": "python",
   "name": "ai4e"
  },
  "language_info": {
   "codemirror_mode": {
    "name": "ipython",
    "version": 3
   },
   "file_extension": ".py",
   "mimetype": "text/x-python",
   "name": "python",
   "nbconvert_exporter": "python",
   "pygments_lexer": "ipython3",
   "version": "3.6.10"
  }
 },
 "nbformat": 4,
 "nbformat_minor": 2
}
