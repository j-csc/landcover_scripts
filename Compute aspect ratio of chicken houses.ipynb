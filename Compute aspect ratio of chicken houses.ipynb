{
 "cells": [
  {
   "cell_type": "code",
   "execution_count": 1,
   "metadata": {},
   "outputs": [],
   "source": [
    "%matplotlib inline\n",
    "import math\n",
    "import numpy as np\n",
    "import matplotlib.pyplot as plt\n",
    "\n",
    "import fiona\n",
    "import shapely\n",
    "import shapely.geometry\n",
    "import cv2"
   ]
  },
  {
   "cell_type": "code",
   "execution_count": 2,
   "metadata": {},
   "outputs": [],
   "source": [
    "def distance(pt1, pt2):\n",
    "    return math.sqrt((pt1[0] - pt2[0])**2 + (pt1[1] - pt2[1])**2)\n",
    "\n",
    "def get_side_lengths(shape):\n",
    "    xs, ys = shape.boundary.xy\n",
    "    pts = list(zip(xs, ys))\n",
    "    lengths = []\n",
    "    for i in range(len(pts)-1):\n",
    "        lengths.append(distance(pts[i], pts[i+1]))\n",
    "    assert len(lengths) == 4\n",
    "    return sorted(lengths)"
   ]
  },
  {
   "cell_type": "code",
   "execution_count": 3,
   "metadata": {},
   "outputs": [],
   "source": [
    "f = fiona.open(\"./Delmarva_PL_House_Final/Delmarva_PL_House_Final.shp\",\"r\")\n",
    "total_num = 0\n",
    "valid_num = 0\n",
    "\n",
    "side_lengths = []\n",
    "areas = []\n",
    "for row in f:\n",
    "    if row[\"geometry\"][\"type\"] == \"Polygon\":\n",
    "        shape = shapely.geometry.shape(row[\"geometry\"])\n",
    "        num_points = len(row[\"geometry\"][\"coordinates\"][0])\n",
    "        if num_points == 5:\n",
    "            side_lengths.append(get_side_lengths(shape))\n",
    "            areas.append(shape.area)\n",
    "            valid_num += 1\n",
    "    total_num += 1\n",
    "f.close()\n",
    "\n",
    "side_lengths = np.array(side_lengths)"
   ]
  },
  {
   "cell_type": "code",
   "execution_count": 4,
   "metadata": {},
   "outputs": [
    {
     "data": {
      "text/plain": [
       "(0.9363145989211763, 5381, 5747)"
      ]
     },
     "execution_count": 4,
     "metadata": {},
     "output_type": "execute_result"
    }
   ],
   "source": [
    "valid_num / total_num, valid_num, total_num"
   ]
  },
  {
   "cell_type": "code",
   "execution_count": 5,
   "metadata": {},
   "outputs": [
    {
     "data": {
      "text/plain": [
       "array([[ 14.15593787,  14.30949002, 151.09690676, 152.02926322],\n",
       "       [ 20.57984789,  22.52853343, 169.21989547, 170.90772434],\n",
       "       [ 21.59646681,  22.62536048, 170.66296132, 171.50185856],\n",
       "       ...,\n",
       "       [ 13.89065278,  15.57593536, 151.9792628 , 152.90058817],\n",
       "       [ 13.29517455,  16.07224468, 151.93127882, 154.41772488],\n",
       "       [ 14.53044854,  14.97881197, 151.72125519, 152.35183599]])"
      ]
     },
     "execution_count": 5,
     "metadata": {},
     "output_type": "execute_result"
    }
   ],
   "source": [
    "side_lengths"
   ]
  },
  {
   "cell_type": "code",
   "execution_count": 6,
   "metadata": {},
   "outputs": [],
   "source": [
    "short_sides = side_lengths[:,:2].mean(axis=1)\n",
    "long_sides = side_lengths[:,2:].mean(axis=1)"
   ]
  },
  {
   "cell_type": "code",
   "execution_count": 7,
   "metadata": {},
   "outputs": [
    {
     "data": {
      "text/plain": [
       "(16.504778354770394, 3.3814315169549136)"
      ]
     },
     "execution_count": 7,
     "metadata": {},
     "output_type": "execute_result"
    }
   ],
   "source": [
    "short_sides.mean(), short_sides.std()"
   ]
  },
  {
   "cell_type": "code",
   "execution_count": 8,
   "metadata": {},
   "outputs": [
    {
     "data": {
      "text/plain": [
       "(147.20164583861254, 26.644982676765707)"
      ]
     },
     "execution_count": 8,
     "metadata": {},
     "output_type": "execute_result"
    }
   ],
   "source": [
    "long_sides.mean(), long_sides.std()"
   ]
  },
  {
   "cell_type": "code",
   "execution_count": 9,
   "metadata": {},
   "outputs": [],
   "source": [
    "aspect_rations = long_sides / short_sides"
   ]
  },
  {
   "cell_type": "code",
   "execution_count": 10,
   "metadata": {},
   "outputs": [
    {
     "data": {
      "image/png": "[encoded data removed]",
      "text/plain": [
       "<Figure size 432x288 with 1 Axes>"
      ]
     },
     "metadata": {
      "needs_background": "light"
     },
     "output_type": "display_data"
    }
   ],
   "source": [
    "plt.figure()\n",
    "plt.hist(long_sides / short_sides,bins=20)\n",
    "plt.xlabel(\"Aspect ratio\", fontsize=18)\n",
    "plt.ylabel(\"Count (n=%d)\" % (long_sides.shape[0]), fontsize=18)\n",
    "plt.title(\"Average %0.2f +/- %0.2f\" % (aspect_rations.mean(), aspect_rations.std()), fontsize=16)\n",
    "plt.xticks(fontsize=14)\n",
    "plt.yticks(fontsize=14)\n",
    "plt.show()\n",
    "plt.close()"
   ]
  },
  {
   "cell_type": "markdown",
   "metadata": {},
   "source": [
    "# Generate Rec"
   ]
  },
  {
   "cell_type": "code",
   "execution_count": 11,
   "metadata": {},
   "outputs": [
    {
     "data": {
      "text/plain": [
       "array([10.64892371,  7.89005779,  7.73746452, ..., 10.34662885,\n",
       "       10.43159432, 10.30432772])"
      ]
     },
     "execution_count": 11,
     "metadata": {},
     "output_type": "execute_result"
    }
   ],
   "source": [
    "aspect_rations"
   ]
  },
  {
   "cell_type": "code",
   "execution_count": 102,
   "metadata": {
    "scrolled": true
   },
   "outputs": [],
   "source": [
    "def generate_rectangle(aspect_ratio, height, width, rotation):\n",
    "    redo = True\n",
    "    img = np.zeros((width, height), dtype=np.uint8)\n",
    "    \n",
    "    while redo == True:\n",
    "        start_x = np.random.randint(width//2)\n",
    "        start_y = np.random.randint(height//2)\n",
    "        \n",
    "        end_y = np.random.randint(height//2)\n",
    "        end_x = int(start_x + abs(aspect_ratio * abs(end_y - start_y)))\n",
    "        \n",
    "        w = (max(start_x,end_x) - min(start_x, end_x))\n",
    "        h = (max(start_y,end_y) - min(start_y, end_y))\n",
    "\n",
    "        # Ensure end_x is within bounds\n",
    "        while end_x == start_x or end_y == start_y or min(w,h) < min(short_sides):\n",
    "            end_y = np.random.randint(height//2)\n",
    "            end_x = int(start_x + abs(aspect_ratio * abs(end_y - start_y)))\n",
    "            w = (max(start_x,end_x) - min(start_x, end_x))\n",
    "            h = (max(start_y,end_y) - min(start_y, end_y))\n",
    "\n",
    "        # Get center\n",
    "        center_x = (max(start_x,end_x) - min(start_x, end_x)) / 2\n",
    "        center_y = (max(start_y,end_y) - min(start_y, end_y)) / 2\n",
    "\n",
    "#         print(start_x, start_y, end_x, end_y)\n",
    "#         print(\"Intended Aspect Ratio: {}. Obtained Aspect Ratio: {}\".format(aspect_ratio, (max(w,h)/ min(w,h))))\n",
    "\n",
    "        rec = cv2.rectangle(img, (start_x, start_y), (end_x, end_y), (255,255,255), -1)\n",
    "        rot_mat = cv2.getRotationMatrix2D((center_x, center_y), rotation, 1.0)\n",
    "        img = cv2.warpAffine(img, rot_mat, img.shape[1::-1], flags=cv2.INTER_LINEAR)  \n",
    "        # Make sure there's no empty images\n",
    "        if np.all(img == 0):\n",
    "            redo = True\n",
    "        else:\n",
    "            redo = False\n",
    "            \n",
    "    return img"
   ]
  },
  {
   "cell_type": "code",
   "execution_count": 103,
   "metadata": {},
   "outputs": [
    {
     "data": {
      "image/png": "[encoded data removed]",
      "text/plain": [
       "<Figure size 432x288 with 10 Axes>"
      ]
     },
     "metadata": {
      "needs_background": "light"
     },
     "output_type": "display_data"
    }
   ],
   "source": [
    "for i in range(10):\n",
    "    res = generate_rectangle(np.random.choice(aspect_rations), 50, 50, np.random.randint(360))\n",
    "    plt.subplot(2, 5, i+1)\n",
    "    plt.imshow(res)"
   ]
  },
  {
   "cell_type": "code",
   "execution_count": null,
   "metadata": {},
   "outputs": [],
   "source": [
    "def generate_rectangle(aspect_ratio, height, width, rotation):\n",
    "    redo = True\n",
    "    img = np.zeros((width*2, height*2), dtype=np.uint8)\n",
    "    \n",
    "    while redo == True:\n",
    "        start_x = np.random.randint(width//3)\n",
    "        start_y = np.random.randint(height//3)\n",
    "        \n",
    "        end_y = start_y + height//3 #~16 in this case\n",
    "        end_x = int(start_x + abs(aspect_ratio * abs(end_y - start_y)))\n",
    "        \n",
    "        w = (max(start_x,end_x) - min(start_x, end_x))\n",
    "        h = (max(start_y,end_y) - min(start_y, end_y))\n",
    "\n",
    "        # Ensure end_x is within bounds\n",
    "        while end_x == start_x or end_y == start_y or min(w,h) < min(short_sides):\n",
    "            end_y = np.random.randint(height//2)\n",
    "            end_x = int(start_x + abs(aspect_ratio * abs(end_y - start_y)))\n",
    "            w = (max(start_x,end_x) - min(start_x, end_x))\n",
    "            h = (max(start_y,end_y) - min(start_y, end_y))\n",
    "\n",
    "        # Get center\n",
    "        center_x = (max(start_x,end_x) - min(start_x, end_x)) / 2\n",
    "        center_y = (max(start_y,end_y) - min(start_y, end_y)) / 2\n",
    "\n",
    "#         print(start_x, start_y, end_x, end_y)\n",
    "#         print(\"Intended Aspect Ratio: {}. Obtained Aspect Ratio: {}\".format(aspect_ratio, (max(w,h)/ min(w,h))))\n",
    "\n",
    "        rec = cv2.rectangle(img, (start_x, start_y), (end_x, end_y), (255,255,255), -1)\n",
    "        rot_mat = cv2.getRotationMatrix2D((center_x, center_y), rotation, 1.0)\n",
    "        img = cv2.warpAffine(img, rot_mat, img.shape[1::-1], flags=cv2.INTER_LINEAR)  \n",
    "        # Make sure there's no empty images\n",
    "        if np.all(img == 0):\n",
    "            redo = True\n",
    "        else:\n",
    "            redo = False\n",
    "            \n",
    "    return img[:width, :height]\n",
    "\n",
    "for i in range(10):\n",
    "    res = generate_rectangle(np.random.choice(aspect_rations), 50, 50, np.random.randint(360))\n",
    "    plt.subplot(2, 5, i+1)\n",
    "    plt.imshow(res)"
   ]
  }
 ],
 "metadata": {
  "kernelspec": {
   "display_name": "Python 2",
   "language": "python",
   "name": "python2"
  },
  "language_info": {
   "codemirror_mode": {
    "name": "ipython",
    "version": 3
   },
   "file_extension": ".py",
   "mimetype": "text/x-python",
   "name": "python",
   "nbconvert_exporter": "python",
   "pygments_lexer": "ipython3",
   "version": "3.6.7"
  }
 },
 "nbformat": 4,
 "nbformat_minor": 2
}
